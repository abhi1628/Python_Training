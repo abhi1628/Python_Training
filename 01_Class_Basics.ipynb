{
  "nbformat": 4,
  "nbformat_minor": 0,
  "metadata": {
    "colab": {
      "name": "01. Class Basics.ipynb",
      "provenance": [],
      "authorship_tag": "ABX9TyOlxC4+GboB/coOl/bpl17A",
      "include_colab_link": true
    },
    "kernelspec": {
      "name": "python3",
      "display_name": "Python 3"
    },
    "language_info": {
      "name": "python"
    }
  },
  "cells": [
    {
      "cell_type": "markdown",
      "metadata": {
        "id": "view-in-github",
        "colab_type": "text"
      },
      "source": [
        "<a href=\"https://colab.research.google.com/github/abhi1628/Python_Training/blob/main/01_Class_Basics.ipynb\" target=\"_parent\"><img src=\"https://colab.research.google.com/assets/colab-badge.svg\" alt=\"Open In Colab\"/></a>"
      ]
    },
    {
      "cell_type": "code",
      "execution_count": null,
      "metadata": {
        "id": "at9sfozitSNl"
      },
      "outputs": [],
      "source": [
        "# What is an object?\n",
        "# Object is a container which contains\n",
        "# Data --> has state --> has attributes\n",
        "# functionality --> has behavior --> has methods"
      ]
    },
    {
      "cell_type": "code",
      "source": [
        "# my_car object has states-\n",
        "'''brand = Ferrari\n",
        "model = 599XX\n",
        "year = 2010'''\n",
        "\n",
        "# my_car object has behavior\n",
        "'''accelerate\n",
        "brake\n",
        "steer'''"
      ],
      "metadata": {
        "colab": {
          "base_uri": "https://localhost:8080/",
          "height": 35
        },
        "id": "lR6D1rPhuT43",
        "outputId": "5daf15eb-2ae8-4aa7-b6bd-5361f0761c09"
      },
      "execution_count": null,
      "outputs": [
        {
          "output_type": "execute_result",
          "data": {
            "application/vnd.google.colaboratory.intrinsic+json": {
              "type": "string"
            },
            "text/plain": [
              "'accelerate\\nbrake\\nsteer'"
            ]
          },
          "metadata": {},
          "execution_count": 3
        }
      ]
    },
    {
      "cell_type": "code",
      "source": [
        "# How to create objects?\n",
        "# A class is like a template used to create objects\n",
        "# Objects created from that class are called instances"
      ],
      "metadata": {
        "id": "5hY1rk03uFjx"
      },
      "execution_count": null,
      "outputs": []
    },
    {
      "cell_type": "code",
      "source": [
        "# Classes are themselves objects\n",
        "# classes have attributes (state)\n",
        "# classes have behavior\n",
        "# classes are callable"
      ],
      "metadata": {
        "id": "g9zksPrr0hDR"
      },
      "execution_count": null,
      "outputs": []
    },
    {
      "cell_type": "code",
      "source": [
        "class MyClass: # class creation\n",
        "  pass\n",
        "\n",
        "my_obj = MyClass() # instance creation"
      ],
      "metadata": {
        "id": "PVnUXOnr04_G"
      },
      "execution_count": null,
      "outputs": []
    },
    {
      "cell_type": "code",
      "source": [
        "type(MyClass)"
      ],
      "metadata": {
        "colab": {
          "base_uri": "https://localhost:8080/"
        },
        "id": "5uSVCifgAzk2",
        "outputId": "b96cea52-b0ba-420e-e37c-1e0d5fa4ab67"
      },
      "execution_count": null,
      "outputs": [
        {
          "output_type": "execute_result",
          "data": {
            "text/plain": [
              "type"
            ]
          },
          "metadata": {},
          "execution_count": 4
        }
      ]
    },
    {
      "cell_type": "code",
      "source": [
        "type(my_obj) # MyClass object is returned instead of string"
      ],
      "metadata": {
        "colab": {
          "base_uri": "https://localhost:8080/"
        },
        "id": "RW-NJLUL1Dge",
        "outputId": "cf2f981e-1523-435e-bc8f-36d1a036ce9e"
      },
      "execution_count": null,
      "outputs": [
        {
          "output_type": "execute_result",
          "data": {
            "text/plain": [
              "__main__.MyClass"
            ]
          },
          "metadata": {},
          "execution_count": 5
        }
      ]
    },
    {
      "cell_type": "code",
      "source": [
        "isinstance(my_obj, MyClass)"
      ],
      "metadata": {
        "colab": {
          "base_uri": "https://localhost:8080/"
        },
        "id": "6gvQOWA21gb2",
        "outputId": "2300e6d3-cedc-4cca-dae3-ac605769325e"
      },
      "execution_count": null,
      "outputs": [
        {
          "output_type": "execute_result",
          "data": {
            "text/plain": [
              "True"
            ]
          },
          "metadata": {},
          "execution_count": 10
        }
      ]
    },
    {
      "cell_type": "code",
      "source": [
        "type(MyClass)"
      ],
      "metadata": {
        "colab": {
          "base_uri": "https://localhost:8080/"
        },
        "id": "Idrsn5xg1pvX",
        "outputId": "6181818f-6e71-4e80-a21d-ad1252ee9091"
      },
      "execution_count": null,
      "outputs": [
        {
          "output_type": "execute_result",
          "data": {
            "text/plain": [
              "type"
            ]
          },
          "metadata": {},
          "execution_count": 12
        }
      ]
    },
    {
      "cell_type": "code",
      "source": [
        "# Python automatically provides us certain attributes and methods"
      ],
      "metadata": {
        "id": "wN8pnIPV18le"
      },
      "execution_count": null,
      "outputs": []
    },
    {
      "cell_type": "code",
      "source": [
        "MyClass.__name__ # state"
      ],
      "metadata": {
        "colab": {
          "base_uri": "https://localhost:8080/",
          "height": 35
        },
        "id": "Z9zUVytD2J_e",
        "outputId": "72b6b9df-0a64-4c4a-9ff9-77ffe7119b7e"
      },
      "execution_count": null,
      "outputs": [
        {
          "output_type": "execute_result",
          "data": {
            "application/vnd.google.colaboratory.intrinsic+json": {
              "type": "string"
            },
            "text/plain": [
              "'MyClass'"
            ]
          },
          "metadata": {},
          "execution_count": 14
        }
      ]
    },
    {
      "cell_type": "code",
      "source": [
        "MyClass() # returns an instance of MyClass (behavior)"
      ],
      "metadata": {
        "colab": {
          "base_uri": "https://localhost:8080/"
        },
        "id": "4dmn7Erb2Oxu",
        "outputId": "63204a45-c83b-4a1b-bdd0-3b01d1eb161d"
      },
      "execution_count": null,
      "outputs": [
        {
          "output_type": "execute_result",
          "data": {
            "text/plain": [
              "<__main__.MyClass at 0x7faf72fdce10>"
            ]
          },
          "metadata": {},
          "execution_count": 16
        }
      ]
    },
    {
      "cell_type": "code",
      "source": [
        "my_obj.__class__"
      ],
      "metadata": {
        "colab": {
          "base_uri": "https://localhost:8080/"
        },
        "id": "aO7LEIQD2Vsm",
        "outputId": "9b95451c-9158-4753-e438-ebecfad6c37d"
      },
      "execution_count": null,
      "outputs": [
        {
          "output_type": "execute_result",
          "data": {
            "text/plain": [
              "__main__.MyClass"
            ]
          },
          "metadata": {},
          "execution_count": 17
        }
      ]
    },
    {
      "cell_type": "code",
      "source": [
        "MyClass.__dict__"
      ],
      "metadata": {
        "id": "7wbYt58I6nyX",
        "colab": {
          "base_uri": "https://localhost:8080/"
        },
        "outputId": "fcd55179-605b-4dfc-d779-c95d4b7c5567"
      },
      "execution_count": null,
      "outputs": [
        {
          "output_type": "execute_result",
          "data": {
            "text/plain": [
              "mappingproxy({'__dict__': <attribute '__dict__' of 'MyClass' objects>,\n",
              "              '__doc__': None,\n",
              "              '__module__': '__main__',\n",
              "              '__weakref__': <attribute '__weakref__' of 'MyClass' objects>})"
            ]
          },
          "metadata": {},
          "execution_count": 6
        }
      ]
    },
    {
      "cell_type": "code",
      "source": [
        "my_obj.__dict__"
      ],
      "metadata": {
        "colab": {
          "base_uri": "https://localhost:8080/"
        },
        "id": "p4nxXD9uBj68",
        "outputId": "4b3ebecb-4823-48a6-f5ea-91ff6fdfc324"
      },
      "execution_count": null,
      "outputs": [
        {
          "output_type": "execute_result",
          "data": {
            "text/plain": [
              "{}"
            ]
          },
          "metadata": {},
          "execution_count": 7
        }
      ]
    },
    {
      "cell_type": "code",
      "source": [
        ""
      ],
      "metadata": {
        "id": "VaTwJ1HAB0ZM"
      },
      "execution_count": null,
      "outputs": []
    }
  ]
}