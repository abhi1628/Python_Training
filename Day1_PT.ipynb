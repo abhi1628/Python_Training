{
  "nbformat": 4,
  "nbformat_minor": 0,
  "metadata": {
    "colab": {
      "name": "Day1 PT.ipynb",
      "provenance": [],
      "authorship_tag": "ABX9TyNZrukND0LWsxlRLEsVUDN4",
      "include_colab_link": true
    },
    "kernelspec": {
      "name": "python3",
      "display_name": "Python 3"
    },
    "language_info": {
      "name": "python"
    }
  },
  "cells": [
    {
      "cell_type": "markdown",
      "metadata": {
        "id": "view-in-github",
        "colab_type": "text"
      },
      "source": [
        "<a href=\"https://colab.research.google.com/github/abhi1628/Python_Training/blob/main/Day1_PT.ipynb\" target=\"_parent\"><img src=\"https://colab.research.google.com/assets/colab-badge.svg\" alt=\"Open In Colab\"/></a>"
      ]
    },
    {
      "cell_type": "code",
      "execution_count": null,
      "metadata": {
        "colab": {
          "base_uri": "https://localhost:8080/"
        },
        "id": "B7pCM9nZoIGZ",
        "outputId": "c2ca349f-ada8-4687-ee46-ff7b26d299ce"
      },
      "outputs": [
        {
          "output_type": "stream",
          "name": "stdout",
          "text": [
            "3.7.13\n"
          ]
        }
      ],
      "source": [
        "from platform import python_version\n",
        "print(python_version())"
      ]
    },
    {
      "cell_type": "code",
      "source": [
        "a = 5\n",
        "print(a)"
      ],
      "metadata": {
        "colab": {
          "base_uri": "https://localhost:8080/"
        },
        "id": "lwPrm7PBqXnl",
        "outputId": "e0a18b23-a464-4526-945a-4b8c59de61ce"
      },
      "execution_count": null,
      "outputs": [
        {
          "output_type": "stream",
          "name": "stdout",
          "text": [
            "5\n"
          ]
        }
      ]
    },
    {
      "cell_type": "code",
      "source": [
        "print(id(a))"
      ],
      "metadata": {
        "colab": {
          "base_uri": "https://localhost:8080/"
        },
        "id": "hSDiFX06qi60",
        "outputId": "7e78485d-5625-45c3-d9c9-5bb779f3bd26"
      },
      "execution_count": null,
      "outputs": [
        {
          "output_type": "stream",
          "name": "stdout",
          "text": [
            "11256192\n"
          ]
        }
      ]
    },
    {
      "cell_type": "code",
      "source": [
        "a = 100\n",
        "b = 99 + 1\n",
        "print(id(a))\n",
        "print(id(b))"
      ],
      "metadata": {
        "colab": {
          "base_uri": "https://localhost:8080/"
        },
        "id": "iPzf4x17q5kE",
        "outputId": "9b5e88b7-ec7a-4250-cbb0-e8ce0b3ede7d"
      },
      "execution_count": null,
      "outputs": [
        {
          "output_type": "stream",
          "name": "stdout",
          "text": [
            "11259232\n",
            "11259232\n"
          ]
        }
      ]
    },
    {
      "cell_type": "code",
      "source": [
        "a = 100\n",
        "b = 99 + 1\n",
        "print(id(a))\n",
        "print(id(b))\n",
        "print(a == b)\n",
        "print(a is b)"
      ],
      "metadata": {
        "colab": {
          "base_uri": "https://localhost:8080/"
        },
        "id": "FXOKmzverccM",
        "outputId": "f4262817-c57e-4abc-96b0-5113c23be229"
      },
      "execution_count": null,
      "outputs": [
        {
          "output_type": "stream",
          "name": "stdout",
          "text": [
            "11259232\n",
            "11259232\n",
            "True\n",
            "True\n"
          ]
        }
      ]
    },
    {
      "cell_type": "code",
      "source": [
        "a = 102\n",
        "print(a)"
      ],
      "metadata": {
        "colab": {
          "base_uri": "https://localhost:8080/"
        },
        "id": "5cTWjmg3rf_z",
        "outputId": "815f26f2-36c5-48ab-9a27-a87c1108810e"
      },
      "execution_count": null,
      "outputs": [
        {
          "output_type": "stream",
          "name": "stdout",
          "text": [
            "102\n"
          ]
        }
      ]
    },
    {
      "cell_type": "code",
      "source": [
        "a = 257\n",
        "b = 256 + 1\n",
        "print(id(a))\n",
        "print(id(b))\n",
        "print(a == b)\n",
        "print(a is b)"
      ],
      "metadata": {
        "colab": {
          "base_uri": "https://localhost:8080/"
        },
        "id": "P6u21hmcrrmT",
        "outputId": "1eb1bdbb-7f9e-4062-b49e-f88270d9c9c5"
      },
      "execution_count": null,
      "outputs": [
        {
          "output_type": "stream",
          "name": "stdout",
          "text": [
            "140077691652336\n",
            "140077691653136\n",
            "True\n",
            "False\n"
          ]
        }
      ]
    },
    {
      "cell_type": "code",
      "source": [
        "print(type(a))"
      ],
      "metadata": {
        "colab": {
          "base_uri": "https://localhost:8080/"
        },
        "id": "m35iyIdQsjft",
        "outputId": "37bb8575-7bbb-405b-c69c-b5f644f270f9"
      },
      "execution_count": null,
      "outputs": [
        {
          "output_type": "stream",
          "name": "stdout",
          "text": [
            "<class 'int'>\n"
          ]
        }
      ]
    },
    {
      "cell_type": "markdown",
      "source": [
        "## Different Ways to give input in Python"
      ],
      "metadata": {
        "id": "Q8jSc1C3uLhk"
      }
    },
    {
      "cell_type": "code",
      "source": [
        "a = 5 # hardcode\n",
        "# For single line comment use single hash"
      ],
      "metadata": {
        "id": "kTfl894Wt2c1"
      },
      "execution_count": null,
      "outputs": []
    },
    {
      "cell_type": "code",
      "source": [
        "a = input()\n",
        "print(a)"
      ],
      "metadata": {
        "colab": {
          "base_uri": "https://localhost:8080/"
        },
        "id": "Vb0aLZZbutJE",
        "outputId": "94221035-83b9-4290-ab25-b64848ed640f"
      },
      "execution_count": null,
      "outputs": [
        {
          "output_type": "stream",
          "name": "stdout",
          "text": [
            "5\n",
            "5\n"
          ]
        }
      ]
    },
    {
      "cell_type": "code",
      "source": [
        "a = input('Enter a number:')\n",
        "print(a)"
      ],
      "metadata": {
        "colab": {
          "base_uri": "https://localhost:8080/"
        },
        "id": "Ml8eKv3Xuz1D",
        "outputId": "952b52ed-397a-4656-9d9e-9a3606252989"
      },
      "execution_count": null,
      "outputs": [
        {
          "output_type": "stream",
          "name": "stdout",
          "text": [
            "Enter a number:5\n",
            "5\n"
          ]
        }
      ]
    },
    {
      "cell_type": "code",
      "source": [
        "a = input('Enter a number:')\n",
        "print('Entered number is',a)"
      ],
      "metadata": {
        "colab": {
          "base_uri": "https://localhost:8080/"
        },
        "id": "fEpNozKjvIF9",
        "outputId": "406fd2e5-675e-4683-b4af-526f3cd9fc5b"
      },
      "execution_count": null,
      "outputs": [
        {
          "output_type": "stream",
          "name": "stdout",
          "text": [
            "Enter a number:5\n",
            "Entered number is 5\n"
          ]
        }
      ]
    },
    {
      "cell_type": "code",
      "source": [
        "a = input('Enter a number:')\n",
        "print(a,'is entered number')"
      ],
      "metadata": {
        "colab": {
          "base_uri": "https://localhost:8080/"
        },
        "id": "0w_BiErdvZB0",
        "outputId": "81c49cc6-d215-48a8-d5e1-5a807cbf89e9"
      },
      "execution_count": null,
      "outputs": [
        {
          "output_type": "stream",
          "name": "stdout",
          "text": [
            "Enter a number:5\n",
            "5 is entered number\n"
          ]
        }
      ]
    },
    {
      "cell_type": "code",
      "source": [
        "a = input('Enter 1st number:')\n",
        "b = input('Enter 2nd number:')\n",
        "print(a + b)"
      ],
      "metadata": {
        "colab": {
          "base_uri": "https://localhost:8080/"
        },
        "id": "6yIspdBWvu_U",
        "outputId": "c8bb772b-53fb-4864-9ff8-709eaca310f3"
      },
      "execution_count": null,
      "outputs": [
        {
          "output_type": "stream",
          "name": "stdout",
          "text": [
            "Enter 1st number:10\n",
            "Enter 2nd number:5\n",
            "105\n"
          ]
        }
      ]
    },
    {
      "cell_type": "code",
      "source": [
        "a = int(input('Enter 1st number:'))\n",
        "b = int(input('Enter 2nd number:'))\n",
        "print(a + b)"
      ],
      "metadata": {
        "colab": {
          "base_uri": "https://localhost:8080/"
        },
        "id": "_QDMvVI4wjtk",
        "outputId": "6c17a883-bd3a-48b3-b9dd-769115db0d2c"
      },
      "execution_count": null,
      "outputs": [
        {
          "output_type": "stream",
          "name": "stdout",
          "text": [
            "Enter 1st number:10\n",
            "Enter 2nd number:5\n",
            "15\n"
          ]
        }
      ]
    },
    {
      "cell_type": "code",
      "source": [
        "a = 5\n",
        "b = 6\n",
        "print(a, b)"
      ],
      "metadata": {
        "colab": {
          "base_uri": "https://localhost:8080/"
        },
        "id": "jX4kG3MJw82k",
        "outputId": "f1191ecc-f2c9-4b7c-e8ee-a37cca9258b7"
      },
      "execution_count": null,
      "outputs": [
        {
          "output_type": "stream",
          "name": "stdout",
          "text": [
            "5 6\n"
          ]
        }
      ]
    },
    {
      "cell_type": "code",
      "source": [
        "a, b = 5, 6\n",
        "print(a, b)"
      ],
      "metadata": {
        "colab": {
          "base_uri": "https://localhost:8080/"
        },
        "id": "PmV6vfzbx1TM",
        "outputId": "286da41e-ecd7-4462-e2ac-a9b27bf712ee"
      },
      "execution_count": null,
      "outputs": [
        {
          "output_type": "stream",
          "name": "stdout",
          "text": [
            "5 6\n"
          ]
        }
      ]
    },
    {
      "cell_type": "code",
      "source": [
        "a, b, _ = 5, 6, 7\n",
        "print(a, b, _)"
      ],
      "metadata": {
        "colab": {
          "base_uri": "https://localhost:8080/"
        },
        "id": "BRBbWCHzx92j",
        "outputId": "a28620dc-bc05-40d7-c1d7-33b6a6c073d6"
      },
      "execution_count": null,
      "outputs": [
        {
          "output_type": "stream",
          "name": "stdout",
          "text": [
            "5 6 7\n"
          ]
        }
      ]
    },
    {
      "cell_type": "code",
      "source": [
        "a, *b = 5, 6, 7, 8\n",
        "print(a, b)"
      ],
      "metadata": {
        "colab": {
          "base_uri": "https://localhost:8080/"
        },
        "id": "u7RheQ3syRLk",
        "outputId": "ae500a0b-6ac8-4512-81a9-ee102be57092"
      },
      "execution_count": null,
      "outputs": [
        {
          "output_type": "stream",
          "name": "stdout",
          "text": [
            "5 [6, 7, 8]\n"
          ]
        }
      ]
    },
    {
      "cell_type": "code",
      "source": [
        "a, *b, c = 5, 6, 7, 8, 9\n",
        "print(a, b, c)"
      ],
      "metadata": {
        "colab": {
          "base_uri": "https://localhost:8080/"
        },
        "id": "6d7h1OPZzH6d",
        "outputId": "7c364833-eb2c-478f-fd06-f0217e4b1c8f"
      },
      "execution_count": null,
      "outputs": [
        {
          "output_type": "stream",
          "name": "stdout",
          "text": [
            "5 [6, 7, 8] 9\n"
          ]
        }
      ]
    },
    {
      "cell_type": "code",
      "source": [
        "*a, b, c = 5, 6, 7, 8, 9\n",
        "print(a, b, c)"
      ],
      "metadata": {
        "colab": {
          "base_uri": "https://localhost:8080/"
        },
        "id": "m5cOHhHOzbct",
        "outputId": "41b904d8-c9a1-4d3f-a175-4041898b418d"
      },
      "execution_count": null,
      "outputs": [
        {
          "output_type": "stream",
          "name": "stdout",
          "text": [
            "[5, 6, 7] 8 9\n"
          ]
        }
      ]
    },
    {
      "cell_type": "code",
      "source": [
        "a, b, *c = 5, 6, 7, 8, 9\n",
        "print(a, b, c)"
      ],
      "metadata": {
        "colab": {
          "base_uri": "https://localhost:8080/"
        },
        "id": "EBa3eQAXztZ0",
        "outputId": "f1934ecd-9197-4c3f-dd40-3c08e094390c"
      },
      "execution_count": null,
      "outputs": [
        {
          "output_type": "stream",
          "name": "stdout",
          "text": [
            "5 6 [7, 8, 9]\n"
          ]
        }
      ]
    },
    {
      "cell_type": "code",
      "source": [
        "a, *b, *c = 5, 6, 7, 8, 9\n",
        "print(a, b, c)"
      ],
      "metadata": {
        "colab": {
          "base_uri": "https://localhost:8080/",
          "height": 131
        },
        "id": "u65p4OcXzyoE",
        "outputId": "2ad8196e-e44c-4256-b16f-04e4f9651a45"
      },
      "execution_count": null,
      "outputs": [
        {
          "output_type": "error",
          "ename": "SyntaxError",
          "evalue": "ignored",
          "traceback": [
            "\u001b[0;36m  File \u001b[0;32m\"<ipython-input-28-a81467320544>\"\u001b[0;36m, line \u001b[0;32m1\u001b[0m\n\u001b[0;31m    a, *b, *c = 5, 6, 7, 8, 9\u001b[0m\n\u001b[0m                             ^\u001b[0m\n\u001b[0;31mSyntaxError\u001b[0m\u001b[0;31m:\u001b[0m two starred expressions in assignment\n"
          ]
        }
      ]
    },
    {
      "cell_type": "code",
      "source": [
        "a = input().split(' ')\n",
        "print(a)"
      ],
      "metadata": {
        "colab": {
          "base_uri": "https://localhost:8080/"
        },
        "id": "vuykfAYBz2Q0",
        "outputId": "f93701fe-2c44-4ba8-c88a-2d8b9e51f344"
      },
      "execution_count": null,
      "outputs": [
        {
          "output_type": "stream",
          "name": "stdout",
          "text": [
            "5 5 7 8 9\n",
            "['5', '5', '7', '8', '9']\n"
          ]
        }
      ]
    },
    {
      "cell_type": "code",
      "source": [
        "a = input().split(',')\n",
        "print(a)"
      ],
      "metadata": {
        "colab": {
          "base_uri": "https://localhost:8080/"
        },
        "id": "wKgdSSMs0N2s",
        "outputId": "2295a23a-b4fc-478b-92a7-9d067b80b123"
      },
      "execution_count": null,
      "outputs": [
        {
          "output_type": "stream",
          "name": "stdout",
          "text": [
            "5,6,7,8,9\n",
            "['5', '6', '7', '8', '9']\n"
          ]
        }
      ]
    },
    {
      "cell_type": "code",
      "source": [
        "a, b = input().split(' ')\n",
        "print(a, b)"
      ],
      "metadata": {
        "colab": {
          "base_uri": "https://localhost:8080/"
        },
        "id": "KNJPyKs90YXE",
        "outputId": "d55ae5db-f275-4696-b22e-71addbdaae4b"
      },
      "execution_count": null,
      "outputs": [
        {
          "output_type": "stream",
          "name": "stdout",
          "text": [
            "5 6\n",
            "5 6\n"
          ]
        }
      ]
    },
    {
      "cell_type": "code",
      "source": [
        "a, b = input().split(' ')\n",
        "print(a, b)"
      ],
      "metadata": {
        "colab": {
          "base_uri": "https://localhost:8080/",
          "height": 200
        },
        "id": "OGibAa0o0mZU",
        "outputId": "1bf4283f-31c4-4955-9a5e-4edf791a243c"
      },
      "execution_count": null,
      "outputs": [
        {
          "name": "stdout",
          "output_type": "stream",
          "text": [
            "5 6 7\n"
          ]
        },
        {
          "output_type": "error",
          "ename": "ValueError",
          "evalue": "ignored",
          "traceback": [
            "\u001b[0;31m---------------------------------------------------------------------------\u001b[0m",
            "\u001b[0;31mValueError\u001b[0m                                Traceback (most recent call last)",
            "\u001b[0;32m<ipython-input-32-1889cf0d91dd>\u001b[0m in \u001b[0;36m<module>\u001b[0;34m()\u001b[0m\n\u001b[0;32m----> 1\u001b[0;31m \u001b[0ma\u001b[0m\u001b[0;34m,\u001b[0m \u001b[0mb\u001b[0m \u001b[0;34m=\u001b[0m \u001b[0minput\u001b[0m\u001b[0;34m(\u001b[0m\u001b[0;34m)\u001b[0m\u001b[0;34m.\u001b[0m\u001b[0msplit\u001b[0m\u001b[0;34m(\u001b[0m\u001b[0;34m' '\u001b[0m\u001b[0;34m)\u001b[0m\u001b[0;34m\u001b[0m\u001b[0;34m\u001b[0m\u001b[0m\n\u001b[0m\u001b[1;32m      2\u001b[0m \u001b[0mprint\u001b[0m\u001b[0;34m(\u001b[0m\u001b[0ma\u001b[0m\u001b[0;34m,\u001b[0m \u001b[0mb\u001b[0m\u001b[0;34m)\u001b[0m\u001b[0;34m\u001b[0m\u001b[0;34m\u001b[0m\u001b[0m\n",
            "\u001b[0;31mValueError\u001b[0m: too many values to unpack (expected 2)"
          ]
        }
      ]
    },
    {
      "cell_type": "markdown",
      "source": [
        "## WAP to find greater number "
      ],
      "metadata": {
        "id": "bjKlcM574BEm"
      }
    },
    {
      "cell_type": "code",
      "source": [
        "a = int(input('Enter 1st number:'))\n",
        "b = int(input('Enter 2nd number:'))\n",
        "if a > b:\n",
        "  print(a,'is greater number')\n",
        "else:\n",
        "  print(b,'is greater number')"
      ],
      "metadata": {
        "colab": {
          "base_uri": "https://localhost:8080/"
        },
        "id": "IKm0hQRT0q3z",
        "outputId": "8b5c36a3-a415-4e02-9414-82295607341c"
      },
      "execution_count": null,
      "outputs": [
        {
          "output_type": "stream",
          "name": "stdout",
          "text": [
            "Enter 1st number:5\n",
            "Enter 2nd number:7\n",
            "7 is greater number\n"
          ]
        }
      ]
    },
    {
      "cell_type": "code",
      "source": [
        "a = int(input('Enter 1st number:'))\n",
        "b = int(input('Enter 2nd number:'))\n",
        "if a > b:\n",
        "  print(a,'is greater number')\n",
        "print(b,'is greater number')"
      ],
      "metadata": {
        "colab": {
          "base_uri": "https://localhost:8080/"
        },
        "id": "qbLCmkQm48DN",
        "outputId": "5b347801-f8f5-4737-f81c-d729b8fc82ad"
      },
      "execution_count": null,
      "outputs": [
        {
          "output_type": "stream",
          "name": "stdout",
          "text": [
            "Enter 1st number:7\n",
            "Enter 2nd number:8\n",
            "8 is greater number\n"
          ]
        }
      ]
    },
    {
      "cell_type": "code",
      "source": [
        "a = int(input('Enter 1st number:'))\n",
        "b = int(input('Enter 2nd number:'))\n",
        "if a > b:\n",
        "  print(a,'is greater number')\n",
        "elif a == b:\n",
        "  print('Both numbers are equal')\n",
        "else:\n",
        "  print(b,'is greater number')"
      ],
      "metadata": {
        "colab": {
          "base_uri": "https://localhost:8080/"
        },
        "id": "hgWLQc_87R6k",
        "outputId": "f0910223-92c2-4027-a634-f9ea989f5f71"
      },
      "execution_count": null,
      "outputs": [
        {
          "output_type": "stream",
          "name": "stdout",
          "text": [
            "Enter 1st number:5\n",
            "Enter 2nd number:5\n",
            "Both numbers are equal\n"
          ]
        }
      ]
    },
    {
      "cell_type": "markdown",
      "source": [
        "## WAP to swap two numbers if the 1st number is greater than the 2nd number?"
      ],
      "metadata": {
        "id": "FSltT9oQNLw9"
      }
    },
    {
      "cell_type": "code",
      "source": [
        "a = int(input('Enter 1st number:'))\n",
        "b = int(input('Enter 2nd number:'))\n",
        "if a > b:\n",
        "  a, b = b, a\n",
        "  print('The swapped numbers are a =',a, 'and b =',b)\n",
        "else:\n",
        "  print('The unswapped numbers are a =',a, 'and b =',b)"
      ],
      "metadata": {
        "colab": {
          "base_uri": "https://localhost:8080/"
        },
        "id": "9qlyOqyhLajP",
        "outputId": "b5930224-14db-4228-ea58-5b1233686dea"
      },
      "execution_count": null,
      "outputs": [
        {
          "output_type": "stream",
          "name": "stdout",
          "text": [
            "Enter 1st number:7\n",
            "Enter 2nd number:6\n",
            "The swapped numbers are a = 6 and b = 7\n"
          ]
        }
      ]
    },
    {
      "cell_type": "code",
      "source": [
        "a = int(input('Enter 1st number:'))\n",
        "b = int(input('Enter 2nd number:'))\n",
        "if a > b:\n",
        "  a, b = b, a\n",
        "  print('The swapped numbers are a =',a, 'and b =',b)\n",
        "else:\n",
        "  print('The unswapped numbers are a =',a, 'and b =',b)"
      ],
      "metadata": {
        "colab": {
          "base_uri": "https://localhost:8080/"
        },
        "id": "-bdxJYzyUGxO",
        "outputId": "f1eba46d-f1a5-47c1-cae8-168676e6c217"
      },
      "execution_count": null,
      "outputs": [
        {
          "output_type": "stream",
          "name": "stdout",
          "text": [
            "Enter 1st number:7\n",
            "Enter 2nd number:9\n",
            "The unswapped numbers are a = 7 and b = 9\n"
          ]
        }
      ]
    },
    {
      "cell_type": "code",
      "source": [
        "a = int(input('Enter 1st number:'))\n",
        "b = int(input('Enter 2nd number:'))\n",
        "if a > b:\n",
        "  temp = a\n",
        "  a = b\n",
        "  b = temp\n",
        "  print('The swapped numbers are a =',a, 'and b =',b)\n",
        "else:\n",
        "  print('The unswapped numbers are a =',a, 'and b =',b)"
      ],
      "metadata": {
        "colab": {
          "base_uri": "https://localhost:8080/"
        },
        "id": "KDGL4002UP8O",
        "outputId": "7d941be6-cb67-4085-ba14-42c97b2666cb"
      },
      "execution_count": null,
      "outputs": [
        {
          "output_type": "stream",
          "name": "stdout",
          "text": [
            "Enter 1st number:7\n",
            "Enter 2nd number:6\n",
            "The swapped numbers are a = 6 and b = 7\n"
          ]
        }
      ]
    },
    {
      "cell_type": "code",
      "source": [
        "a = int(input('Enter 1st number:'))\n",
        "b = int(input('Enter 2nd number:'))\n",
        "if a > b:\n",
        "  if a > 10:\n",
        "    a, b = b, a\n",
        "    print('The swapped numbers are a =',a, 'and b =',b)\n",
        "  else:\n",
        "    print('The unswapped numbers are a =',a, 'and b =',b)\n",
        "else:\n",
        "    print('The unswapped numbers are a =',a, 'and b =',b)"
      ],
      "metadata": {
        "id": "G0WgJvzQUlS_"
      },
      "execution_count": null,
      "outputs": []
    },
    {
      "cell_type": "markdown",
      "source": [
        "## WAP to check if a year is leap year or not?"
      ],
      "metadata": {
        "id": "YsL5iGIOYNLm"
      }
    },
    {
      "cell_type": "code",
      "source": [
        "y = int(input('Enter the year:'))\n",
        "if ((y%4 == 0 and y%100 != 0) or (y%400 == 0)):\n",
        "  print('Year',y,'is leap year')\n",
        "else:\n",
        "  print('Year',y,'is not a leap year')"
      ],
      "metadata": {
        "colab": {
          "base_uri": "https://localhost:8080/"
        },
        "id": "VStqLuL6YXLn",
        "outputId": "08a94c69-b603-4152-9f53-dccf362c7dfd"
      },
      "execution_count": null,
      "outputs": [
        {
          "output_type": "stream",
          "name": "stdout",
          "text": [
            "Enter the year:2016\n",
            "Year 2016 is leap year\n"
          ]
        }
      ]
    },
    {
      "cell_type": "markdown",
      "source": [
        "## For Loop\n",
        "### Syntax-->\n",
        "## for <variable> in range (start, stop, step)\n",
        "### start value is included\n",
        "### stop value is not included\n",
        "### step is optional if step value is 1"
      ],
      "metadata": {
        "id": "v0QFBOtla7Kv"
      }
    },
    {
      "cell_type": "code",
      "source": [
        "a = int(input('Enter a number:'))\n",
        "for i in range(1,a):\n",
        "  print(i)"
      ],
      "metadata": {
        "colab": {
          "base_uri": "https://localhost:8080/"
        },
        "id": "_hehWCCEaHyf",
        "outputId": "49b66232-cfb0-414b-912e-f1f6e4e02c13"
      },
      "execution_count": null,
      "outputs": [
        {
          "output_type": "stream",
          "name": "stdout",
          "text": [
            "Enter a number:5\n",
            "1\n",
            "2\n",
            "3\n",
            "4\n"
          ]
        }
      ]
    },
    {
      "cell_type": "markdown",
      "source": [
        "## WAP to find factorial?"
      ],
      "metadata": {
        "id": "LTIX17MidEGn"
      }
    },
    {
      "cell_type": "code",
      "source": [
        "# 5! = 5 x 4 x 3 x 2 x 1"
      ],
      "metadata": {
        "id": "xJSi00y3cLE_"
      },
      "execution_count": null,
      "outputs": []
    },
    {
      "cell_type": "code",
      "source": [
        "a = int(input('Enter a number:'))\n",
        "fact = 1\n",
        "for i in range(1, a+1):\n",
        "  fact *= i # fact = fact * i\n",
        "  print(fact, end = ' ')"
      ],
      "metadata": {
        "colab": {
          "base_uri": "https://localhost:8080/"
        },
        "id": "KAwGO0wQdNuf",
        "outputId": "3752d065-437e-4264-8b05-328587d24bf3"
      },
      "execution_count": null,
      "outputs": [
        {
          "output_type": "stream",
          "name": "stdout",
          "text": [
            "Enter a number:5\n",
            "1 2 6 24 120 "
          ]
        }
      ]
    },
    {
      "cell_type": "code",
      "source": [
        "a = int(input('Enter a number:'))\n",
        "fact = 1\n",
        "for i in range(1, a+1):\n",
        "  fact *= i # fact = fact * i\n",
        "  print(fact, end = ',')"
      ],
      "metadata": {
        "colab": {
          "base_uri": "https://localhost:8080/"
        },
        "id": "zR5qbxXOdr4_",
        "outputId": "f51b217a-e33b-4cd8-d63e-b4c36f8679e8"
      },
      "execution_count": null,
      "outputs": [
        {
          "output_type": "stream",
          "name": "stdout",
          "text": [
            "Enter a number:5\n",
            "1,2,6,24,120,"
          ]
        }
      ]
    },
    {
      "cell_type": "markdown",
      "source": [
        "## WAP to check prime number"
      ],
      "metadata": {
        "id": "jiiVbH4giTaW"
      }
    },
    {
      "cell_type": "code",
      "source": [
        "a = int(input('Enter a number:'))\n",
        "for i in range(2, a):\n",
        "  if a%i == 0:\n",
        "    print('Not Prime')\n",
        "    break\n",
        "else:\n",
        "  print('Prime')"
      ],
      "metadata": {
        "colab": {
          "base_uri": "https://localhost:8080/"
        },
        "id": "Fd5QhIWAhB0f",
        "outputId": "2b52cc3c-daf0-489f-af9b-5f38dbc9ff4e"
      },
      "execution_count": null,
      "outputs": [
        {
          "output_type": "stream",
          "name": "stdout",
          "text": [
            "Enter a number:6\n",
            "Not Prime\n"
          ]
        }
      ]
    },
    {
      "cell_type": "code",
      "source": [
        "!pip install abhiprime"
      ],
      "metadata": {
        "colab": {
          "base_uri": "https://localhost:8080/"
        },
        "id": "CLIFrTI7jcSP",
        "outputId": "e9663cf6-37a0-4ca5-e795-47e9a7c8239d"
      },
      "execution_count": null,
      "outputs": [
        {
          "output_type": "stream",
          "name": "stdout",
          "text": [
            "Looking in indexes: https://pypi.org/simple, https://us-python.pkg.dev/colab-wheels/public/simple/\n",
            "Collecting abhiprime\n",
            "  Downloading abhiprime-6.0.0-py3-none-any.whl (3.7 kB)\n",
            "Installing collected packages: abhiprime\n",
            "Successfully installed abhiprime-6.0.0\n"
          ]
        }
      ]
    },
    {
      "cell_type": "code",
      "source": [
        "import abhiprime as ap\n",
        "ap.test_prime(8)"
      ],
      "metadata": {
        "colab": {
          "base_uri": "https://localhost:8080/"
        },
        "id": "StJOh9SLmpC_",
        "outputId": "30587230-fe69-4502-dbbe-2d826ae0d433"
      },
      "execution_count": null,
      "outputs": [
        {
          "output_type": "execute_result",
          "data": {
            "text/plain": [
              "0"
            ]
          },
          "metadata": {},
          "execution_count": 64
        }
      ]
    },
    {
      "cell_type": "code",
      "source": [
        "ap.next_prime(100)"
      ],
      "metadata": {
        "colab": {
          "base_uri": "https://localhost:8080/"
        },
        "id": "v7EYaWgmpzg4",
        "outputId": "455cbafd-d769-4214-b6e7-287a81787fd4"
      },
      "execution_count": null,
      "outputs": [
        {
          "output_type": "execute_result",
          "data": {
            "text/plain": [
              "101"
            ]
          },
          "metadata": {},
          "execution_count": 65
        }
      ]
    },
    {
      "cell_type": "code",
      "source": [
        "ap.prev_prime(100)"
      ],
      "metadata": {
        "colab": {
          "base_uri": "https://localhost:8080/"
        },
        "id": "asLLaCoLp6if",
        "outputId": "57957911-6896-4aff-890b-07284c7912b8"
      },
      "execution_count": null,
      "outputs": [
        {
          "output_type": "execute_result",
          "data": {
            "text/plain": [
              "97"
            ]
          },
          "metadata": {},
          "execution_count": 66
        }
      ]
    },
    {
      "cell_type": "code",
      "source": [
        "ap.range_prime(10,100)"
      ],
      "metadata": {
        "colab": {
          "base_uri": "https://localhost:8080/"
        },
        "id": "sQ5HHr4lqAU_",
        "outputId": "f5411111-789a-4475-d5a0-f8b03d8faf37"
      },
      "execution_count": null,
      "outputs": [
        {
          "output_type": "stream",
          "name": "stdout",
          "text": [
            "11 13 17 19 23 29 31 37 41 43 47 53 59 61 67 71 73 79 83 89 97 \n"
          ]
        }
      ]
    },
    {
      "cell_type": "code",
      "source": [
        "ap.prime_upto(50)"
      ],
      "metadata": {
        "colab": {
          "base_uri": "https://localhost:8080/"
        },
        "id": "yoCCumGJqPef",
        "outputId": "94dc9762-0c6e-41d2-d6c9-66afeb8f4fe2"
      },
      "execution_count": null,
      "outputs": [
        {
          "output_type": "execute_result",
          "data": {
            "text/plain": [
              "[2, 3, 5, 7, 11, 13, 17, 19, 23, 29, 31, 37, 41, 43, 47]"
            ]
          },
          "metadata": {},
          "execution_count": 68
        }
      ]
    },
    {
      "cell_type": "code",
      "source": [
        "ap.fib_prime(100)"
      ],
      "metadata": {
        "colab": {
          "base_uri": "https://localhost:8080/"
        },
        "id": "z2Oo_KOoqUT-",
        "outputId": "031cee78-33a6-4bf7-afb3-7f654ab05238"
      },
      "execution_count": null,
      "outputs": [
        {
          "output_type": "stream",
          "name": "stdout",
          "text": [
            "2 3 5 13 89 "
          ]
        }
      ]
    },
    {
      "cell_type": "code",
      "source": [
        "ap.prime_factor(20)"
      ],
      "metadata": {
        "colab": {
          "base_uri": "https://localhost:8080/"
        },
        "id": "IYzjBv5rqX6e",
        "outputId": "872320ac-c0fe-4208-a558-4e80ecac7173"
      },
      "execution_count": null,
      "outputs": [
        {
          "output_type": "execute_result",
          "data": {
            "text/plain": [
              "[2, 2, 5]"
            ]
          },
          "metadata": {},
          "execution_count": 70
        }
      ]
    },
    {
      "cell_type": "markdown",
      "source": [
        "## WAP to print the following:\n",
        "5 x 4 = 20\n",
        "\n",
        "4 x 3 = 12\n",
        "\n",
        "3 x 2 = 6\n",
        "\n",
        "2 x 1 = 2"
      ],
      "metadata": {
        "id": "rClhJlh0sOb3"
      }
    },
    {
      "cell_type": "code",
      "source": [
        "a = int(input('Enter 1st no.:'))\n",
        "b = int(input('Enter 2nd no.:'))\n",
        "while (a and b) > 0:\n",
        "  c = a * b\n",
        "  print(a,'x',b,'=',c)\n",
        "  a -= 1\n",
        "  b -= 1"
      ],
      "metadata": {
        "colab": {
          "base_uri": "https://localhost:8080/"
        },
        "id": "bQbEHKrXqbfe",
        "outputId": "2093d6fb-6149-49bd-c0c5-eefad628d6fd"
      },
      "execution_count": null,
      "outputs": [
        {
          "output_type": "stream",
          "name": "stdout",
          "text": [
            "Enter 1st no.:5\n",
            "Enter 2nd no.:4\n",
            "5 x 4 = 20\n",
            "4 x 3 = 12\n",
            "3 x 2 = 6\n",
            "2 x 1 = 2\n"
          ]
        }
      ]
    },
    {
      "cell_type": "code",
      "source": [
        "4"
      ],
      "metadata": {
        "id": "IHWBO5W4tVQI"
      },
      "execution_count": null,
      "outputs": []
    }
  ]
}