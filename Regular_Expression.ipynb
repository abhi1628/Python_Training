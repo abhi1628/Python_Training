{
  "nbformat": 4,
  "nbformat_minor": 0,
  "metadata": {
    "colab": {
      "name": "Regular Expression.ipynb",
      "provenance": [],
      "authorship_tag": "ABX9TyMbJfkgP/qr1BSCcNoUf4aV",
      "include_colab_link": true
    },
    "kernelspec": {
      "name": "python3",
      "display_name": "Python 3"
    },
    "language_info": {
      "name": "python"
    }
  },
  "cells": [
    {
      "cell_type": "markdown",
      "metadata": {
        "id": "view-in-github",
        "colab_type": "text"
      },
      "source": [
        "<a href=\"https://colab.research.google.com/github/abhi1628/Python_Training/blob/main/Regular_Expression.ipynb\" target=\"_parent\"><img src=\"https://colab.research.google.com/assets/colab-badge.svg\" alt=\"Open In Colab\"/></a>"
      ]
    },
    {
      "cell_type": "markdown",
      "source": [
        "## Substituting using Regex"
      ],
      "metadata": {
        "id": "6CTWAW3AW-UX"
      }
    },
    {
      "cell_type": "code",
      "execution_count": 1,
      "metadata": {
        "colab": {
          "base_uri": "https://localhost:8080/"
        },
        "id": "dB7cGY5xQjv-",
        "outputId": "0c820324-2bd1-40ec-b6c5-16fba38062a0"
      },
      "outputs": [
        {
          "output_type": "stream",
          "name": "stdout",
          "text": [
            "Enter a string:Mark95\n",
            "Mark_\n"
          ]
        }
      ],
      "source": [
        "import re\n",
        "my_str = input('Enter a string:')\n",
        "pattern = re.compile(r'[0-9]+') # with + digits are treated as single no.\n",
        "res = pattern.sub('_', my_str)\n",
        "print(res)"
      ]
    },
    {
      "cell_type": "code",
      "source": [
        "my_str = input('Enter a string:')\n",
        "pattern = re.compile(r'[0-9]') # without + digits are treated as individual\n",
        "res = pattern.sub('_', my_str)\n",
        "print(res)"
      ],
      "metadata": {
        "colab": {
          "base_uri": "https://localhost:8080/"
        },
        "id": "lMb-5iLoRCXS",
        "outputId": "5aeaf123-c8a7-40ba-8615-16ef614d5d21"
      },
      "execution_count": 2,
      "outputs": [
        {
          "output_type": "stream",
          "name": "stdout",
          "text": [
            "Enter a string:Mark12345\n",
            "Mark_____\n"
          ]
        }
      ]
    },
    {
      "cell_type": "code",
      "source": [
        "my_str = input('Enter a string:')\n",
        "pattern = re.compile(r'\\d') # \\d is same as [0-9]\n",
        "res = pattern.sub('_', my_str)\n",
        "print(res)"
      ],
      "metadata": {
        "colab": {
          "base_uri": "https://localhost:8080/"
        },
        "id": "VHDWfF4QUTG3",
        "outputId": "4ab0b8ff-74b1-4861-e6a3-4cb558c8d9cb"
      },
      "execution_count": 3,
      "outputs": [
        {
          "output_type": "stream",
          "name": "stdout",
          "text": [
            "Enter a string:mark4567\n",
            "mark____\n"
          ]
        }
      ]
    },
    {
      "cell_type": "code",
      "source": [
        "my_str = input('Enter a string:')\n",
        "pattern = re.compile(r'\\D') # \\D is used to select non digits\n",
        "res = pattern.sub('_', my_str)\n",
        "print(res)"
      ],
      "metadata": {
        "colab": {
          "base_uri": "https://localhost:8080/"
        },
        "id": "ePruUpYqUz0n",
        "outputId": "ed44ceb5-2d5b-41d4-de56-426df32e9d68"
      },
      "execution_count": 4,
      "outputs": [
        {
          "output_type": "stream",
          "name": "stdout",
          "text": [
            "Enter a string:mark21345\n",
            "____21345\n"
          ]
        }
      ]
    },
    {
      "cell_type": "code",
      "source": [
        "my_str = input('Enter a string:')\n",
        "pattern = re.compile(r'\\D+') # \\D+ is used to treat non digits as single non digit\n",
        "res = pattern.sub('_', my_str)\n",
        "print(res)"
      ],
      "metadata": {
        "colab": {
          "base_uri": "https://localhost:8080/"
        },
        "id": "Ohm1gkTDVmj4",
        "outputId": "e5126f29-eef2-467b-bc31-a602821d9264"
      },
      "execution_count": 5,
      "outputs": [
        {
          "output_type": "stream",
          "name": "stdout",
          "text": [
            "Enter a string:mark258\n",
            "_258\n"
          ]
        }
      ]
    },
    {
      "cell_type": "code",
      "source": [
        "my_str = input('Enter a string:')\n",
        "pattern = re.compile(r'[^0-9]+') # \\D+ is used to treat non digits as single non digit\n",
        "res = pattern.sub('_', my_str)\n",
        "print(res)"
      ],
      "metadata": {
        "colab": {
          "base_uri": "https://localhost:8080/"
        },
        "id": "jqdD4IDvV_Uo",
        "outputId": "2833a027-9771-41f2-a003-dae8d7d75eb8"
      },
      "execution_count": 6,
      "outputs": [
        {
          "output_type": "stream",
          "name": "stdout",
          "text": [
            "Enter a string:mark123\n",
            "_123\n"
          ]
        }
      ]
    },
    {
      "cell_type": "markdown",
      "source": [
        "## Finding using Regex"
      ],
      "metadata": {
        "id": "88_uzFjlXHXu"
      }
    },
    {
      "cell_type": "code",
      "source": [
        "my_str = input('Enter a string:')\n",
        "res = re.findall(r'\\d', my_str)\n",
        "print(res)"
      ],
      "metadata": {
        "colab": {
          "base_uri": "https://localhost:8080/"
        },
        "id": "YbHpcltpWXbP",
        "outputId": "809b64fa-b62e-4294-a381-8ed59d1f4971"
      },
      "execution_count": 7,
      "outputs": [
        {
          "output_type": "stream",
          "name": "stdout",
          "text": [
            "Enter a string:bond007\n",
            "['0', '0', '7']\n"
          ]
        }
      ]
    },
    {
      "cell_type": "code",
      "source": [
        "my_str = input('Enter a string:')\n",
        "res = re.findall(r'\\d+', my_str)\n",
        "print(res)"
      ],
      "metadata": {
        "colab": {
          "base_uri": "https://localhost:8080/"
        },
        "id": "c8u02VdtXgwW",
        "outputId": "d1950e1b-10ec-4574-a908-ac0fbe109648"
      },
      "execution_count": 8,
      "outputs": [
        {
          "output_type": "stream",
          "name": "stdout",
          "text": [
            "Enter a string:bond007\n",
            "['007']\n"
          ]
        }
      ]
    },
    {
      "cell_type": "code",
      "source": [
        "my_str = input('Enter a string:')\n",
        "res = re.findall(r'^Bond', my_str) # ^ checks the 1st word\n",
        "if res:\n",
        "  print('Yes the string starts with Bond')\n",
        "else:\n",
        "  print('No match')"
      ],
      "metadata": {
        "colab": {
          "base_uri": "https://localhost:8080/"
        },
        "id": "J95Z_diWYibO",
        "outputId": "b8d29610-5934-420e-fea3-121a84f45904"
      },
      "execution_count": 9,
      "outputs": [
        {
          "output_type": "stream",
          "name": "stdout",
          "text": [
            "Enter a string:bond\n",
            "No match\n"
          ]
        }
      ]
    },
    {
      "cell_type": "code",
      "source": [
        "my_str = 'Bond. James Bond'\n",
        "res = re.findall(r'Bond$', my_str) # $ checks the last word\n",
        "if res:\n",
        "  print('Yes the string ends with Bond')\n",
        "else:\n",
        "  print('No match')"
      ],
      "metadata": {
        "colab": {
          "base_uri": "https://localhost:8080/"
        },
        "id": "sjDOEt9kY-YW",
        "outputId": "c237f890-90e5-4a4f-acac-55d119b8d0ae"
      },
      "execution_count": 10,
      "outputs": [
        {
          "output_type": "stream",
          "name": "stdout",
          "text": [
            "Yes the string ends with Bond\n"
          ]
        }
      ]
    },
    {
      "cell_type": "markdown",
      "source": [
        "## Searching using Regex"
      ],
      "metadata": {
        "id": "LT395RJIaz3N"
      }
    },
    {
      "cell_type": "code",
      "source": [
        "my_str = 'The truth is... I am IronMan'\n",
        "res = re.search(r'Iron', my_str)\n",
        "print(res)\n",
        "if res:\n",
        "  print('Yes there is a match')\n",
        "else:\n",
        "  print('No match')"
      ],
      "metadata": {
        "colab": {
          "base_uri": "https://localhost:8080/"
        },
        "id": "n-Bmq3vnZ4jO",
        "outputId": "ccf9d570-eb43-48ec-b743-8ac2e94abe13"
      },
      "execution_count": 11,
      "outputs": [
        {
          "output_type": "stream",
          "name": "stdout",
          "text": [
            "<re.Match object; span=(21, 25), match='Iron'>\n",
            "Yes there is a match\n"
          ]
        }
      ]
    },
    {
      "cell_type": "code",
      "source": [
        "my_str = 'The truth is... I am The Iron Man'\n",
        "res = re.findall(r'The', my_str)\n",
        "print(res)\n",
        "if res:\n",
        "  print('Yes there is a match')\n",
        "else:\n",
        "  print('No match')"
      ],
      "metadata": {
        "colab": {
          "base_uri": "https://localhost:8080/"
        },
        "id": "iDHpkOlobJB9",
        "outputId": "a14dac73-5dfb-4e0a-b47a-ab8cf29dd040"
      },
      "execution_count": 12,
      "outputs": [
        {
          "output_type": "stream",
          "name": "stdout",
          "text": [
            "['The', 'The']\n",
            "Yes there is a match\n"
          ]
        }
      ]
    },
    {
      "cell_type": "code",
      "source": [
        "my_str = 'The truth is... I am The Iron Man'\n",
        "res = re.search(r'The', my_str)\n",
        "print(res)\n",
        "if res:\n",
        "  print('Yes there is a match')\n",
        "else:\n",
        "  print('No match')"
      ],
      "metadata": {
        "colab": {
          "base_uri": "https://localhost:8080/"
        },
        "id": "SL4HDtEacjmE",
        "outputId": "35c5b5ab-da77-4ac5-c24b-5f402a091e53"
      },
      "execution_count": 13,
      "outputs": [
        {
          "output_type": "stream",
          "name": "stdout",
          "text": [
            "<re.Match object; span=(0, 3), match='The'>\n",
            "Yes there is a match\n"
          ]
        }
      ]
    },
    {
      "cell_type": "markdown",
      "source": [
        "## Splitting using Regex"
      ],
      "metadata": {
        "id": "Ju4XAKg-eOoD"
      }
    },
    {
      "cell_type": "code",
      "source": [
        "my_str = 'I am Spiderman'\n",
        "res = re.split(r'\\s', my_str)\n",
        "print(res)"
      ],
      "metadata": {
        "colab": {
          "base_uri": "https://localhost:8080/"
        },
        "id": "SBAvJFA4cnKE",
        "outputId": "7015ba2b-f196-4292-b0e6-36ca4c208d48"
      },
      "execution_count": 14,
      "outputs": [
        {
          "output_type": "stream",
          "name": "stdout",
          "text": [
            "['I', 'am', 'Spiderman']\n"
          ]
        }
      ]
    },
    {
      "cell_type": "code",
      "source": [
        "my_str = 'My name is Spiderman'\n",
        "res = re.split(r'\\s', my_str,2)\n",
        "print(res)"
      ],
      "metadata": {
        "colab": {
          "base_uri": "https://localhost:8080/"
        },
        "id": "6vJDqqhfejkd",
        "outputId": "38f07102-3345-4b29-c0af-38b8474f723d"
      },
      "execution_count": 17,
      "outputs": [
        {
          "output_type": "stream",
          "name": "stdout",
          "text": [
            "['My', 'name', 'is Spiderman']\n"
          ]
        }
      ]
    },
    {
      "cell_type": "markdown",
      "source": [
        "## WAP to search for an uppercase character at the beginning of a word and print its position and the word."
      ],
      "metadata": {
        "id": "jrYbXrlAnyD5"
      }
    },
    {
      "cell_type": "code",
      "source": [
        "my_str = 'I am Iron Man'\n",
        "res = re.search(r'\\bM', my_str)\n",
        "print(res.span())"
      ],
      "metadata": {
        "colab": {
          "base_uri": "https://localhost:8080/"
        },
        "id": "9m4PWrYaeugU",
        "outputId": "291aec8c-21ba-48c3-e503-d5d18e620b0b"
      },
      "execution_count": 18,
      "outputs": [
        {
          "output_type": "stream",
          "name": "stdout",
          "text": [
            "(10, 11)\n"
          ]
        }
      ]
    },
    {
      "cell_type": "code",
      "source": [
        "my_str = 'I am Iron Man'\n",
        "res = re.search(r'\\bM\\w+', my_str)\n",
        "print(res.group())"
      ],
      "metadata": {
        "colab": {
          "base_uri": "https://localhost:8080/"
        },
        "id": "kMi8J65DqDig",
        "outputId": "c04bf24b-30b2-412a-d9b4-35f5cc07efae"
      },
      "execution_count": 20,
      "outputs": [
        {
          "output_type": "stream",
          "name": "stdout",
          "text": [
            "Man\n"
          ]
        }
      ]
    },
    {
      "cell_type": "markdown",
      "source": [
        "## Password Validation"
      ],
      "metadata": {
        "id": "pXc8_s11r8TO"
      }
    },
    {
      "cell_type": "markdown",
      "source": [
        "## WAP to generate a password that consists of numbers and characters?"
      ],
      "metadata": {
        "id": "WyJNWMOGr_2g"
      }
    },
    {
      "cell_type": "code",
      "source": [
        "pwd = input('Enter a password:')\n",
        "pattern = re.compile(r'[a-zA-Z0-9]')\n",
        "res = pattern.match(pwd)\n",
        "if res:\n",
        "  print('Valid')\n",
        "else:\n",
        "  print('Invalid')"
      ],
      "metadata": {
        "colab": {
          "base_uri": "https://localhost:8080/"
        },
        "id": "p-QRFULSq1Vw",
        "outputId": "851f832c-7ce5-421b-a545-eb80b78a0126"
      },
      "execution_count": 22,
      "outputs": [
        {
          "output_type": "stream",
          "name": "stdout",
          "text": [
            "Enter a password:mark\n",
            "Valid\n"
          ]
        }
      ]
    },
    {
      "cell_type": "code",
      "source": [
        "pwd = input('Enter a password:')\n",
        "pattern = re.compile(r'\\w')\n",
        "res = pattern.match(pwd)\n",
        "if res:\n",
        "  print('Valid')\n",
        "else:\n",
        "  print('Invalid')"
      ],
      "metadata": {
        "colab": {
          "base_uri": "https://localhost:8080/"
        },
        "id": "m40OmhRTtR3u",
        "outputId": "fa9f27bc-cf42-455f-b44b-6d38816740c2"
      },
      "execution_count": 23,
      "outputs": [
        {
          "output_type": "stream",
          "name": "stdout",
          "text": [
            "Enter a password:abhi123\n",
            "Valid\n"
          ]
        }
      ]
    },
    {
      "cell_type": "code",
      "source": [
        "pwd = input('Enter a password:')\n",
        "pattern = re.compile(r'\\W')\n",
        "res = pattern.match(pwd)\n",
        "if res:\n",
        "  print('Valid')\n",
        "else:\n",
        "  print('Invalid')"
      ],
      "metadata": {
        "colab": {
          "base_uri": "https://localhost:8080/"
        },
        "id": "uSfOs0pTugxG",
        "outputId": "2fe0ba7a-d1a7-4394-8556-2576510a2fd0"
      },
      "execution_count": 24,
      "outputs": [
        {
          "output_type": "stream",
          "name": "stdout",
          "text": [
            "Enter a password:@#$%\n",
            "Valid\n"
          ]
        }
      ]
    },
    {
      "cell_type": "code",
      "source": [
        "pwd = input('Enter a password:')\n",
        "pattern = re.compile(r'[a-zA-Z0-9@#$%^&]')\n",
        "res = pattern.match(pwd)\n",
        "if res:\n",
        "  print('Valid')\n",
        "else:\n",
        "  print('Invalid')"
      ],
      "metadata": {
        "colab": {
          "base_uri": "https://localhost:8080/"
        },
        "id": "g_idqQsdvfrt",
        "outputId": "6f7d3030-e322-433a-fe6b-c430017c04f7"
      },
      "execution_count": 31,
      "outputs": [
        {
          "output_type": "stream",
          "name": "stdout",
          "text": [
            "Enter a password:^abhi\n",
            "Valid\n"
          ]
        }
      ]
    },
    {
      "cell_type": "code",
      "source": [
        "pwd = input('Enter a password:')\n",
        "pattern = re.compile(r'[a-zA-Z0-9@#$%^&]{6,}')\n",
        "res = pattern.match(pwd)\n",
        "if res:\n",
        "  print('Valid')\n",
        "else:\n",
        "  print('Invalid')"
      ],
      "metadata": {
        "colab": {
          "base_uri": "https://localhost:8080/"
        },
        "id": "Vl1p2ILhv-zd",
        "outputId": "6298ce16-79e3-4c83-bd52-adea44caeb5b"
      },
      "execution_count": 32,
      "outputs": [
        {
          "output_type": "stream",
          "name": "stdout",
          "text": [
            "Enter a password:python@12345879\n",
            "Valid\n"
          ]
        }
      ]
    },
    {
      "cell_type": "code",
      "source": [
        "pwd = input('Enter a password:')\n",
        "pattern = re.compile(r'[a-zA-Z0-9@#$%^&]{1,9}')\n",
        "res = pattern.match(pwd)\n",
        "if res:\n",
        "  print('Valid')\n",
        "else:\n",
        "  print('Invalid')"
      ],
      "metadata": {
        "colab": {
          "base_uri": "https://localhost:8080/"
        },
        "id": "1Hm0NboWxUf9",
        "outputId": "1cd32084-2d72-41ed-abfd-98a2b0251255"
      },
      "execution_count": 33,
      "outputs": [
        {
          "output_type": "stream",
          "name": "stdout",
          "text": [
            "Enter a password:python@12345879\n",
            "Valid\n"
          ]
        }
      ]
    },
    {
      "cell_type": "code",
      "source": [
        "while True:\n",
        "  pwd = input('Enter a paasword:')\n",
        "  if (len(pwd) < 6):\n",
        "    print('Password must be minimum of 6 characters')\n",
        "  elif re.match(r'[a-zA-Z0-9@#$%^&]{1,7}', pwd):\n",
        "    pattern = re.compile(r'[a-zA-Z0-9@#$%^&]{1,7}')\n",
        "    res = pattern.match(pwd)\n",
        "    print('Valid Password. Your Password is:',pwd)\n",
        "    break\n",
        "  else:\n",
        "    print('Password Invalid')"
      ],
      "metadata": {
        "colab": {
          "base_uri": "https://localhost:8080/"
        },
        "id": "H400lfklydSU",
        "outputId": "956e5db6-7e66-4395-ddf9-03c0d18cf9ee"
      },
      "execution_count": 35,
      "outputs": [
        {
          "output_type": "stream",
          "name": "stdout",
          "text": [
            "Enter a paasword:mark\n",
            "Password must be minimum of 6 characters\n",
            "Enter a paasword:mark20\n",
            "Valid Password. Your Password is: mark20\n"
          ]
        }
      ]
    },
    {
      "cell_type": "code",
      "source": [
        "import getpass\n",
        "while True:\n",
        "  pwd = getpass.getpass('Enter a paasword:')\n",
        "  if (len(pwd) < 6):\n",
        "    print('Password must be minimum of 6 characters')\n",
        "  elif re.match(r'[a-zA-Z0-9@#$%^&]{1,7}', pwd):\n",
        "    pattern = re.compile(r'[a-zA-Z0-9@#$%^&]{1,7}')\n",
        "    res = pattern.match(pwd)\n",
        "    print('Valid Password. Your Password is:',pwd)\n",
        "    break\n",
        "  else:\n",
        "    print('Password Invalid')"
      ],
      "metadata": {
        "colab": {
          "base_uri": "https://localhost:8080/"
        },
        "id": "GRCQYbxuz-YL",
        "outputId": "696c43a5-acd2-4bfe-f1f0-c0b2e6e1536a"
      },
      "execution_count": 36,
      "outputs": [
        {
          "output_type": "stream",
          "name": "stdout",
          "text": [
            "Enter a paasword:··········\n",
            "Valid Password. Your Password is: python@12\n"
          ]
        }
      ]
    },
    {
      "cell_type": "markdown",
      "source": [
        "## WAP to generate a password having\n",
        "\n",
        "1. atleast 8 characters long\n",
        "\n",
        "2. must contain 1 no. atleast\n",
        "\n",
        "3. must have 1st letter uppercase\n",
        "\n",
        "4. must have 1 special character"
      ],
      "metadata": {
        "id": "kOPdsmE_4hNK"
      }
    },
    {
      "cell_type": "code",
      "source": [
        "while True:\n",
        "  pwd = input('Enter a paasword:')\n",
        "  if (len(pwd) < 8):\n",
        "    print('Password must be minimum of 8 characters')\n",
        "\n",
        "  if re.search(r'[!@#$%^&]', pwd) is None:\n",
        "    print('Password must have 1 special character')\n",
        "\n",
        "  if re.search(r'\\d', pwd) is None:\n",
        "    print('Password must have one digit')\n",
        "\n",
        "  if pwd and not pwd[0].isupper():\n",
        "    print('First character must be in uppercase')\n",
        "\n",
        "  elif re.match(r'[a-zA-Z0-9@#$%^&]{8,}', pwd):\n",
        "    pattern = re.compile(r'[a-zA-Z0-9@#$%^&]{8,}')\n",
        "    res = pattern.match(pwd)\n",
        "    print('Valid Password. Your Password is:',pwd)\n",
        "    break\n",
        "  else:\n",
        "    print('Password Invalid')"
      ],
      "metadata": {
        "colab": {
          "base_uri": "https://localhost:8080/"
        },
        "id": "He301q384JeS",
        "outputId": "e8ce269f-5d29-4039-c0ce-7f22d2a5b1d1"
      },
      "execution_count": 38,
      "outputs": [
        {
          "output_type": "stream",
          "name": "stdout",
          "text": [
            "Enter a paasword:Abhi@123\n",
            "Valid Password. Your Password is: Abhi@123\n"
          ]
        }
      ]
    },
    {
      "cell_type": "code",
      "source": [
        "while True:\n",
        "  user_pwd = input('Enter a password:')\n",
        "  if user_pwd == 'done':\n",
        "    break\n",
        "  res = re.match(r'.*\\W+', user_pwd)\n",
        "  if res:\n",
        "    print('Invalid! Some special character is present')\n",
        "  else:\n",
        "    res = re.match(r'\\w+', user_pwd)\n",
        "    print(f'{res.group()} is a valid password')"
      ],
      "metadata": {
        "colab": {
          "base_uri": "https://localhost:8080/"
        },
        "id": "Vb3OJzPD9m1A",
        "outputId": "b560dd4d-3849-4ce2-f34c-6d2873cbe33f"
      },
      "execution_count": 39,
      "outputs": [
        {
          "name": "stdout",
          "output_type": "stream",
          "text": [
            "Enter a password:bond\n",
            "bond is a valid password\n",
            "Enter a password:Bond\n",
            "Bond is a valid password\n",
            "Enter a password:Bond007\n",
            "Bond007 is a valid password\n",
            "Enter a password:@bond007\n",
            "Invalid! Some special character is present\n",
            "Enter a password:Bond@007\n",
            "Invalid! Some special character is present\n",
            "Enter a password:Bond007#\n",
            "Invalid! Some special character is present\n",
            "Enter a password:done\n"
          ]
        }
      ]
    },
    {
      "cell_type": "code",
      "source": [
        "from __future__ import braces"
      ],
      "metadata": {
        "colab": {
          "base_uri": "https://localhost:8080/",
          "height": 130
        },
        "id": "XOIueGEvBCb3",
        "outputId": "a05c6931-b6ee-443f-8a1b-759ed36236a4"
      },
      "execution_count": 40,
      "outputs": [
        {
          "output_type": "error",
          "ename": "SyntaxError",
          "evalue": "ignored",
          "traceback": [
            "\u001b[0;36m  File \u001b[0;32m\"<ipython-input-40-6d5c5b2f0daf>\"\u001b[0;36m, line \u001b[0;32m1\u001b[0m\n\u001b[0;31m    from __future__ import braces\u001b[0m\n\u001b[0m                                 ^\u001b[0m\n\u001b[0;31mSyntaxError\u001b[0m\u001b[0;31m:\u001b[0m not a chance\n"
          ]
        }
      ]
    },
    {
      "cell_type": "code",
      "source": [
        "import this"
      ],
      "metadata": {
        "colab": {
          "base_uri": "https://localhost:8080/"
        },
        "id": "rs2St8k2D-YP",
        "outputId": "ef43b677-e952-45a5-8738-562b82dc1629"
      },
      "execution_count": 41,
      "outputs": [
        {
          "output_type": "stream",
          "name": "stdout",
          "text": [
            "The Zen of Python, by Tim Peters\n",
            "\n",
            "Beautiful is better than ugly.\n",
            "Explicit is better than implicit.\n",
            "Simple is better than complex.\n",
            "Complex is better than complicated.\n",
            "Flat is better than nested.\n",
            "Sparse is better than dense.\n",
            "Readability counts.\n",
            "Special cases aren't special enough to break the rules.\n",
            "Although practicality beats purity.\n",
            "Errors should never pass silently.\n",
            "Unless explicitly silenced.\n",
            "In the face of ambiguity, refuse the temptation to guess.\n",
            "There should be one-- and preferably only one --obvious way to do it.\n",
            "Although that way may not be obvious at first unless you're Dutch.\n",
            "Now is better than never.\n",
            "Although never is often better than *right* now.\n",
            "If the implementation is hard to explain, it's a bad idea.\n",
            "If the implementation is easy to explain, it may be a good idea.\n",
            "Namespaces are one honking great idea -- let's do more of those!\n"
          ]
        }
      ]
    },
    {
      "cell_type": "markdown",
      "source": [
        "## WAP to validate Aadhar Card. The format should be xxxx-xxxx-xxxx"
      ],
      "metadata": {
        "id": "GHaOM5lNGrQl"
      }
    },
    {
      "cell_type": "code",
      "source": [
        "num = input('Enter the 12 digit Aadhar Card:')\n",
        "if len(num) == 14:\n",
        "  res = re.match(r'[\\d]{4}-[\\d]{4}-[\\d]{4}', num)\n",
        "  print('Aadhar Card is in correct format')\n",
        "else:\n",
        "  print('Please enter Aadhar Card in correct format')"
      ],
      "metadata": {
        "colab": {
          "base_uri": "https://localhost:8080/"
        },
        "id": "3KFDXFhfELo-",
        "outputId": "df25078d-ae28-4057-867a-9878f3206ab9"
      },
      "execution_count": 42,
      "outputs": [
        {
          "output_type": "stream",
          "name": "stdout",
          "text": [
            "Enter the 12 digit Aadhar Card:5565-8785-1828\n",
            "Aadhar Card is in correct format\n"
          ]
        }
      ]
    },
    {
      "cell_type": "code",
      "source": [
        "while True:\n",
        "  num = input('Enter the 12 digit Aadhar Card:')\n",
        "  if num == 'done':\n",
        "    break\n",
        "  if len(num) == 14:\n",
        "    res = re.match(r'[\\d]{4}(-| |/)[\\d]{4}(\\1)[\\d]{4}', num)\n",
        "    print('Aadhar Card is in correct format')\n",
        "  else:\n",
        "    print('Please enter Aadhar Card in correct format')"
      ],
      "metadata": {
        "colab": {
          "base_uri": "https://localhost:8080/"
        },
        "id": "GN8f-CAVHls8",
        "outputId": "b0085eca-a37b-48c7-f09a-4c8f5f0e2e03"
      },
      "execution_count": 46,
      "outputs": [
        {
          "name": "stdout",
          "output_type": "stream",
          "text": [
            "Enter the 12 digit Aadhar Card:5565 8785 1828\n",
            "Aadhar Card is in correct format\n",
            "Enter the 12 digit Aadhar Card:5565/8785/1828\n",
            "Aadhar Card is in correct format\n",
            "Enter the 12 digit Aadhar Card:5565-8785-1828\n",
            "Aadhar Card is in correct format\n",
            "Enter the 12 digit Aadhar Card:done\n"
          ]
        }
      ]
    },
    {
      "cell_type": "markdown",
      "source": [
        "## WAP to validate PAN Card Number"
      ],
      "metadata": {
        "id": "JXL2lpNXPiNT"
      }
    },
    {
      "cell_type": "code",
      "source": [
        "num = input('Enter the 10 digit PAN Card Number:')\n",
        "if len(num) == 10:\n",
        "  res = re.match(r'[\\D]{5}[\\d]{4}[\\D]', num)\n",
        "  print('PAN Card is in correct format')\n",
        "else:\n",
        "  print('Please enter PAN Card in correct format')"
      ],
      "metadata": {
        "colab": {
          "base_uri": "https://localhost:8080/"
        },
        "id": "j2eBzfloLBj8",
        "outputId": "d4c9ba78-1ed2-44ba-e63f-9002d62b73ec"
      },
      "execution_count": 48,
      "outputs": [
        {
          "output_type": "stream",
          "name": "stdout",
          "text": [
            "Enter the 10 digit PAN Card Number:ZXMPS2854Y\n",
            "PAN Card is in correct format\n"
          ]
        }
      ]
    },
    {
      "cell_type": "code",
      "source": [
        "num = input('Enter the 10 digit PAN Card Number:')\n",
        "if len(num) == 10:\n",
        "  res = re.match(r'[\\D]{5}[\\d]{4}[\\D]', num)\n",
        "  print('PAN Card is in correct format')\n",
        "else:\n",
        "  print('Please enter PAN Card in correct format')"
      ],
      "metadata": {
        "colab": {
          "base_uri": "https://localhost:8080/"
        },
        "id": "4agfudAYPsyC",
        "outputId": "687f62a1-f1d8-4c23-f2b0-79c9307d4d45"
      },
      "execution_count": 49,
      "outputs": [
        {
          "output_type": "stream",
          "name": "stdout",
          "text": [
            "Enter the 10 digit PAN Card Number:zxmps2854y\n",
            "PAN Card is in correct format\n"
          ]
        }
      ]
    },
    {
      "cell_type": "code",
      "source": [
        "num = input('Enter the 10 digit PAN Card Number:')\n",
        "if len(num) == 10:\n",
        "  res = re.match(r'^[\\D]{5}[\\d]{4}[\\D]$', num)\n",
        "  print('PAN Card is in correct format')\n",
        "else:\n",
        "  print('Please enter PAN Card in correct format')"
      ],
      "metadata": {
        "colab": {
          "base_uri": "https://localhost:8080/"
        },
        "id": "RZC3S9FNQRiS",
        "outputId": "f3c2a7e7-ae1a-4a1e-fbe3-c9195eed814b"
      },
      "execution_count": 53,
      "outputs": [
        {
          "output_type": "stream",
          "name": "stdout",
          "text": [
            "Enter the 10 digit PAN Card Number:12345gfhjp\n",
            "PAN Card is in correct format\n"
          ]
        }
      ]
    },
    {
      "cell_type": "code",
      "source": [
        "num = input('Enter the 10 digit PAN Card Number:')\n",
        "if len(num) == 10:\n",
        "  res = re.match(r'^[A-Z]{5}[\\d]{4}[A-Z]$', num)\n",
        "  print('PAN Card is in correct format')\n",
        "else:\n",
        "  print('Please enter PAN Card in correct format')"
      ],
      "metadata": {
        "colab": {
          "base_uri": "https://localhost:8080/"
        },
        "id": "_rDml8zXQW0p",
        "outputId": "9990213d-aedf-4e3c-840f-5148d73cc707"
      },
      "execution_count": 55,
      "outputs": [
        {
          "output_type": "stream",
          "name": "stdout",
          "text": [
            "Enter the 10 digit PAN Card Number:ZYMPS8542D\n",
            "PAN Card is in correct format\n"
          ]
        }
      ]
    },
    {
      "cell_type": "code",
      "source": [
        ""
      ],
      "metadata": {
        "id": "r5mNvCBCRDEB"
      },
      "execution_count": null,
      "outputs": []
    }
  ]
}