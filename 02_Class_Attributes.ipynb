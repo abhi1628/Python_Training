{
  "nbformat": 4,
  "nbformat_minor": 0,
  "metadata": {
    "colab": {
      "name": "02. Class Attributes.ipynb",
      "provenance": [],
      "authorship_tag": "ABX9TyOQgvLm0FewSeTJttXUyWkM",
      "include_colab_link": true
    },
    "kernelspec": {
      "name": "python3",
      "display_name": "Python 3"
    },
    "language_info": {
      "name": "python"
    }
  },
  "cells": [
    {
      "cell_type": "markdown",
      "metadata": {
        "id": "view-in-github",
        "colab_type": "text"
      },
      "source": [
        "<a href=\"https://colab.research.google.com/github/abhi1628/Python_Training/blob/main/02_Class_Attributes.ipynb\" target=\"_parent\"><img src=\"https://colab.research.google.com/assets/colab-badge.svg\" alt=\"Open In Colab\"/></a>"
      ]
    },
    {
      "cell_type": "code",
      "execution_count": null,
      "metadata": {
        "id": "L06cMVYg7BqJ"
      },
      "outputs": [],
      "source": [
        "class MyClass:\n",
        "  language = 'Python' # attribute of class\n",
        "  version = '3.7' # attribute of class"
      ]
    },
    {
      "cell_type": "code",
      "source": [
        "# getattr (object_symbol, attribute_name, optional_default)"
      ],
      "metadata": {
        "id": "1ylQoK9L7T_I"
      },
      "execution_count": null,
      "outputs": []
    },
    {
      "cell_type": "code",
      "source": [
        "getattr(MyClass, 'language')"
      ],
      "metadata": {
        "colab": {
          "base_uri": "https://localhost:8080/",
          "height": 35
        },
        "id": "VAFBbuRS7hNH",
        "outputId": "68713f37-f7d7-407c-afa4-7a8733107c92"
      },
      "execution_count": null,
      "outputs": [
        {
          "output_type": "execute_result",
          "data": {
            "application/vnd.google.colaboratory.intrinsic+json": {
              "type": "string"
            },
            "text/plain": [
              "'Python'"
            ]
          },
          "metadata": {},
          "execution_count": 3
        }
      ]
    },
    {
      "cell_type": "code",
      "source": [
        "getattr(MyClass, 'Java')"
      ],
      "metadata": {
        "colab": {
          "base_uri": "https://localhost:8080/",
          "height": 165
        },
        "id": "4uU9IP1z7mX_",
        "outputId": "5ce241ee-95bb-4653-8371-062b8920f0f4"
      },
      "execution_count": null,
      "outputs": [
        {
          "output_type": "error",
          "ename": "AttributeError",
          "evalue": "ignored",
          "traceback": [
            "\u001b[0;31m---------------------------------------------------------------------------\u001b[0m",
            "\u001b[0;31mAttributeError\u001b[0m                            Traceback (most recent call last)",
            "\u001b[0;32m<ipython-input-4-f8947c545c8e>\u001b[0m in \u001b[0;36m<module>\u001b[0;34m()\u001b[0m\n\u001b[0;32m----> 1\u001b[0;31m \u001b[0mgetattr\u001b[0m\u001b[0;34m(\u001b[0m\u001b[0mMyClass\u001b[0m\u001b[0;34m,\u001b[0m \u001b[0;34m'Java'\u001b[0m\u001b[0;34m)\u001b[0m\u001b[0;34m\u001b[0m\u001b[0;34m\u001b[0m\u001b[0m\n\u001b[0m",
            "\u001b[0;31mAttributeError\u001b[0m: type object 'MyClass' has no attribute 'Java'"
          ]
        }
      ]
    },
    {
      "cell_type": "code",
      "source": [
        "getattr(MyClass, 'Javascript', 'None')"
      ],
      "metadata": {
        "colab": {
          "base_uri": "https://localhost:8080/",
          "height": 35
        },
        "id": "aPVxQF367rfO",
        "outputId": "89c48947-d8ab-411a-e86c-ee569e82e9fb"
      },
      "execution_count": null,
      "outputs": [
        {
          "output_type": "execute_result",
          "data": {
            "application/vnd.google.colaboratory.intrinsic+json": {
              "type": "string"
            },
            "text/plain": [
              "'None'"
            ]
          },
          "metadata": {},
          "execution_count": 5
        }
      ]
    },
    {
      "cell_type": "code",
      "source": [
        "# Using dot notation"
      ],
      "metadata": {
        "id": "BjcMLvQ570ov"
      },
      "execution_count": null,
      "outputs": []
    },
    {
      "cell_type": "code",
      "source": [
        "MyClass.language"
      ],
      "metadata": {
        "colab": {
          "base_uri": "https://localhost:8080/",
          "height": 35
        },
        "id": "wM7S-Q1776AH",
        "outputId": "8e9d735a-3acc-471a-ada8-c43467fa94a6"
      },
      "execution_count": null,
      "outputs": [
        {
          "output_type": "execute_result",
          "data": {
            "application/vnd.google.colaboratory.intrinsic+json": {
              "type": "string"
            },
            "text/plain": [
              "'Python'"
            ]
          },
          "metadata": {},
          "execution_count": 7
        }
      ]
    },
    {
      "cell_type": "code",
      "source": [
        "# Using dot notation no default option is available"
      ],
      "metadata": {
        "id": "H6Ppnyo678Fn"
      },
      "execution_count": null,
      "outputs": []
    },
    {
      "cell_type": "code",
      "source": [
        "# Setting Attribute Values"
      ],
      "metadata": {
        "id": "FUz96Y8e8EXv"
      },
      "execution_count": null,
      "outputs": []
    },
    {
      "cell_type": "code",
      "source": [
        "# setattr(object_symbol, attribute_name, attribute_value)"
      ],
      "metadata": {
        "id": "t6EXnXST8IRX"
      },
      "execution_count": null,
      "outputs": []
    },
    {
      "cell_type": "code",
      "source": [
        "setattr(MyClass, 'version', '3.10')"
      ],
      "metadata": {
        "id": "ixxRIx4w8WHQ"
      },
      "execution_count": null,
      "outputs": []
    },
    {
      "cell_type": "code",
      "source": [
        "MyClass.version = '3.10'"
      ],
      "metadata": {
        "id": "TNT8jl1w8crn"
      },
      "execution_count": null,
      "outputs": []
    },
    {
      "cell_type": "code",
      "source": [
        "getattr(MyClass, 'version')"
      ],
      "metadata": {
        "colab": {
          "base_uri": "https://localhost:8080/",
          "height": 35
        },
        "id": "pjNAVU_S8jB3",
        "outputId": "66eeed19-d66a-4562-c4d2-fb0f8c5c8748"
      },
      "execution_count": null,
      "outputs": [
        {
          "output_type": "execute_result",
          "data": {
            "application/vnd.google.colaboratory.intrinsic+json": {
              "type": "string"
            },
            "text/plain": [
              "'3.10'"
            ]
          },
          "metadata": {},
          "execution_count": 13
        }
      ]
    },
    {
      "cell_type": "code",
      "source": [
        "# MyClass attribute has been mutated."
      ],
      "metadata": {
        "id": "sDBquGIv8oc3"
      },
      "execution_count": null,
      "outputs": []
    },
    {
      "cell_type": "code",
      "source": [
        "# Setting a new attribute"
      ],
      "metadata": {
        "id": "k1gfiBAH8yj-"
      },
      "execution_count": null,
      "outputs": []
    },
    {
      "cell_type": "code",
      "source": [
        "setattr(MyClass, 'JavaScript', '3.7')"
      ],
      "metadata": {
        "id": "FEpDM7wv9GHP"
      },
      "execution_count": null,
      "outputs": []
    },
    {
      "cell_type": "code",
      "source": [
        "MyClass.__dict__ # class namespace"
      ],
      "metadata": {
        "colab": {
          "base_uri": "https://localhost:8080/"
        },
        "id": "xWxwqwZx9PVo",
        "outputId": "4ae6971e-0ece-4e7c-df1b-29c67f16bc5f"
      },
      "execution_count": null,
      "outputs": [
        {
          "output_type": "execute_result",
          "data": {
            "text/plain": [
              "mappingproxy({'JavaScript': '3.7',\n",
              "              '__dict__': <attribute '__dict__' of 'MyClass' objects>,\n",
              "              '__doc__': None,\n",
              "              '__module__': '__main__',\n",
              "              '__weakref__': <attribute '__weakref__' of 'MyClass' objects>,\n",
              "              'language': 'Python',\n",
              "              'version': '3.10'})"
            ]
          },
          "metadata": {},
          "execution_count": 19
        }
      ]
    },
    {
      "cell_type": "code",
      "source": [
        "# Mutating Attributes"
      ],
      "metadata": {
        "id": "OBL09q8w9ZQw"
      },
      "execution_count": null,
      "outputs": []
    },
    {
      "cell_type": "code",
      "source": [
        "setattr(MyClass, 'JavaScript', '3.7')"
      ],
      "metadata": {
        "id": "R8zrKV0R-AF3"
      },
      "execution_count": null,
      "outputs": []
    },
    {
      "cell_type": "code",
      "source": [
        "MyClass.__dict__"
      ],
      "metadata": {
        "colab": {
          "base_uri": "https://localhost:8080/"
        },
        "id": "iCq6VMm5-OKn",
        "outputId": "4ae5c96f-f712-483a-df8a-8e4d0bbbf850"
      },
      "execution_count": null,
      "outputs": [
        {
          "output_type": "execute_result",
          "data": {
            "text/plain": [
              "mappingproxy({'JavaScript': '3.7',\n",
              "              '__dict__': <attribute '__dict__' of 'MyClass' objects>,\n",
              "              '__doc__': None,\n",
              "              '__module__': '__main__',\n",
              "              '__weakref__': <attribute '__weakref__' of 'MyClass' objects>,\n",
              "              'language': 'Python',\n",
              "              'version': '3.10'})"
            ]
          },
          "metadata": {},
          "execution_count": 22
        }
      ]
    },
    {
      "cell_type": "code",
      "source": [
        "# Deleting Attributes"
      ],
      "metadata": {
        "id": "ZkR9-lvu-Qng"
      },
      "execution_count": null,
      "outputs": []
    },
    {
      "cell_type": "code",
      "source": [
        "# delattr(obj_symbol, attribute_name) or del keyword"
      ],
      "metadata": {
        "id": "MY1he6pp-bGH"
      },
      "execution_count": null,
      "outputs": []
    },
    {
      "cell_type": "code",
      "source": [
        "delattr(MyClass, 'JavaScript')"
      ],
      "metadata": {
        "id": "X7yim9ga-gdG"
      },
      "execution_count": null,
      "outputs": []
    },
    {
      "cell_type": "code",
      "source": [
        "MyClass.__dict__"
      ],
      "metadata": {
        "colab": {
          "base_uri": "https://localhost:8080/"
        },
        "id": "qg3PFCU7-pMA",
        "outputId": "4ceac1ce-dae6-4089-dec7-7195d8a48ed7"
      },
      "execution_count": null,
      "outputs": [
        {
          "output_type": "execute_result",
          "data": {
            "text/plain": [
              "mappingproxy({'__dict__': <attribute '__dict__' of 'MyClass' objects>,\n",
              "              '__doc__': None,\n",
              "              '__module__': '__main__',\n",
              "              '__weakref__': <attribute '__weakref__' of 'MyClass' objects>,\n",
              "              'language': 'Python',\n",
              "              'version': '3.10'})"
            ]
          },
          "metadata": {},
          "execution_count": 27
        }
      ]
    },
    {
      "cell_type": "code",
      "source": [
        "list(MyClass.__dict__.items())"
      ],
      "metadata": {
        "colab": {
          "base_uri": "https://localhost:8080/"
        },
        "id": "CVSlx0Oc_XiP",
        "outputId": "0b5fa169-0bac-4333-93ee-ef9b34774aaa"
      },
      "execution_count": null,
      "outputs": [
        {
          "output_type": "execute_result",
          "data": {
            "text/plain": [
              "[('__module__', '__main__'),\n",
              " ('language', 'Python'),\n",
              " ('version', '3.10'),\n",
              " ('__dict__', <attribute '__dict__' of 'MyClass' objects>),\n",
              " ('__weakref__', <attribute '__weakref__' of 'MyClass' objects>),\n",
              " ('__doc__', None)]"
            ]
          },
          "metadata": {},
          "execution_count": 33
        }
      ]
    },
    {
      "cell_type": "code",
      "source": [
        "# Accessing the namespace directly"
      ],
      "metadata": {
        "id": "bGaflSaS-ulf"
      },
      "execution_count": null,
      "outputs": []
    },
    {
      "cell_type": "code",
      "source": [
        "# __dict__ attribute returns mappingproxy object"
      ],
      "metadata": {
        "id": "1_odFW8K-0I4"
      },
      "execution_count": null,
      "outputs": []
    },
    {
      "cell_type": "code",
      "source": [
        "# Use the following methods\n",
        "MyClass.language"
      ],
      "metadata": {
        "colab": {
          "base_uri": "https://localhost:8080/",
          "height": 35
        },
        "id": "r8Hmzu9K-8w_",
        "outputId": "de8ce5a7-a814-420a-975e-5bb5e1bec0c1"
      },
      "execution_count": null,
      "outputs": [
        {
          "output_type": "execute_result",
          "data": {
            "application/vnd.google.colaboratory.intrinsic+json": {
              "type": "string"
            },
            "text/plain": [
              "'Python'"
            ]
          },
          "metadata": {},
          "execution_count": 30
        }
      ]
    },
    {
      "cell_type": "code",
      "source": [
        "getattr(MyClass, 'language')"
      ],
      "metadata": {
        "colab": {
          "base_uri": "https://localhost:8080/",
          "height": 35
        },
        "id": "IfJRsy3p_Mcn",
        "outputId": "93ff4075-5ac5-4e04-b803-0f5d26e3602c"
      },
      "execution_count": null,
      "outputs": [
        {
          "output_type": "execute_result",
          "data": {
            "application/vnd.google.colaboratory.intrinsic+json": {
              "type": "string"
            },
            "text/plain": [
              "'Python'"
            ]
          },
          "metadata": {},
          "execution_count": 31
        }
      ]
    },
    {
      "cell_type": "code",
      "source": [
        "# Do not prefer this method\n",
        "MyClass.__dict__['language']"
      ],
      "metadata": {
        "colab": {
          "base_uri": "https://localhost:8080/",
          "height": 35
        },
        "id": "ufrGVbEm_Qag",
        "outputId": "b42c4d04-0a13-4569-b1be-7e21ab4e2418"
      },
      "execution_count": null,
      "outputs": [
        {
          "output_type": "execute_result",
          "data": {
            "application/vnd.google.colaboratory.intrinsic+json": {
              "type": "string"
            },
            "text/plain": [
              "'Python'"
            ]
          },
          "metadata": {},
          "execution_count": 32
        }
      ]
    },
    {
      "cell_type": "code",
      "source": [
        ""
      ],
      "metadata": {
        "id": "3tzSizCk_1E4"
      },
      "execution_count": null,
      "outputs": []
    }
  ]
}