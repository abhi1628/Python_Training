{
  "nbformat": 4,
  "nbformat_minor": 0,
  "metadata": {
    "colab": {
      "name": "Day 2 PT.ipynb",
      "provenance": [],
      "collapsed_sections": [],
      "authorship_tag": "ABX9TyNHQ+KmcNWhFAKZnSpa1kJR",
      "include_colab_link": true
    },
    "kernelspec": {
      "name": "python3",
      "display_name": "Python 3"
    },
    "language_info": {
      "name": "python"
    }
  },
  "cells": [
    {
      "cell_type": "markdown",
      "metadata": {
        "id": "view-in-github",
        "colab_type": "text"
      },
      "source": [
        "<a href=\"https://colab.research.google.com/github/abhi1628/Python_Training/blob/main/Day_2_PT.ipynb\" target=\"_parent\"><img src=\"https://colab.research.google.com/assets/colab-badge.svg\" alt=\"Open In Colab\"/></a>"
      ]
    },
    {
      "cell_type": "markdown",
      "source": [
        "## WAP to find the LCM"
      ],
      "metadata": {
        "id": "KAqarHB4nKP9"
      }
    },
    {
      "cell_type": "code",
      "execution_count": null,
      "metadata": {
        "colab": {
          "base_uri": "https://localhost:8080/"
        },
        "id": "SbR_knLhnAT4",
        "outputId": "d637fbbe-56e3-44ea-e0c6-1c5516598cc7"
      },
      "outputs": [
        {
          "output_type": "stream",
          "name": "stdout",
          "text": [
            "Enter 1st no:12\n",
            "Enter 2nd no:15\n",
            "The LCM is: 60\n"
          ]
        }
      ],
      "source": [
        "a = int(input('Enter 1st no:'))\n",
        "b = int(input('Enter 2nd no:'))\n",
        "if a < b:\n",
        "  a,b = b,a\n",
        "for i in range(b, (a*b)+1, b):\n",
        "  if i%a == 0:\n",
        "    print('The LCM is:',i)\n",
        "    break"
      ]
    },
    {
      "cell_type": "markdown",
      "source": [
        "## WAP to find HCF"
      ],
      "metadata": {
        "id": "xl9W4NaYxcZ2"
      }
    },
    {
      "cell_type": "code",
      "source": [
        "a = int(input('Enter 1st no:'))\n",
        "b = int(input('Enter 2nd no:'))\n",
        "i = 1\n",
        "while (i <= a and i <= b):\n",
        "  if a%i == 0 and b%i == 0:\n",
        "    hcf = i\n",
        "  i += 1\n",
        "print('The HCF is:', hcf)"
      ],
      "metadata": {
        "colab": {
          "base_uri": "https://localhost:8080/"
        },
        "id": "O0iksm09tAaO",
        "outputId": "5091cd79-11f0-46aa-c92e-77913cf75e33"
      },
      "execution_count": null,
      "outputs": [
        {
          "output_type": "stream",
          "name": "stdout",
          "text": [
            "Enter 1st no:12\n",
            "Enter 2nd no:15\n",
            "The HCF is: 3\n"
          ]
        }
      ]
    },
    {
      "cell_type": "markdown",
      "source": [
        "## WAP to print star patterns?"
      ],
      "metadata": {
        "id": "z9Zz2jQj3oln"
      }
    },
    {
      "cell_type": "code",
      "source": [
        "print(1)\n",
        "print(1)\n",
        "print(1)\n",
        "print(1)"
      ],
      "metadata": {
        "colab": {
          "base_uri": "https://localhost:8080/"
        },
        "id": "yxjXAxtu1fjP",
        "outputId": "c18f5fb6-e0b2-4909-93f0-32b1e0469656"
      },
      "execution_count": null,
      "outputs": [
        {
          "output_type": "stream",
          "name": "stdout",
          "text": [
            "1\n",
            "1\n",
            "1\n",
            "1\n"
          ]
        }
      ]
    },
    {
      "cell_type": "code",
      "source": [
        "for i in range(4):\n",
        "  print(1)"
      ],
      "metadata": {
        "colab": {
          "base_uri": "https://localhost:8080/"
        },
        "id": "0ETYwbJ61mQn",
        "outputId": "b7800d86-1871-4ef9-edf7-c7b4d0447535"
      },
      "execution_count": null,
      "outputs": [
        {
          "output_type": "stream",
          "name": "stdout",
          "text": [
            "1\n",
            "1\n",
            "1\n",
            "1\n"
          ]
        }
      ]
    },
    {
      "cell_type": "code",
      "source": [
        "for i in range(0,4):\n",
        "  print(1, end = ' ')"
      ],
      "metadata": {
        "colab": {
          "base_uri": "https://localhost:8080/"
        },
        "id": "IXY1QNcP14dW",
        "outputId": "9169183b-a4c7-40ab-e789-f2b6641b86a6"
      },
      "execution_count": null,
      "outputs": [
        {
          "output_type": "stream",
          "name": "stdout",
          "text": [
            "1 1 1 1 "
          ]
        }
      ]
    },
    {
      "cell_type": "code",
      "source": [
        "for x in range(0,4):\n",
        "  for i in range(0,4):\n",
        "    print(1, end = ' ')\n",
        "  print()"
      ],
      "metadata": {
        "colab": {
          "base_uri": "https://localhost:8080/"
        },
        "id": "EmZI_KqF2Aq3",
        "outputId": "184bada5-0bab-48b7-9719-0dfd6ff4d3fc"
      },
      "execution_count": null,
      "outputs": [
        {
          "output_type": "stream",
          "name": "stdout",
          "text": [
            "1 1 1 1 \n",
            "1 1 1 1 \n",
            "1 1 1 1 \n",
            "1 1 1 1 \n"
          ]
        }
      ]
    },
    {
      "cell_type": "code",
      "source": [
        "a = int(input('Enter a number:'))\n",
        "for x in range(a):\n",
        "  for i in range(a):\n",
        "    print(1, end = ' ')\n",
        "  print()"
      ],
      "metadata": {
        "colab": {
          "base_uri": "https://localhost:8080/"
        },
        "id": "OgUhyuDI2Xqu",
        "outputId": "c971bb3f-ba6e-4289-ef0a-fea629e90e82"
      },
      "execution_count": null,
      "outputs": [
        {
          "output_type": "stream",
          "name": "stdout",
          "text": [
            "Enter a number:4\n",
            "1 1 1 1 \n",
            "1 1 1 1 \n",
            "1 1 1 1 \n",
            "1 1 1 1 \n"
          ]
        }
      ]
    },
    {
      "cell_type": "code",
      "source": [
        "a = int(input('Enter a number:'))\n",
        "for x in range(a):\n",
        "  for i in range(a):\n",
        "    print('*', end = ' ')\n",
        "  print()"
      ],
      "metadata": {
        "colab": {
          "base_uri": "https://localhost:8080/"
        },
        "id": "PO8TxGrg24ZX",
        "outputId": "0af16762-35ca-4f72-ce9d-820fcf6c4661"
      },
      "execution_count": null,
      "outputs": [
        {
          "output_type": "stream",
          "name": "stdout",
          "text": [
            "Enter a number:4\n",
            "* * * * \n",
            "* * * * \n",
            "* * * * \n",
            "* * * * \n"
          ]
        }
      ]
    },
    {
      "cell_type": "code",
      "source": [
        "a = int(input('Enter a number:'))\n",
        "for x in range(a):\n",
        "  for i in range(4-x):\n",
        "    print('*', end = ' ')\n",
        "  print()"
      ],
      "metadata": {
        "colab": {
          "base_uri": "https://localhost:8080/"
        },
        "id": "SX-XhdWt29K2",
        "outputId": "0f140d93-b5b3-41c5-fa6d-1fb86c629fe0"
      },
      "execution_count": null,
      "outputs": [
        {
          "output_type": "stream",
          "name": "stdout",
          "text": [
            "Enter a number:4\n",
            "* * * * \n",
            "* * * \n",
            "* * \n",
            "* \n"
          ]
        }
      ]
    },
    {
      "cell_type": "markdown",
      "source": [
        "# List"
      ],
      "metadata": {
        "id": "hb2AY2gn7TfX"
      }
    },
    {
      "cell_type": "code",
      "source": [
        "a = []\n",
        "print(a)\n",
        "print(type(a))"
      ],
      "metadata": {
        "colab": {
          "base_uri": "https://localhost:8080/"
        },
        "id": "uth_thCY3cp_",
        "outputId": "2bf5f55c-3902-4522-c1ba-c94f4758d523"
      },
      "execution_count": null,
      "outputs": [
        {
          "output_type": "stream",
          "name": "stdout",
          "text": [
            "[]\n",
            "<class 'list'>\n"
          ]
        }
      ]
    },
    {
      "cell_type": "code",
      "source": [
        "a.append(1)"
      ],
      "metadata": {
        "id": "y3Od1-cY7jxG"
      },
      "execution_count": null,
      "outputs": []
    },
    {
      "cell_type": "code",
      "source": [
        "print(a)"
      ],
      "metadata": {
        "colab": {
          "base_uri": "https://localhost:8080/"
        },
        "id": "a9PeskKg8ITn",
        "outputId": "e13fc56c-fe66-4f9e-ad7f-71978151afd6"
      },
      "execution_count": null,
      "outputs": [
        {
          "output_type": "stream",
          "name": "stdout",
          "text": [
            "[1]\n"
          ]
        }
      ]
    },
    {
      "cell_type": "code",
      "source": [
        "a.append(0)\n",
        "print(a)"
      ],
      "metadata": {
        "colab": {
          "base_uri": "https://localhost:8080/"
        },
        "id": "IRTwnzJK8J12",
        "outputId": "5837c07b-13a6-48bb-ded0-6e679d245832"
      },
      "execution_count": null,
      "outputs": [
        {
          "output_type": "stream",
          "name": "stdout",
          "text": [
            "[1, 0]\n"
          ]
        }
      ]
    },
    {
      "cell_type": "code",
      "source": [
        "a.append(5)\n",
        "print(a)"
      ],
      "metadata": {
        "colab": {
          "base_uri": "https://localhost:8080/"
        },
        "id": "DJsexEYh8PoG",
        "outputId": "3ea6e4d7-9ed4-4016-ce3e-d2c039bd9dde"
      },
      "execution_count": null,
      "outputs": [
        {
          "output_type": "stream",
          "name": "stdout",
          "text": [
            "[1, 0, 5]\n"
          ]
        }
      ]
    },
    {
      "cell_type": "code",
      "source": [
        "a.append(-1)\n",
        "print(a)"
      ],
      "metadata": {
        "colab": {
          "base_uri": "https://localhost:8080/"
        },
        "id": "YsvVlIUv8UIl",
        "outputId": "b58bd9ed-e5f6-4d33-ff96-de60dc813cc7"
      },
      "execution_count": null,
      "outputs": [
        {
          "output_type": "stream",
          "name": "stdout",
          "text": [
            "[1, 0, 5, -1]\n"
          ]
        }
      ]
    },
    {
      "cell_type": "code",
      "source": [
        "a.append([-2,5,6])\n",
        "print(a)"
      ],
      "metadata": {
        "colab": {
          "base_uri": "https://localhost:8080/"
        },
        "id": "yasn0bSN8Wzm",
        "outputId": "0cdb51db-4b5b-4f14-c938-3ef938105545"
      },
      "execution_count": null,
      "outputs": [
        {
          "output_type": "stream",
          "name": "stdout",
          "text": [
            "[1, 0, 5, -1, [-2, 5, 6]]\n"
          ]
        }
      ]
    },
    {
      "cell_type": "code",
      "source": [
        "a = [1, 0, 5, -1]\n",
        "a.extend([-2,6,7])\n",
        "print(a)"
      ],
      "metadata": {
        "colab": {
          "base_uri": "https://localhost:8080/"
        },
        "id": "6JjGKe6386Fn",
        "outputId": "c1c4170e-840a-48e0-e9aa-9fb121bfe96c"
      },
      "execution_count": null,
      "outputs": [
        {
          "output_type": "stream",
          "name": "stdout",
          "text": [
            "[1, 0, 5, -1, -2, 6, 7]\n"
          ]
        }
      ]
    },
    {
      "cell_type": "code",
      "source": [
        "a = [1, 0, 5, -1, -2, 6, 7]\n",
        "print(a[0])\n",
        "print(a[3])\n",
        "print(a[0:5])"
      ],
      "metadata": {
        "colab": {
          "base_uri": "https://localhost:8080/"
        },
        "id": "75u_k5er9jKn",
        "outputId": "1b8e01e9-a404-41f9-f87b-ef437a820a3d"
      },
      "execution_count": null,
      "outputs": [
        {
          "output_type": "stream",
          "name": "stdout",
          "text": [
            "1\n",
            "-1\n",
            "[1, 0, 5, -1, -2]\n"
          ]
        }
      ]
    },
    {
      "cell_type": "code",
      "source": [
        "print(a[0:5:1])\n",
        "print(a[0:])\n",
        "print(a[:])\n",
        "print(a[0:7])"
      ],
      "metadata": {
        "colab": {
          "base_uri": "https://localhost:8080/"
        },
        "id": "Lt5B6N-G_7MQ",
        "outputId": "055c0525-029c-4085-a39c-ec60ff6fa25b"
      },
      "execution_count": null,
      "outputs": [
        {
          "output_type": "stream",
          "name": "stdout",
          "text": [
            "[1, 0, 5, -1, -2]\n",
            "[1, 0, 5, -1, -2, 6, 7]\n",
            "[1, 0, 5, -1, -2, 6, 7]\n",
            "[1, 0, 5, -1, -2, 6, 7]\n"
          ]
        }
      ]
    },
    {
      "cell_type": "code",
      "source": [
        "print(a[-1])"
      ],
      "metadata": {
        "colab": {
          "base_uri": "https://localhost:8080/"
        },
        "id": "O3NwowcxAsK3",
        "outputId": "50d9112d-2583-4af8-86d1-b4f833106aba"
      },
      "execution_count": null,
      "outputs": [
        {
          "output_type": "stream",
          "name": "stdout",
          "text": [
            "7\n"
          ]
        }
      ]
    },
    {
      "cell_type": "code",
      "source": [
        "print(a[::-1])"
      ],
      "metadata": {
        "colab": {
          "base_uri": "https://localhost:8080/"
        },
        "id": "Zp1SrI-SBXtH",
        "outputId": "7ac9e5a0-b544-488e-9a46-0c5ef9e1550e"
      },
      "execution_count": null,
      "outputs": [
        {
          "output_type": "stream",
          "name": "stdout",
          "text": [
            "[7, 6, -2, -1, 5, 0, 1]\n"
          ]
        }
      ]
    },
    {
      "cell_type": "code",
      "source": [
        "a.insert(0,10)\n",
        "print(a)"
      ],
      "metadata": {
        "colab": {
          "base_uri": "https://localhost:8080/"
        },
        "id": "4uoWpjxqBlV2",
        "outputId": "c606210c-2b26-4aa4-89f4-f70b1e2cdeb6"
      },
      "execution_count": null,
      "outputs": [
        {
          "output_type": "stream",
          "name": "stdout",
          "text": [
            "[10, 1, 0, 5, -1, -2, 6, 7]\n"
          ]
        }
      ]
    },
    {
      "cell_type": "markdown",
      "source": [
        "## Copying List elements"
      ],
      "metadata": {
        "id": "WgpoThGHE2xn"
      }
    },
    {
      "cell_type": "code",
      "source": [
        "a = [10, 1, 0, 5, -1, -2, 6, 7]\n",
        "b = a\n",
        "print('The original List is:',a)\n",
        "print('The copied List is:',b)"
      ],
      "metadata": {
        "colab": {
          "base_uri": "https://localhost:8080/"
        },
        "id": "c4LuY89pEDO3",
        "outputId": "3a486231-1bb1-4fb7-ec06-19dafcd5744d"
      },
      "execution_count": null,
      "outputs": [
        {
          "output_type": "stream",
          "name": "stdout",
          "text": [
            "The original List is: [10, 1, 0, 5, -1, -2, 6, 7]\n",
            "The copied List is: [10, 1, 0, 5, -1, -2, 6, 7]\n"
          ]
        }
      ]
    },
    {
      "cell_type": "code",
      "source": [
        "a = [10, 1, 0, 5, -1, -2, 6, 7]\n",
        "b = a # shallow copy\n",
        "b.append(100)\n",
        "print('The original List is:',a)\n",
        "print('The copied List is:',b)"
      ],
      "metadata": {
        "colab": {
          "base_uri": "https://localhost:8080/"
        },
        "id": "5qBSZQSTFOX3",
        "outputId": "2ec6be3a-ce99-4747-ed86-af476e9ddfa2"
      },
      "execution_count": null,
      "outputs": [
        {
          "output_type": "stream",
          "name": "stdout",
          "text": [
            "The original List is: [10, 1, 0, 5, -1, -2, 6, 7, 100]\n",
            "The copied List is: [10, 1, 0, 5, -1, -2, 6, 7, 100]\n"
          ]
        }
      ]
    },
    {
      "cell_type": "code",
      "source": [
        "a = [10, 1, 0, 5, -1, -2, 6, 7]\n",
        "b = a.copy() # deep copy\n",
        "b.append(100)\n",
        "print('The original List is:',a)\n",
        "print('The copied List is:',b)"
      ],
      "metadata": {
        "colab": {
          "base_uri": "https://localhost:8080/"
        },
        "id": "xw3KqmWZFVQG",
        "outputId": "a4790c4b-118f-4725-f0d0-91f789e3e827"
      },
      "execution_count": null,
      "outputs": [
        {
          "output_type": "stream",
          "name": "stdout",
          "text": [
            "The original List is: [10, 1, 0, 5, -1, -2, 6, 7]\n",
            "The copied List is: [10, 1, 0, 5, -1, -2, 6, 7, 100]\n"
          ]
        }
      ]
    },
    {
      "cell_type": "code",
      "source": [
        "a = [10, 1, 0, 5, -1, -2, 6, 7]\n",
        "b = a[:] # deep copy\n",
        "b.append(100)\n",
        "print('The original List is:',a)\n",
        "print('The copied List is:',b)"
      ],
      "metadata": {
        "colab": {
          "base_uri": "https://localhost:8080/"
        },
        "id": "ghd43r_QFrO4",
        "outputId": "019c4dbc-e8df-4d47-aa59-b788d761715e"
      },
      "execution_count": null,
      "outputs": [
        {
          "output_type": "stream",
          "name": "stdout",
          "text": [
            "The original List is: [10, 1, 0, 5, -1, -2, 6, 7]\n",
            "The copied List is: [10, 1, 0, 5, -1, -2, 6, 7, 100]\n"
          ]
        }
      ]
    },
    {
      "cell_type": "markdown",
      "source": [
        "## WAP to copy one list elements into other list without using shallow or deep copy?"
      ],
      "metadata": {
        "id": "LfpHINayjG6w"
      }
    },
    {
      "cell_type": "code",
      "source": [
        "a = [10, 1, 0, 5, -1, -2, 6, 7]\n",
        "b = []\n",
        "for i in a:\n",
        "  b.append(i)\n",
        "print(b)"
      ],
      "metadata": {
        "colab": {
          "base_uri": "https://localhost:8080/"
        },
        "id": "HIEqotRmF-hG",
        "outputId": "b7edd3fe-fd2b-455b-bd59-e252c1c1601b"
      },
      "execution_count": null,
      "outputs": [
        {
          "output_type": "stream",
          "name": "stdout",
          "text": [
            "[10, 1, 0, 5, -1, -2, 6, 7]\n"
          ]
        }
      ]
    },
    {
      "cell_type": "markdown",
      "source": [
        "## WAP to copy square of one list elements into other list without using shallow or deep copy?"
      ],
      "metadata": {
        "id": "SyfyfQD_nFVA"
      }
    },
    {
      "cell_type": "code",
      "source": [
        "a = [10, 1, 0, 5, -1, -2, 6, 7]\n",
        "b = []\n",
        "for i in a:\n",
        "  b.append(i**2)\n",
        "print(b)"
      ],
      "metadata": {
        "colab": {
          "base_uri": "https://localhost:8080/"
        },
        "id": "UcDi2WEHkj-J",
        "outputId": "6fd42f1c-60d2-4d7c-e67d-77c44bca8b1e"
      },
      "execution_count": null,
      "outputs": [
        {
          "output_type": "stream",
          "name": "stdout",
          "text": [
            "[100, 1, 0, 25, 1, 4, 36, 49]\n"
          ]
        }
      ]
    },
    {
      "cell_type": "markdown",
      "source": [
        "## WAP to copy those elements of a list which are divisible by 2 and 5 only?"
      ],
      "metadata": {
        "id": "aFuWyA-1nObo"
      }
    },
    {
      "cell_type": "code",
      "source": [
        "a = [10, 1, 0, 5, -1, -2, 6, 7]\n",
        "b = []\n",
        "for i in a:\n",
        "  if i%2 == 0 and i%5 == 0:\n",
        "    b.append(i)\n",
        "print(b)"
      ],
      "metadata": {
        "colab": {
          "base_uri": "https://localhost:8080/"
        },
        "id": "HZb6MlFjnNXY",
        "outputId": "12d9aee1-f757-4171-e448-bb44e75381f5"
      },
      "execution_count": null,
      "outputs": [
        {
          "output_type": "stream",
          "name": "stdout",
          "text": [
            "[10, 0]\n"
          ]
        }
      ]
    },
    {
      "cell_type": "markdown",
      "source": [
        "## WAP to copy one list elements into another list. If the element is greater than 2, then copy it after squaring it? "
      ],
      "metadata": {
        "id": "RPS7eyCNmyeA"
      }
    },
    {
      "cell_type": "code",
      "source": [
        "a = [10, 1, 0, 5, -1, -2, 6, 7]\n",
        "b = []\n",
        "for i in a:\n",
        "  if i > 2:\n",
        "    b.append(i**2)\n",
        "  else:\n",
        "    b.append(i)\n",
        "print(b)"
      ],
      "metadata": {
        "colab": {
          "base_uri": "https://localhost:8080/"
        },
        "id": "DUh5Q4h-l_W5",
        "outputId": "c0ac0433-f5f4-4c2c-b38b-4100dc7e0415"
      },
      "execution_count": null,
      "outputs": [
        {
          "output_type": "stream",
          "name": "stdout",
          "text": [
            "[100, 1, 0, 25, -1, -2, 36, 49]\n"
          ]
        }
      ]
    },
    {
      "cell_type": "markdown",
      "source": [
        "## WAP to find the missing values"
      ],
      "metadata": {
        "id": "9FonwYcIoW2y"
      }
    },
    {
      "cell_type": "code",
      "source": [
        "a = [1, 2, 3, 5, 6, 8, 9, 10]\n",
        "b = []\n",
        "for i in range(a[0], a[-1]):\n",
        "  if i not in a:\n",
        "    b.append(i)\n",
        "print(b)"
      ],
      "metadata": {
        "colab": {
          "base_uri": "https://localhost:8080/"
        },
        "id": "qWmqSG98mbmZ",
        "outputId": "51361c4f-d314-4e17-a805-deba2411b8de"
      },
      "execution_count": null,
      "outputs": [
        {
          "output_type": "stream",
          "name": "stdout",
          "text": [
            "[4, 7]\n"
          ]
        }
      ]
    },
    {
      "cell_type": "markdown",
      "source": [
        "## List Comprehension"
      ],
      "metadata": {
        "id": "_nCfQZzcqfBg"
      }
    },
    {
      "cell_type": "code",
      "source": [
        "a = [10, 1, 0, 5, -1, -2, 6, 7]\n",
        "b = []\n",
        "for i in a:\n",
        "  b.append(i)\n",
        "print(b)"
      ],
      "metadata": {
        "colab": {
          "base_uri": "https://localhost:8080/"
        },
        "id": "YTtkK2xnpks5",
        "outputId": "34de42f6-aec0-4f1e-da65-71e8850bcf58"
      },
      "execution_count": null,
      "outputs": [
        {
          "output_type": "stream",
          "name": "stdout",
          "text": [
            "[10, 1, 0, 5, -1, -2, 6, 7]\n"
          ]
        }
      ]
    },
    {
      "cell_type": "code",
      "source": [
        "a = [10, 1, 0, 5, -1, -2, 6, 7]\n",
        "b = [i for i in a]\n",
        "print(b)"
      ],
      "metadata": {
        "colab": {
          "base_uri": "https://localhost:8080/"
        },
        "id": "jSNgN3x0qsS5",
        "outputId": "2ff29f9f-0994-44e5-d070-4dce3bb07fb3"
      },
      "execution_count": null,
      "outputs": [
        {
          "output_type": "stream",
          "name": "stdout",
          "text": [
            "[10, 1, 0, 5, -1, -2, 6, 7]\n"
          ]
        }
      ]
    },
    {
      "cell_type": "code",
      "source": [
        "a = [10, 1, 0, 5, -1, -2, 6, 7]\n",
        "b = [i**2 for i in a]\n",
        "print(b)"
      ],
      "metadata": {
        "colab": {
          "base_uri": "https://localhost:8080/"
        },
        "id": "vj4g-3Ydq_q4",
        "outputId": "635931e6-de8d-4469-e660-726ff793c18c"
      },
      "execution_count": null,
      "outputs": [
        {
          "output_type": "stream",
          "name": "stdout",
          "text": [
            "[100, 1, 0, 25, 1, 4, 36, 49]\n"
          ]
        }
      ]
    },
    {
      "cell_type": "code",
      "source": [
        "a = [10, 1, 0, 5, -1, -2, 6, 7]\n",
        "b = [i for i in a if i%2 == 0 and i%5 == 0]\n",
        "print(b)"
      ],
      "metadata": {
        "colab": {
          "base_uri": "https://localhost:8080/"
        },
        "id": "-LEG2iOTr_eC",
        "outputId": "c7f2b0c1-3426-42ac-b859-fb0f65ecc380"
      },
      "execution_count": null,
      "outputs": [
        {
          "output_type": "stream",
          "name": "stdout",
          "text": [
            "[10, 0]\n"
          ]
        }
      ]
    },
    {
      "cell_type": "code",
      "source": [
        "a = [10, 1, 0, 5, -1, -2, 6, 7]\n",
        "b = [i**2 if i > 2 else i for i in a]\n",
        "print(b)"
      ],
      "metadata": {
        "colab": {
          "base_uri": "https://localhost:8080/"
        },
        "id": "tyq0SIRosPdC",
        "outputId": "9756c3c5-4610-43ec-ef9d-68bb1e31b123"
      },
      "execution_count": null,
      "outputs": [
        {
          "output_type": "stream",
          "name": "stdout",
          "text": [
            "[100, 1, 0, 25, -1, -2, 36, 49]\n"
          ]
        }
      ]
    },
    {
      "cell_type": "markdown",
      "source": [
        "## Remove List elements"
      ],
      "metadata": {
        "id": "d6LCkHopveTx"
      }
    },
    {
      "cell_type": "code",
      "source": [
        "a = ['Tony', 'Steve', 'Thor', 'Hulk', 'Thanos', 'Gorr']\n",
        "print(a)"
      ],
      "metadata": {
        "colab": {
          "base_uri": "https://localhost:8080/"
        },
        "id": "ukIXTYSeshLB",
        "outputId": "aee506b6-57c2-4530-ea34-f76334d528a6"
      },
      "execution_count": null,
      "outputs": [
        {
          "output_type": "stream",
          "name": "stdout",
          "text": [
            "['Tony', 'Steve', 'Thor', 'Hulk', 'Thanos', 'Gorr']\n"
          ]
        }
      ]
    },
    {
      "cell_type": "code",
      "source": [
        "a.pop()\n",
        "print(a)"
      ],
      "metadata": {
        "colab": {
          "base_uri": "https://localhost:8080/"
        },
        "id": "8nXXD25bvp3a",
        "outputId": "8319e344-7a74-4f62-fcc5-e1ba37027a9c"
      },
      "execution_count": null,
      "outputs": [
        {
          "output_type": "stream",
          "name": "stdout",
          "text": [
            "['Tony', 'Steve', 'Thor', 'Hulk', 'Thanos']\n"
          ]
        }
      ]
    },
    {
      "cell_type": "code",
      "source": [
        "a.pop(1)\n",
        "print(a)"
      ],
      "metadata": {
        "colab": {
          "base_uri": "https://localhost:8080/"
        },
        "id": "i4c7tACzvtup",
        "outputId": "e770b227-fcf2-4194-8f8c-6df7b850be90"
      },
      "execution_count": null,
      "outputs": [
        {
          "output_type": "stream",
          "name": "stdout",
          "text": [
            "['Tony', 'Thor', 'Hulk', 'Thanos']\n"
          ]
        }
      ]
    },
    {
      "cell_type": "code",
      "source": [
        "a.remove('Thanos')\n",
        "print(a)"
      ],
      "metadata": {
        "colab": {
          "base_uri": "https://localhost:8080/"
        },
        "id": "GThSrZ7QwNfZ",
        "outputId": "0c216773-784e-423b-882b-5d40e15b3bba"
      },
      "execution_count": null,
      "outputs": [
        {
          "output_type": "stream",
          "name": "stdout",
          "text": [
            "['Tony', 'Thor', 'Hulk']\n"
          ]
        }
      ]
    },
    {
      "cell_type": "code",
      "source": [
        "a.clear()\n",
        "print(a)"
      ],
      "metadata": {
        "colab": {
          "base_uri": "https://localhost:8080/"
        },
        "id": "v81xk1hSxAq6",
        "outputId": "fae6e17c-cecc-4dc8-d8c8-8e8c81f7c4fc"
      },
      "execution_count": null,
      "outputs": [
        {
          "output_type": "stream",
          "name": "stdout",
          "text": [
            "[]\n"
          ]
        }
      ]
    },
    {
      "cell_type": "code",
      "source": [
        "del a\n",
        "print(a)"
      ],
      "metadata": {
        "colab": {
          "base_uri": "https://localhost:8080/",
          "height": 183
        },
        "id": "9XMfx4JexeDJ",
        "outputId": "0606be95-ee80-4108-a4ca-7a7108ecd3bf"
      },
      "execution_count": null,
      "outputs": [
        {
          "output_type": "error",
          "ename": "NameError",
          "evalue": "ignored",
          "traceback": [
            "\u001b[0;31m---------------------------------------------------------------------------\u001b[0m",
            "\u001b[0;31mNameError\u001b[0m                                 Traceback (most recent call last)",
            "\u001b[0;32m<ipython-input-55-c342333e421e>\u001b[0m in \u001b[0;36m<module>\u001b[0;34m()\u001b[0m\n\u001b[1;32m      1\u001b[0m \u001b[0;32mdel\u001b[0m \u001b[0ma\u001b[0m\u001b[0;34m\u001b[0m\u001b[0;34m\u001b[0m\u001b[0m\n\u001b[0;32m----> 2\u001b[0;31m \u001b[0mprint\u001b[0m\u001b[0;34m(\u001b[0m\u001b[0ma\u001b[0m\u001b[0;34m)\u001b[0m\u001b[0;34m\u001b[0m\u001b[0;34m\u001b[0m\u001b[0m\n\u001b[0m",
            "\u001b[0;31mNameError\u001b[0m: name 'a' is not defined"
          ]
        }
      ]
    },
    {
      "cell_type": "code",
      "source": [
        "a = [1, 2, 3, ['Tony', 'Steve', 'Thor'], 4, 5, 6, 'Python']\n",
        "print(a)"
      ],
      "metadata": {
        "colab": {
          "base_uri": "https://localhost:8080/"
        },
        "id": "-z_1WHgTxmMZ",
        "outputId": "c433762c-07f0-4806-cf75-27c47825c636"
      },
      "execution_count": null,
      "outputs": [
        {
          "output_type": "stream",
          "name": "stdout",
          "text": [
            "[1, 2, 3, ['Tony', 'Steve', 'Thor'], 4, 5, 6, 'Python']\n"
          ]
        }
      ]
    },
    {
      "cell_type": "code",
      "source": [
        "print(a[3][1])"
      ],
      "metadata": {
        "colab": {
          "base_uri": "https://localhost:8080/"
        },
        "id": "TWeiSqYwyE_5",
        "outputId": "be440e49-c276-4da4-f67c-c2cd36c68d38"
      },
      "execution_count": null,
      "outputs": [
        {
          "output_type": "stream",
          "name": "stdout",
          "text": [
            "Steve\n"
          ]
        }
      ]
    },
    {
      "cell_type": "code",
      "source": [
        "5/2"
      ],
      "metadata": {
        "colab": {
          "base_uri": "https://localhost:8080/"
        },
        "id": "R6FgBsxsyZOJ",
        "outputId": "ffb6d3ba-def8-4ce3-d03a-3345f80bb4b8"
      },
      "execution_count": null,
      "outputs": [
        {
          "output_type": "execute_result",
          "data": {
            "text/plain": [
              "2.5"
            ]
          },
          "metadata": {},
          "execution_count": 58
        }
      ]
    },
    {
      "cell_type": "code",
      "source": [
        "5//2"
      ],
      "metadata": {
        "colab": {
          "base_uri": "https://localhost:8080/"
        },
        "id": "tuE7QDpLztn5",
        "outputId": "bda5e855-5f13-44d4-eaa3-ebfa5672bb8d"
      },
      "execution_count": null,
      "outputs": [
        {
          "output_type": "execute_result",
          "data": {
            "text/plain": [
              "2"
            ]
          },
          "metadata": {},
          "execution_count": 59
        }
      ]
    },
    {
      "cell_type": "markdown",
      "source": [
        "## WAP to add digits of any number"
      ],
      "metadata": {
        "id": "_Xdwq5kSz9bR"
      }
    },
    {
      "cell_type": "code",
      "source": [
        "a = int(input('Enter a number:'))\n",
        "sod = 0\n",
        "while a > 0:\n",
        "  temp = a % 10\n",
        "  sod = sod + temp\n",
        "  a = a // 10\n",
        "print(sod)"
      ],
      "metadata": {
        "colab": {
          "base_uri": "https://localhost:8080/"
        },
        "id": "I3Fd_dhDzvW5",
        "outputId": "e78f37cc-61fe-491d-9019-962956d52ffd"
      },
      "execution_count": null,
      "outputs": [
        {
          "output_type": "stream",
          "name": "stdout",
          "text": [
            "Enter a number:749\n",
            "20\n"
          ]
        }
      ]
    },
    {
      "cell_type": "code",
      "source": [
        ""
      ],
      "metadata": {
        "id": "fJTejO_F0axp"
      },
      "execution_count": null,
      "outputs": []
    }
  ]
}