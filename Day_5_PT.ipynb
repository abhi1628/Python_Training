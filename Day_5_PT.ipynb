{
  "nbformat": 4,
  "nbformat_minor": 0,
  "metadata": {
    "colab": {
      "name": "Day_5_PT.ipynb",
      "provenance": [],
      "authorship_tag": "ABX9TyOZtEZvagGCY7s0rhjnQ/GA",
      "include_colab_link": true
    },
    "kernelspec": {
      "name": "python3",
      "display_name": "Python 3"
    },
    "language_info": {
      "name": "python"
    }
  },
  "cells": [
    {
      "cell_type": "markdown",
      "metadata": {
        "id": "view-in-github",
        "colab_type": "text"
      },
      "source": [
        "<a href=\"https://colab.research.google.com/github/abhi1628/Python_Training/blob/main/Day_5_PT.ipynb\" target=\"_parent\"><img src=\"https://colab.research.google.com/assets/colab-badge.svg\" alt=\"Open In Colab\"/></a>"
      ]
    },
    {
      "cell_type": "markdown",
      "source": [
        "## Dictionary is having a key-value pair"
      ],
      "metadata": {
        "id": "26hnCbS2O_8p"
      }
    },
    {
      "cell_type": "code",
      "execution_count": null,
      "metadata": {
        "colab": {
          "base_uri": "https://localhost:8080/"
        },
        "id": "Mb8KHaQcOD-A",
        "outputId": "bfa0b4bc-b9e1-47c9-ef90-753c59e54fa0"
      },
      "outputs": [
        {
          "output_type": "stream",
          "name": "stdout",
          "text": [
            "{}\n",
            "<class 'dict'>\n"
          ]
        }
      ],
      "source": [
        "d = {}\n",
        "print(d)\n",
        "print(type(d))"
      ]
    },
    {
      "cell_type": "code",
      "source": [
        "d['Python'] = 'Easy Language'\n",
        "d['Java'] = 'Tough Language'\n",
        "print(d)"
      ],
      "metadata": {
        "colab": {
          "base_uri": "https://localhost:8080/"
        },
        "id": "zWy6r4iTPEsj",
        "outputId": "0e6ed0cf-baea-40a4-f13d-fb0fde117304"
      },
      "execution_count": null,
      "outputs": [
        {
          "output_type": "stream",
          "name": "stdout",
          "text": [
            "{'Python': 'Easy Language', 'Java': 'Tough Language'}\n"
          ]
        }
      ]
    },
    {
      "cell_type": "code",
      "source": [
        "d = {'Python':'Easy Language', 'Java':'Tough Language'}\n",
        "print(d)\n",
        "print(type(d))"
      ],
      "metadata": {
        "colab": {
          "base_uri": "https://localhost:8080/"
        },
        "id": "bNRbRNSsPo9f",
        "outputId": "1ab01169-508b-4e17-9969-8843326f3eb1"
      },
      "execution_count": null,
      "outputs": [
        {
          "output_type": "stream",
          "name": "stdout",
          "text": [
            "{'Python': 'Easy Language', 'Java': 'Tough Language'}\n",
            "<class 'dict'>\n"
          ]
        }
      ]
    },
    {
      "cell_type": "code",
      "source": [
        "d['Python']"
      ],
      "metadata": {
        "colab": {
          "base_uri": "https://localhost:8080/",
          "height": 35
        },
        "id": "KDiuZyPUQBts",
        "outputId": "f22185a3-ecb4-4383-efdc-688b56b1ce62"
      },
      "execution_count": null,
      "outputs": [
        {
          "output_type": "execute_result",
          "data": {
            "text/plain": [
              "'Easy Language'"
            ],
            "application/vnd.google.colaboratory.intrinsic+json": {
              "type": "string"
            }
          },
          "metadata": {},
          "execution_count": 4
        }
      ]
    },
    {
      "cell_type": "code",
      "source": [
        "d['Easy Language']"
      ],
      "metadata": {
        "colab": {
          "base_uri": "https://localhost:8080/",
          "height": 166
        },
        "id": "SMHuSpqFQKjd",
        "outputId": "245f26a9-6819-4670-d1e6-7fa0b3c2dc68"
      },
      "execution_count": null,
      "outputs": [
        {
          "output_type": "error",
          "ename": "KeyError",
          "evalue": "ignored",
          "traceback": [
            "\u001b[0;31m---------------------------------------------------------------------------\u001b[0m",
            "\u001b[0;31mKeyError\u001b[0m                                  Traceback (most recent call last)",
            "\u001b[0;32m<ipython-input-5-229da321bc22>\u001b[0m in \u001b[0;36m<module>\u001b[0;34m()\u001b[0m\n\u001b[0;32m----> 1\u001b[0;31m \u001b[0md\u001b[0m\u001b[0;34m[\u001b[0m\u001b[0;34m'Easy Language'\u001b[0m\u001b[0;34m]\u001b[0m\u001b[0;34m\u001b[0m\u001b[0;34m\u001b[0m\u001b[0m\n\u001b[0m",
            "\u001b[0;31mKeyError\u001b[0m: 'Easy Language'"
          ]
        }
      ]
    },
    {
      "cell_type": "code",
      "source": [
        "avengers = {'1':'Tony', '2':'Steve', '3':'Thor'}\n",
        "avengers"
      ],
      "metadata": {
        "colab": {
          "base_uri": "https://localhost:8080/"
        },
        "id": "nGS7uuXiQRjU",
        "outputId": "253848a5-ffc8-4c62-8a2b-68f8cd12c263"
      },
      "execution_count": null,
      "outputs": [
        {
          "output_type": "execute_result",
          "data": {
            "text/plain": [
              "{'1': 'Tony', '2': 'Steve', '3': 'Thor'}"
            ]
          },
          "metadata": {},
          "execution_count": 6
        }
      ]
    },
    {
      "cell_type": "code",
      "source": [
        "avengers = {'1':'Tony', '2':'Steve', '3':'Thor', '3':'Hulk'}\n",
        "avengers"
      ],
      "metadata": {
        "colab": {
          "base_uri": "https://localhost:8080/"
        },
        "id": "RXF_-EmNQjaV",
        "outputId": "d1e1e52b-3f5d-480c-d78e-a35d96af10b0"
      },
      "execution_count": null,
      "outputs": [
        {
          "output_type": "execute_result",
          "data": {
            "text/plain": [
              "{'1': 'Tony', '2': 'Steve', '3': 'Hulk'}"
            ]
          },
          "metadata": {},
          "execution_count": 7
        }
      ]
    },
    {
      "cell_type": "code",
      "source": [
        "avengers = {'1':'Tony', '2':'Steve', '3':'Thor', '3':'Hulk'}\n",
        "del avengers['3']\n"
      ],
      "metadata": {
        "id": "BN4b4-M7QxHC"
      },
      "execution_count": null,
      "outputs": []
    },
    {
      "cell_type": "code",
      "source": [
        "print(avengers)"
      ],
      "metadata": {
        "colab": {
          "base_uri": "https://localhost:8080/"
        },
        "id": "9fQmyMCGRRBe",
        "outputId": "1722a17f-968a-448e-948b-521be065431e"
      },
      "execution_count": null,
      "outputs": [
        {
          "output_type": "stream",
          "name": "stdout",
          "text": [
            "{'1': 'Tony', '2': 'Steve'}\n"
          ]
        }
      ]
    },
    {
      "cell_type": "code",
      "source": [
        "len(avengers)"
      ],
      "metadata": {
        "colab": {
          "base_uri": "https://localhost:8080/"
        },
        "id": "22RftFoWRVTr",
        "outputId": "0dc2f4fd-cc8c-4d4a-e738-613231a1f498"
      },
      "execution_count": null,
      "outputs": [
        {
          "output_type": "execute_result",
          "data": {
            "text/plain": [
              "2"
            ]
          },
          "metadata": {},
          "execution_count": 10
        }
      ]
    },
    {
      "cell_type": "markdown",
      "source": [
        "## Dictionary Methods"
      ],
      "metadata": {
        "id": "jmmLwfpiRnVF"
      }
    },
    {
      "cell_type": "code",
      "source": [
        "avengers = {1:'Tony', 2:'Steve', 3:'Thor', 4:'Hulk'}\n",
        "for k in avengers.keys():\n",
        "  print('The key',k,'maps to',avengers[k])\n",
        "ks = list(avengers.keys())\n",
        "print(ks)"
      ],
      "metadata": {
        "colab": {
          "base_uri": "https://localhost:8080/"
        },
        "id": "IYtVriwERjqK",
        "outputId": "029b9729-8d5a-4347-903c-01a28cd1e884"
      },
      "execution_count": null,
      "outputs": [
        {
          "output_type": "stream",
          "name": "stdout",
          "text": [
            "The key 1 maps to Tony\n",
            "The key 2 maps to Steve\n",
            "The key 3 maps to Thor\n",
            "The key 4 maps to Hulk\n",
            "[1, 2, 3, 4]\n"
          ]
        }
      ]
    },
    {
      "cell_type": "code",
      "source": [
        "print(avengers.keys())"
      ],
      "metadata": {
        "colab": {
          "base_uri": "https://localhost:8080/"
        },
        "id": "qkVBQnfYSYa5",
        "outputId": "d7c1083e-00ba-4409-91b4-683ff0567f42"
      },
      "execution_count": null,
      "outputs": [
        {
          "output_type": "stream",
          "name": "stdout",
          "text": [
            "dict_keys([1, 2, 3, 4])\n"
          ]
        }
      ]
    },
    {
      "cell_type": "code",
      "source": [
        "print(avengers.values())"
      ],
      "metadata": {
        "colab": {
          "base_uri": "https://localhost:8080/"
        },
        "id": "Vt0ApzohSq3y",
        "outputId": "78d4fa3b-88d7-4a92-b44a-f42af8a2a995"
      },
      "execution_count": null,
      "outputs": [
        {
          "output_type": "stream",
          "name": "stdout",
          "text": [
            "dict_values(['Tony', 'Steve', 'Thor', 'Hulk'])\n"
          ]
        }
      ]
    },
    {
      "cell_type": "code",
      "source": [
        "print(avengers.items())"
      ],
      "metadata": {
        "colab": {
          "base_uri": "https://localhost:8080/"
        },
        "id": "H4IJLJfHSvMr",
        "outputId": "f8e1cd1b-7745-4547-c7a5-72bdc9cab84b"
      },
      "execution_count": null,
      "outputs": [
        {
          "output_type": "stream",
          "name": "stdout",
          "text": [
            "dict_items([(1, 'Tony'), (2, 'Steve'), (3, 'Thor'), (4, 'Hulk')])\n"
          ]
        }
      ]
    },
    {
      "cell_type": "markdown",
      "source": [
        "## You can check if a key is present in a dictionary or not"
      ],
      "metadata": {
        "id": "x5OZxe8iTRp9"
      }
    },
    {
      "cell_type": "code",
      "source": [
        "print(1 in avengers)"
      ],
      "metadata": {
        "colab": {
          "base_uri": "https://localhost:8080/"
        },
        "id": "W25k5cl1S2G7",
        "outputId": "5baacf23-213c-4a8b-cbcf-5c0506c668a1"
      },
      "execution_count": null,
      "outputs": [
        {
          "output_type": "stream",
          "name": "stdout",
          "text": [
            "True\n"
          ]
        }
      ]
    },
    {
      "cell_type": "code",
      "source": [
        "print(5 in avengers)"
      ],
      "metadata": {
        "colab": {
          "base_uri": "https://localhost:8080/"
        },
        "id": "WwMEWV8PTexE",
        "outputId": "ec5b519a-a54a-466f-bd36-87a8ff7a4f27"
      },
      "execution_count": null,
      "outputs": [
        {
          "output_type": "stream",
          "name": "stdout",
          "text": [
            "False\n"
          ]
        }
      ]
    },
    {
      "cell_type": "code",
      "source": [
        "avengers.has_key(1)"
      ],
      "metadata": {
        "colab": {
          "base_uri": "https://localhost:8080/",
          "height": 166
        },
        "id": "bwh3-70XTlUL",
        "outputId": "dd6e4728-0e83-4a31-91c1-fabb9ee3e100"
      },
      "execution_count": null,
      "outputs": [
        {
          "output_type": "error",
          "ename": "AttributeError",
          "evalue": "ignored",
          "traceback": [
            "\u001b[0;31m---------------------------------------------------------------------------\u001b[0m",
            "\u001b[0;31mAttributeError\u001b[0m                            Traceback (most recent call last)",
            "\u001b[0;32m<ipython-input-17-b507d91705b2>\u001b[0m in \u001b[0;36m<module>\u001b[0;34m()\u001b[0m\n\u001b[0;32m----> 1\u001b[0;31m \u001b[0mavengers\u001b[0m\u001b[0;34m.\u001b[0m\u001b[0mhas_key\u001b[0m\u001b[0;34m(\u001b[0m\u001b[0;36m1\u001b[0m\u001b[0;34m)\u001b[0m\u001b[0;34m\u001b[0m\u001b[0;34m\u001b[0m\u001b[0m\n\u001b[0m",
            "\u001b[0;31mAttributeError\u001b[0m: 'dict' object has no attribute 'has_key'"
          ]
        }
      ]
    },
    {
      "cell_type": "code",
      "source": [
        "avengers[5]"
      ],
      "metadata": {
        "colab": {
          "base_uri": "https://localhost:8080/",
          "height": 166
        },
        "id": "uN6wK5JmTvj4",
        "outputId": "9486f6b2-90a9-4fbc-c67a-e0abbc218b30"
      },
      "execution_count": null,
      "outputs": [
        {
          "output_type": "error",
          "ename": "KeyError",
          "evalue": "ignored",
          "traceback": [
            "\u001b[0;31m---------------------------------------------------------------------------\u001b[0m",
            "\u001b[0;31mKeyError\u001b[0m                                  Traceback (most recent call last)",
            "\u001b[0;32m<ipython-input-18-a80969ba8691>\u001b[0m in \u001b[0;36m<module>\u001b[0;34m()\u001b[0m\n\u001b[0;32m----> 1\u001b[0;31m \u001b[0mavengers\u001b[0m\u001b[0;34m[\u001b[0m\u001b[0;36m5\u001b[0m\u001b[0;34m]\u001b[0m\u001b[0;34m\u001b[0m\u001b[0;34m\u001b[0m\u001b[0m\n\u001b[0m",
            "\u001b[0;31mKeyError\u001b[0m: 5"
          ]
        }
      ]
    },
    {
      "cell_type": "markdown",
      "source": [
        "## Defaultdict"
      ],
      "metadata": {
        "id": "sly_2OahUWgi"
      }
    },
    {
      "cell_type": "code",
      "source": [
        "from collections import defaultdict\n",
        "old_avengers = defaultdict(lambda:'Not an old Avenger')\n",
        "old_avengers[1] = 'Tony'\n",
        "old_avengers[2] = 'Steve'\n",
        "old_avengers[3] = 'Thor'\n",
        "print(old_avengers[1])\n",
        "print(old_avengers[4])"
      ],
      "metadata": {
        "colab": {
          "base_uri": "https://localhost:8080/"
        },
        "id": "hfIxD5VvUAQc",
        "outputId": "c940baaa-1fad-4999-caba-05c82b397d02"
      },
      "execution_count": null,
      "outputs": [
        {
          "output_type": "stream",
          "name": "stdout",
          "text": [
            "Tony\n",
            "Not an old Avenger\n"
          ]
        }
      ]
    },
    {
      "cell_type": "code",
      "source": [
        "print(avengers.get(2))"
      ],
      "metadata": {
        "colab": {
          "base_uri": "https://localhost:8080/"
        },
        "id": "VgZOaoePVV9T",
        "outputId": "a7bf6662-a190-44d9-8d0a-7c2a9cb1ac10"
      },
      "execution_count": null,
      "outputs": [
        {
          "output_type": "stream",
          "name": "stdout",
          "text": [
            "Steve\n"
          ]
        }
      ]
    },
    {
      "cell_type": "code",
      "source": [
        "print(avengers.get(5, 'Hawkeye'))"
      ],
      "metadata": {
        "colab": {
          "base_uri": "https://localhost:8080/"
        },
        "id": "4jPPHSiCVrvD",
        "outputId": "ca62f50b-46a0-4675-f9e5-56f28776ddcd"
      },
      "execution_count": null,
      "outputs": [
        {
          "output_type": "stream",
          "name": "stdout",
          "text": [
            "Hawkeye\n"
          ]
        }
      ]
    },
    {
      "cell_type": "code",
      "source": [
        "print(avengers)"
      ],
      "metadata": {
        "colab": {
          "base_uri": "https://localhost:8080/"
        },
        "id": "DgKKeoBfWDwe",
        "outputId": "f819a824-d4c3-4808-a32a-3dbe978182fc"
      },
      "execution_count": null,
      "outputs": [
        {
          "output_type": "stream",
          "name": "stdout",
          "text": [
            "{1: 'Tony', 2: 'Steve', 3: 'Thor', 4: 'Hulk'}\n"
          ]
        }
      ]
    },
    {
      "cell_type": "markdown",
      "source": [
        "## How to update your dictionary"
      ],
      "metadata": {
        "id": "TpeMWHTFWRMu"
      }
    },
    {
      "cell_type": "code",
      "source": [
        "avengers.update({4:'Hawkeye'})\n",
        "avengers"
      ],
      "metadata": {
        "colab": {
          "base_uri": "https://localhost:8080/"
        },
        "id": "wxWGalI1WMP3",
        "outputId": "4014a3a2-d2ee-4fc2-cfed-95a668d07cf5"
      },
      "execution_count": null,
      "outputs": [
        {
          "output_type": "execute_result",
          "data": {
            "text/plain": [
              "{1: 'Tony', 2: 'Steve', 3: 'Thor', 4: 'Hawkeye'}"
            ]
          },
          "metadata": {},
          "execution_count": 24
        }
      ]
    },
    {
      "cell_type": "code",
      "source": [
        "avengers.update({5:'Natasha'})\n",
        "avengers"
      ],
      "metadata": {
        "colab": {
          "base_uri": "https://localhost:8080/"
        },
        "id": "8hWOc4TFWsNa",
        "outputId": "8010f0c1-d941-4d2f-ee14-cede5c84ce18"
      },
      "execution_count": null,
      "outputs": [
        {
          "output_type": "execute_result",
          "data": {
            "text/plain": [
              "{1: 'Tony', 2: 'Steve', 3: 'Thor', 4: 'Hawkeye', 5: 'Natasha'}"
            ]
          },
          "metadata": {},
          "execution_count": 25
        }
      ]
    },
    {
      "cell_type": "code",
      "source": [
        "avengers.update({5:'Natasha', 0:'Nick'})\n",
        "avengers"
      ],
      "metadata": {
        "colab": {
          "base_uri": "https://localhost:8080/"
        },
        "id": "zXbsRCfmW3U3",
        "outputId": "8bb39ca8-1205-4c6b-b3f3-48203535981c"
      },
      "execution_count": null,
      "outputs": [
        {
          "output_type": "execute_result",
          "data": {
            "text/plain": [
              "{0: 'Nick', 1: 'Tony', 2: 'Steve', 3: 'Thor', 4: 'Hawkeye', 5: 'Natasha'}"
            ]
          },
          "metadata": {},
          "execution_count": 26
        }
      ]
    },
    {
      "cell_type": "code",
      "source": [
        "avengers.update([(6,'Thanos'), (7,'CrossBones')])\n",
        "print(avengers)"
      ],
      "metadata": {
        "colab": {
          "base_uri": "https://localhost:8080/"
        },
        "id": "67SPyyQpXFWO",
        "outputId": "a4d70cc7-f237-4593-f37b-779747753506"
      },
      "execution_count": null,
      "outputs": [
        {
          "output_type": "stream",
          "name": "stdout",
          "text": [
            "{1: 'Tony', 2: 'Steve', 3: 'Thor', 4: 'Hawkeye', 5: 'Natasha', 0: 'Nick', 6: 'Thanos', 7: 'CrossBones'}\n"
          ]
        }
      ]
    },
    {
      "cell_type": "markdown",
      "source": [
        "## Remove Values from Dictionary"
      ],
      "metadata": {
        "id": "n1FR6RvkYJa2"
      }
    },
    {
      "cell_type": "code",
      "source": [
        "del avengers[7]\n",
        "avengers"
      ],
      "metadata": {
        "colab": {
          "base_uri": "https://localhost:8080/"
        },
        "id": "0caWXbwXXjGA",
        "outputId": "7e866c46-7f65-40d3-c7b8-58a7afbd1c01"
      },
      "execution_count": null,
      "outputs": [
        {
          "output_type": "execute_result",
          "data": {
            "text/plain": [
              "{0: 'Nick',\n",
              " 1: 'Tony',\n",
              " 2: 'Steve',\n",
              " 3: 'Thor',\n",
              " 4: 'Hawkeye',\n",
              " 5: 'Natasha',\n",
              " 6: 'Thanos'}"
            ]
          },
          "metadata": {},
          "execution_count": 28
        }
      ]
    },
    {
      "cell_type": "code",
      "source": [
        "avengers.pop(6)\n",
        "avengers"
      ],
      "metadata": {
        "colab": {
          "base_uri": "https://localhost:8080/"
        },
        "id": "dO8FmgJ9YYPZ",
        "outputId": "0e3b1789-82ee-4d55-8053-8eb8238ed61b"
      },
      "execution_count": null,
      "outputs": [
        {
          "output_type": "execute_result",
          "data": {
            "text/plain": [
              "{0: 'Nick', 1: 'Tony', 2: 'Steve', 3: 'Thor', 4: 'Hawkeye', 5: 'Natasha'}"
            ]
          },
          "metadata": {},
          "execution_count": 29
        }
      ]
    },
    {
      "cell_type": "code",
      "source": [
        "avengers.pop()\n",
        "avengers"
      ],
      "metadata": {
        "colab": {
          "base_uri": "https://localhost:8080/",
          "height": 183
        },
        "id": "5r4S7GBZYgwH",
        "outputId": "e0588c36-4a06-4a1a-a600-161c930e2ee7"
      },
      "execution_count": null,
      "outputs": [
        {
          "output_type": "error",
          "ename": "TypeError",
          "evalue": "ignored",
          "traceback": [
            "\u001b[0;31m---------------------------------------------------------------------------\u001b[0m",
            "\u001b[0;31mTypeError\u001b[0m                                 Traceback (most recent call last)",
            "\u001b[0;32m<ipython-input-30-13906f93e398>\u001b[0m in \u001b[0;36m<module>\u001b[0;34m()\u001b[0m\n\u001b[0;32m----> 1\u001b[0;31m \u001b[0mavengers\u001b[0m\u001b[0;34m.\u001b[0m\u001b[0mpop\u001b[0m\u001b[0;34m(\u001b[0m\u001b[0;34m)\u001b[0m\u001b[0;34m\u001b[0m\u001b[0;34m\u001b[0m\u001b[0m\n\u001b[0m\u001b[1;32m      2\u001b[0m \u001b[0mavengers\u001b[0m\u001b[0;34m\u001b[0m\u001b[0;34m\u001b[0m\u001b[0m\n",
            "\u001b[0;31mTypeError\u001b[0m: pop expected at least 1 arguments, got 0"
          ]
        }
      ]
    },
    {
      "cell_type": "code",
      "source": [
        "avengers.pop(8)\n",
        "avengers"
      ],
      "metadata": {
        "colab": {
          "base_uri": "https://localhost:8080/",
          "height": 183
        },
        "id": "-XsoP58WYlkw",
        "outputId": "8499447d-fd87-4f53-8fec-e15cedc43cde"
      },
      "execution_count": null,
      "outputs": [
        {
          "output_type": "error",
          "ename": "KeyError",
          "evalue": "ignored",
          "traceback": [
            "\u001b[0;31m---------------------------------------------------------------------------\u001b[0m",
            "\u001b[0;31mKeyError\u001b[0m                                  Traceback (most recent call last)",
            "\u001b[0;32m<ipython-input-32-62ec69098f7f>\u001b[0m in \u001b[0;36m<module>\u001b[0;34m()\u001b[0m\n\u001b[0;32m----> 1\u001b[0;31m \u001b[0mavengers\u001b[0m\u001b[0;34m.\u001b[0m\u001b[0mpop\u001b[0m\u001b[0;34m(\u001b[0m\u001b[0;36m8\u001b[0m\u001b[0;34m)\u001b[0m\u001b[0;34m\u001b[0m\u001b[0;34m\u001b[0m\u001b[0m\n\u001b[0m\u001b[1;32m      2\u001b[0m \u001b[0mavengers\u001b[0m\u001b[0;34m\u001b[0m\u001b[0;34m\u001b[0m\u001b[0m\n",
            "\u001b[0;31mKeyError\u001b[0m: 8"
          ]
        }
      ]
    },
    {
      "cell_type": "code",
      "source": [
        "avengers.pop(8, None)\n",
        "avengers"
      ],
      "metadata": {
        "colab": {
          "base_uri": "https://localhost:8080/"
        },
        "id": "G-DnAxfBZO5Q",
        "outputId": "e1c6e489-1327-452f-c223-01ebf41659e1"
      },
      "execution_count": null,
      "outputs": [
        {
          "output_type": "execute_result",
          "data": {
            "text/plain": [
              "{0: 'Nick',\n",
              " 1: 'Tony',\n",
              " 2: 'Steve',\n",
              " 3: 'Thor',\n",
              " 4: 'Hawkeye',\n",
              " 5: 'Natasha',\n",
              " 6: 'Thanos',\n",
              " 7: 'CrossBones'}"
            ]
          },
          "metadata": {},
          "execution_count": 33
        }
      ]
    },
    {
      "cell_type": "code",
      "source": [
        "sorted(avengers.keys())"
      ],
      "metadata": {
        "colab": {
          "base_uri": "https://localhost:8080/"
        },
        "id": "Gdi9cJorZTuV",
        "outputId": "ea304690-f016-4bf0-9494-ea1d4ceebc19"
      },
      "execution_count": null,
      "outputs": [
        {
          "output_type": "execute_result",
          "data": {
            "text/plain": [
              "[0, 1, 2, 3, 4, 5, 6, 7]"
            ]
          },
          "metadata": {},
          "execution_count": 34
        }
      ]
    },
    {
      "cell_type": "code",
      "source": [
        "sorted(avengers.items())"
      ],
      "metadata": {
        "colab": {
          "base_uri": "https://localhost:8080/"
        },
        "id": "DM7FJWKhZuig",
        "outputId": "6beb8603-3a5e-4776-a6ad-7732c372e87e"
      },
      "execution_count": null,
      "outputs": [
        {
          "output_type": "execute_result",
          "data": {
            "text/plain": [
              "[(0, 'Nick'),\n",
              " (1, 'Tony'),\n",
              " (2, 'Steve'),\n",
              " (3, 'Thor'),\n",
              " (4, 'Hawkeye'),\n",
              " (5, 'Natasha'),\n",
              " (6, 'Thanos'),\n",
              " (7, 'CrossBones')]"
            ]
          },
          "metadata": {},
          "execution_count": 35
        }
      ]
    },
    {
      "cell_type": "code",
      "source": [
        "sorted(avengers.items(), reverse = True)"
      ],
      "metadata": {
        "colab": {
          "base_uri": "https://localhost:8080/"
        },
        "id": "7i0jdxvwZ4lp",
        "outputId": "b040092a-3f74-4b79-a50b-d22f281e4b71"
      },
      "execution_count": null,
      "outputs": [
        {
          "output_type": "execute_result",
          "data": {
            "text/plain": [
              "[(7, 'CrossBones'),\n",
              " (6, 'Thanos'),\n",
              " (5, 'Natasha'),\n",
              " (4, 'Hawkeye'),\n",
              " (3, 'Thor'),\n",
              " (2, 'Steve'),\n",
              " (1, 'Tony'),\n",
              " (0, 'Nick')]"
            ]
          },
          "metadata": {},
          "execution_count": 36
        }
      ]
    },
    {
      "cell_type": "markdown",
      "source": [
        "## How to convert a list into a dictionary?"
      ],
      "metadata": {
        "id": "WKzUaXhXaN1l"
      }
    },
    {
      "cell_type": "code",
      "source": [
        "d = ['Tony', 'Ironman']\n",
        "print(d)"
      ],
      "metadata": {
        "colab": {
          "base_uri": "https://localhost:8080/"
        },
        "id": "PmQKr8_OaBhe",
        "outputId": "393a77bc-3411-44eb-d5be-39656a5fad86"
      },
      "execution_count": null,
      "outputs": [
        {
          "output_type": "stream",
          "name": "stdout",
          "text": [
            "['Tony', 'Ironman']\n"
          ]
        }
      ]
    },
    {
      "cell_type": "code",
      "source": [
        "# zip\n",
        "list(zip(d))"
      ],
      "metadata": {
        "colab": {
          "base_uri": "https://localhost:8080/"
        },
        "id": "zaf9TZqoaiFC",
        "outputId": "902421fb-23dc-471e-f27d-e174baad3838"
      },
      "execution_count": null,
      "outputs": [
        {
          "output_type": "execute_result",
          "data": {
            "text/plain": [
              "[('Tony',), ('Ironman',)]"
            ]
          },
          "metadata": {},
          "execution_count": 38
        }
      ]
    },
    {
      "cell_type": "code",
      "source": [
        "non_hero_name = ['Tony', 'Steve', 'Bruce']\n",
        "hero_name = ['Ironman', 'Captain America', 'Hulk']\n",
        "avengers = zip(non_hero_name, hero_name)\n",
        "print(avengers)"
      ],
      "metadata": {
        "colab": {
          "base_uri": "https://localhost:8080/"
        },
        "id": "VL5RClaKav1w",
        "outputId": "7f36302f-1f16-4624-f220-7a1532a5e1b3"
      },
      "execution_count": null,
      "outputs": [
        {
          "output_type": "stream",
          "name": "stdout",
          "text": [
            "<zip object at 0x7f245319b370>\n"
          ]
        }
      ]
    },
    {
      "cell_type": "code",
      "source": [
        "list(zip(avengers))"
      ],
      "metadata": {
        "colab": {
          "base_uri": "https://localhost:8080/"
        },
        "id": "e7RltSZubX4I",
        "outputId": "2e1fe891-18b9-4774-bb51-b823295d0379"
      },
      "execution_count": null,
      "outputs": [
        {
          "output_type": "execute_result",
          "data": {
            "text/plain": [
              "[(('Tony', 'Ironman'),), (('Steve', 'Captain America'),), (('Bruce', 'Hulk'),)]"
            ]
          },
          "metadata": {},
          "execution_count": 40
        }
      ]
    },
    {
      "cell_type": "code",
      "source": [
        "non_hero_name = ['Tony', 'Steve', 'Bruce']\n",
        "hero_name = ['Ironman', 'Captain America', 'Hulk']\n",
        "avengers = dict(zip(non_hero_name, hero_name))\n",
        "print(avengers)"
      ],
      "metadata": {
        "colab": {
          "base_uri": "https://localhost:8080/"
        },
        "id": "7_aQbJVHbd_O",
        "outputId": "6f52e1b4-ac0d-45ad-ce24-f16973fa4dfd"
      },
      "execution_count": null,
      "outputs": [
        {
          "output_type": "stream",
          "name": "stdout",
          "text": [
            "{'Tony': 'Ironman', 'Steve': 'Captain America', 'Bruce': 'Hulk'}\n"
          ]
        }
      ]
    },
    {
      "cell_type": "code",
      "source": [
        "avengers.keys()"
      ],
      "metadata": {
        "colab": {
          "base_uri": "https://localhost:8080/"
        },
        "id": "BVviJD8Qbpp-",
        "outputId": "adb5101f-47e8-4760-875f-04d3601dafc5"
      },
      "execution_count": null,
      "outputs": [
        {
          "output_type": "execute_result",
          "data": {
            "text/plain": [
              "dict_keys(['Tony', 'Steve', 'Bruce'])"
            ]
          },
          "metadata": {},
          "execution_count": 42
        }
      ]
    },
    {
      "cell_type": "code",
      "source": [
        "sorted(avengers.keys())"
      ],
      "metadata": {
        "colab": {
          "base_uri": "https://localhost:8080/"
        },
        "id": "mEzIkDDTcBGM",
        "outputId": "4df660c3-d1cf-4270-9153-cf9bc6aae7b6"
      },
      "execution_count": null,
      "outputs": [
        {
          "output_type": "execute_result",
          "data": {
            "text/plain": [
              "['Bruce', 'Steve', 'Tony']"
            ]
          },
          "metadata": {},
          "execution_count": 43
        }
      ]
    },
    {
      "cell_type": "code",
      "source": [
        "d = ['Tony', 'Ironman']\n",
        "print(dict(zip(d[0::2], d[1::2])))"
      ],
      "metadata": {
        "colab": {
          "base_uri": "https://localhost:8080/"
        },
        "id": "mitFKmYCcG7P",
        "outputId": "7ea3ffd6-789a-4337-cd43-ec3a45c53ac3"
      },
      "execution_count": null,
      "outputs": [
        {
          "output_type": "stream",
          "name": "stdout",
          "text": [
            "{'Tony': 'Ironman'}\n"
          ]
        }
      ]
    },
    {
      "cell_type": "code",
      "source": [
        "d = ['Tony', 'Ironman']\n",
        "print(d[0])\n",
        "print(d[1])\n",
        "print(d[0:1])\n",
        "print(d[0::2])\n",
        "print(d[1::2])"
      ],
      "metadata": {
        "colab": {
          "base_uri": "https://localhost:8080/"
        },
        "id": "6n6i_NCec9HA",
        "outputId": "d9d87b65-2ceb-423f-ee59-f729c6656c88"
      },
      "execution_count": null,
      "outputs": [
        {
          "output_type": "stream",
          "name": "stdout",
          "text": [
            "Tony\n",
            "Ironman\n",
            "['Tony']\n",
            "['Tony']\n",
            "['Ironman']\n"
          ]
        }
      ]
    },
    {
      "cell_type": "markdown",
      "source": [
        "## Unzipping a dictionary"
      ],
      "metadata": {
        "id": "r4q9gYbweHL6"
      }
    },
    {
      "cell_type": "code",
      "source": [
        "avengers = [('Tony', 'Ironman'),\n",
        "            ('Steve', 'Captain America'), \n",
        "            ('Bruce', 'Hulk')]\n",
        "non_hero, hero = zip(*avengers)\n",
        "print(non_hero)"
      ],
      "metadata": {
        "colab": {
          "base_uri": "https://localhost:8080/"
        },
        "id": "8msWsXAWdCQe",
        "outputId": "575a6b57-d936-4ef9-fb8f-48ee81eb1657"
      },
      "execution_count": null,
      "outputs": [
        {
          "output_type": "stream",
          "name": "stdout",
          "text": [
            "('Tony', 'Steve', 'Bruce')\n"
          ]
        }
      ]
    },
    {
      "cell_type": "code",
      "source": [
        "print(hero)"
      ],
      "metadata": {
        "colab": {
          "base_uri": "https://localhost:8080/"
        },
        "id": "05dGF019e-R9",
        "outputId": "217d3237-0890-434c-ac49-eef577255795"
      },
      "execution_count": null,
      "outputs": [
        {
          "output_type": "stream",
          "name": "stdout",
          "text": [
            "('Ironman', 'Captain America', 'Hulk')\n"
          ]
        }
      ]
    },
    {
      "cell_type": "markdown",
      "source": [
        "## Dictionary Comprehension"
      ],
      "metadata": {
        "id": "P7sQ4oyFfLGQ"
      }
    },
    {
      "cell_type": "code",
      "source": [
        "non_hero_name = ['Tony', 'Steve', 'Bruce']\n",
        "hero_name = ['Ironman', 'Captain America', 'Hulk']\n",
        "d_com = {k:v for k, v in zip (non_hero_name, hero_name)}\n",
        "print(d_com)"
      ],
      "metadata": {
        "colab": {
          "base_uri": "https://localhost:8080/"
        },
        "id": "AAMuvimJfBXV",
        "outputId": "6907765f-9d0c-4c84-e9de-ff2928743eea"
      },
      "execution_count": null,
      "outputs": [
        {
          "output_type": "stream",
          "name": "stdout",
          "text": [
            "{'Tony': 'Ironman', 'Steve': 'Captain America', 'Bruce': 'Hulk'}\n"
          ]
        }
      ]
    },
    {
      "cell_type": "markdown",
      "source": [
        "## WAP to print the contents of the dictionary whose key is greater than 3 and key when divided by 3 has remainder 0, using dictionary comprehension"
      ],
      "metadata": {
        "id": "niFaNHzVgdIP"
      }
    },
    {
      "cell_type": "code",
      "source": [
        "a = {1:'a', 2:'b', 3:'c', 4:'d', 5:'e', 6:'f'}\n",
        "a_com = {k:v for k, v in a.items() if k > 3 if k % 3 == 0}\n",
        "print(a_com)"
      ],
      "metadata": {
        "colab": {
          "base_uri": "https://localhost:8080/"
        },
        "id": "cKWSVpinft1H",
        "outputId": "b1e5461c-77d2-48cc-e253-19d35ef67a70"
      },
      "execution_count": null,
      "outputs": [
        {
          "output_type": "stream",
          "name": "stdout",
          "text": [
            "{6: 'f'}\n"
          ]
        }
      ]
    },
    {
      "cell_type": "code",
      "source": [
        ""
      ],
      "metadata": {
        "id": "UYt3Hyc_hf5c"
      },
      "execution_count": null,
      "outputs": []
    }
  ]
}