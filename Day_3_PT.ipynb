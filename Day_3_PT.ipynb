{
  "nbformat": 4,
  "nbformat_minor": 0,
  "metadata": {
    "colab": {
      "name": "Day 3 PT.ipynb",
      "provenance": [],
      "collapsed_sections": [],
      "authorship_tag": "ABX9TyMiWzwWnQZKE0TqS98MhQtV",
      "include_colab_link": true
    },
    "kernelspec": {
      "name": "python3",
      "display_name": "Python 3"
    },
    "language_info": {
      "name": "python"
    }
  },
  "cells": [
    {
      "cell_type": "markdown",
      "metadata": {
        "id": "view-in-github",
        "colab_type": "text"
      },
      "source": [
        "<a href=\"https://colab.research.google.com/github/abhi1628/Python_Training/blob/main/Day_3_PT.ipynb\" target=\"_parent\"><img src=\"https://colab.research.google.com/assets/colab-badge.svg\" alt=\"Open In Colab\"/></a>"
      ]
    },
    {
      "cell_type": "markdown",
      "source": [
        "## Strings in Python"
      ],
      "metadata": {
        "id": "gBKfZ90KyjEx"
      }
    },
    {
      "cell_type": "code",
      "execution_count": null,
      "metadata": {
        "colab": {
          "base_uri": "https://localhost:8080/"
        },
        "id": "EW-kEYf9yaj3",
        "outputId": "9ee209ca-43f7-4eb2-ebd6-e6d3ab54ec4f"
      },
      "outputs": [
        {
          "output_type": "stream",
          "name": "stdout",
          "text": [
            "Python\n",
            "<class 'str'>\n"
          ]
        }
      ],
      "source": [
        "a = 'Python'\n",
        "print(a)\n",
        "print(type(a))"
      ]
    },
    {
      "cell_type": "code",
      "source": [
        "a = \"Python\"\n",
        "print(a)\n",
        "print(type(a))"
      ],
      "metadata": {
        "colab": {
          "base_uri": "https://localhost:8080/"
        },
        "id": "cg7iLZq5ygdR",
        "outputId": "992363ce-15cb-4c8f-da48-b1890448a126"
      },
      "execution_count": null,
      "outputs": [
        {
          "output_type": "stream",
          "name": "stdout",
          "text": [
            "Python\n",
            "<class 'str'>\n"
          ]
        }
      ]
    },
    {
      "cell_type": "code",
      "source": [
        "a = '''Python'''\n",
        "print(a)\n",
        "print(type(a))"
      ],
      "metadata": {
        "colab": {
          "base_uri": "https://localhost:8080/"
        },
        "id": "0q2Yg5K7zMv5",
        "outputId": "4bf44514-0e8e-46c1-c00c-cbaed8956a35"
      },
      "execution_count": null,
      "outputs": [
        {
          "output_type": "stream",
          "name": "stdout",
          "text": [
            "Python\n",
            "<class 'str'>\n"
          ]
        }
      ]
    },
    {
      "cell_type": "code",
      "source": [
        "a = \"\"\"Python\"\"\"\n",
        "print(a)\n",
        "print(type(a))"
      ],
      "metadata": {
        "colab": {
          "base_uri": "https://localhost:8080/"
        },
        "id": "bW2sJ_yszUCI",
        "outputId": "a4db6b7f-a019-4ce6-f084-c9449b58069d"
      },
      "execution_count": null,
      "outputs": [
        {
          "output_type": "stream",
          "name": "stdout",
          "text": [
            "Python\n",
            "<class 'str'>\n"
          ]
        }
      ]
    },
    {
      "cell_type": "code",
      "source": [
        "a = \"Python's training is fun\"\n",
        "print(a)"
      ],
      "metadata": {
        "colab": {
          "base_uri": "https://localhost:8080/"
        },
        "id": "7SZeH8o7zbeY",
        "outputId": "cefaa2bf-5065-4ca3-e5e0-1afe0f9e22d5"
      },
      "execution_count": null,
      "outputs": [
        {
          "output_type": "stream",
          "name": "stdout",
          "text": [
            "Python's training is fun\n"
          ]
        }
      ]
    },
    {
      "cell_type": "code",
      "source": [
        "a = '''\"Python's training is fun\"'''\n",
        "print(a)"
      ],
      "metadata": {
        "colab": {
          "base_uri": "https://localhost:8080/"
        },
        "id": "VUt4Smdnzwg6",
        "outputId": "35110a07-ca59-4845-9b13-c6277334ccfc"
      },
      "execution_count": null,
      "outputs": [
        {
          "output_type": "stream",
          "name": "stdout",
          "text": [
            "\"Python's training is fun\"\n"
          ]
        }
      ]
    },
    {
      "cell_type": "code",
      "source": [
        "a = 'Python'\n",
        "for i in a:\n",
        "  print(i)"
      ],
      "metadata": {
        "colab": {
          "base_uri": "https://localhost:8080/"
        },
        "id": "ZyD-wGCjz-aZ",
        "outputId": "5b613c52-91e9-4d7e-e534-a57291893a15"
      },
      "execution_count": null,
      "outputs": [
        {
          "output_type": "stream",
          "name": "stdout",
          "text": [
            "P\n",
            "y\n",
            "t\n",
            "h\n",
            "o\n",
            "n\n"
          ]
        }
      ]
    },
    {
      "cell_type": "code",
      "source": [
        "a = 'Python'\n",
        "print(a[0])"
      ],
      "metadata": {
        "colab": {
          "base_uri": "https://localhost:8080/"
        },
        "id": "rHNIl2LU0b_J",
        "outputId": "696f4c8e-a257-4f32-a7e8-e52f6f67e2d7"
      },
      "execution_count": null,
      "outputs": [
        {
          "output_type": "stream",
          "name": "stdout",
          "text": [
            "P\n"
          ]
        }
      ]
    },
    {
      "cell_type": "code",
      "source": [
        "a = int(input('Enter a number:'))\n",
        "fact = 1\n",
        "for i in range(1, a+1):\n",
        "  fact *= i # fact = fact * i\n",
        "  print(fact, end = ',')"
      ],
      "metadata": {
        "colab": {
          "base_uri": "https://localhost:8080/"
        },
        "id": "45RZvpBm0v_p",
        "outputId": "96ab2c10-d136-40b6-c649-4a058dfa993f"
      },
      "execution_count": null,
      "outputs": [
        {
          "output_type": "stream",
          "name": "stdout",
          "text": [
            "Enter a number:5\n",
            "1,2,6,24,120,"
          ]
        }
      ]
    },
    {
      "cell_type": "code",
      "source": [
        "a = int(input('Enter a number:'))\n",
        "fact = 1\n",
        "for i in range(1, a+1):\n",
        "  fact *= i\n",
        "  if i != a:\n",
        "    print(fact, end = ',')\n",
        "  else:\n",
        "    print(fact, end = '')"
      ],
      "metadata": {
        "colab": {
          "base_uri": "https://localhost:8080/"
        },
        "id": "6YjFrikM1bY5",
        "outputId": "7ffd66f6-44a4-4d8e-b86b-e3979c5e19fc"
      },
      "execution_count": null,
      "outputs": [
        {
          "output_type": "stream",
          "name": "stdout",
          "text": [
            "Enter a number:5\n",
            "1,2,6,24,120"
          ]
        }
      ]
    },
    {
      "cell_type": "markdown",
      "source": [
        "## WAP to print Fibonacci Series"
      ],
      "metadata": {
        "id": "vICU53ED38aS"
      }
    },
    {
      "cell_type": "code",
      "source": [
        "a = int(input('Enter 1st no.:'))\n",
        "b = int(input('Enter 2nd no.:'))\n",
        "n = int(input('Enter the number upto which you want Fibonacci Series:'))\n",
        "for i in range(2, n+1):\n",
        "  a, b = b, a+b\n",
        "  print(a, end = ' ')"
      ],
      "metadata": {
        "colab": {
          "base_uri": "https://localhost:8080/"
        },
        "id": "vK35ytc022yp",
        "outputId": "f1bbd55a-eb1f-4810-e97c-460eacb8bcd5"
      },
      "execution_count": null,
      "outputs": [
        {
          "output_type": "stream",
          "name": "stdout",
          "text": [
            "Enter 1st no.:0\n",
            "Enter 2nd no.:1\n",
            "Enter the number upto which you want Fibonacci Series:10\n",
            "1 1 2 3 5 8 13 21 34 "
          ]
        }
      ]
    },
    {
      "cell_type": "code",
      "source": [
        "a = 'Python'\n",
        "print(list(a))"
      ],
      "metadata": {
        "colab": {
          "base_uri": "https://localhost:8080/"
        },
        "id": "S9Rp7nnY4-BJ",
        "outputId": "3763ebeb-9702-47e0-85a6-4bef61585605"
      },
      "execution_count": null,
      "outputs": [
        {
          "output_type": "stream",
          "name": "stdout",
          "text": [
            "['P', 'y', 't', 'h', 'o', 'n']\n"
          ]
        }
      ]
    },
    {
      "cell_type": "code",
      "source": [
        "# Upper case \n",
        "a = 'Python'\n",
        "print(a.upper())"
      ],
      "metadata": {
        "colab": {
          "base_uri": "https://localhost:8080/"
        },
        "id": "RHu-lRyZ61cr",
        "outputId": "47a1c0f0-dc47-4c57-d5d9-67fafaed5901"
      },
      "execution_count": null,
      "outputs": [
        {
          "output_type": "stream",
          "name": "stdout",
          "text": [
            "PYTHON\n"
          ]
        }
      ]
    },
    {
      "cell_type": "code",
      "source": [
        "# Lower case\n",
        "print(a.lower())"
      ],
      "metadata": {
        "colab": {
          "base_uri": "https://localhost:8080/"
        },
        "id": "fN_a5gla7QfJ",
        "outputId": "c409e18e-9f65-431f-c4f3-e3f2e015c6d5"
      },
      "execution_count": null,
      "outputs": [
        {
          "output_type": "stream",
          "name": "stdout",
          "text": [
            "python\n"
          ]
        }
      ]
    },
    {
      "cell_type": "code",
      "source": [
        "# Title case\n",
        "a = 'python training is fun'\n",
        "print(a.title())"
      ],
      "metadata": {
        "colab": {
          "base_uri": "https://localhost:8080/"
        },
        "id": "4MbxKNP37qOZ",
        "outputId": "629c0e57-70ab-4b37-c6c9-a5538dd43b6c"
      },
      "execution_count": null,
      "outputs": [
        {
          "output_type": "stream",
          "name": "stdout",
          "text": [
            "Python Training Is Fun\n"
          ]
        }
      ]
    },
    {
      "cell_type": "code",
      "source": [
        "# Sentence case\n",
        "a = 'python training is fun'\n",
        "print(a.capitalize())"
      ],
      "metadata": {
        "colab": {
          "base_uri": "https://localhost:8080/"
        },
        "id": "VaPUlphL7zrZ",
        "outputId": "d48d1e59-859e-4b72-be64-6cf15767c011"
      },
      "execution_count": null,
      "outputs": [
        {
          "output_type": "stream",
          "name": "stdout",
          "text": [
            "Python training is fun\n"
          ]
        }
      ]
    },
    {
      "cell_type": "code",
      "source": [
        "# Swap case\n",
        "a = 'pYtHoN TrAinInG iS FuN'\n",
        "print(a.swapcase())"
      ],
      "metadata": {
        "colab": {
          "base_uri": "https://localhost:8080/"
        },
        "id": "Iem60DZL8fDK",
        "outputId": "061fba2d-1c11-4a1a-9099-044e51a7225a"
      },
      "execution_count": null,
      "outputs": [
        {
          "output_type": "stream",
          "name": "stdout",
          "text": [
            "PyThOn tRaINiNg Is fUn\n"
          ]
        }
      ]
    },
    {
      "cell_type": "markdown",
      "source": [
        "## String attributes follows series connection"
      ],
      "metadata": {
        "id": "jR1pN7BZ9Rph"
      }
    },
    {
      "cell_type": "code",
      "source": [
        "a = 'python training is fun'\n",
        "print(a.title().upper())"
      ],
      "metadata": {
        "colab": {
          "base_uri": "https://localhost:8080/"
        },
        "id": "eyzOp5yF8l2J",
        "outputId": "4ff1b8c1-ef2b-4fbe-a0c8-ff88a792d05f"
      },
      "execution_count": null,
      "outputs": [
        {
          "output_type": "stream",
          "name": "stdout",
          "text": [
            "PYTHON TRAINING IS FUN\n"
          ]
        }
      ]
    },
    {
      "cell_type": "code",
      "source": [
        "a = 'python training is fun'\n",
        "print(a.replace('python', 'Java'))"
      ],
      "metadata": {
        "colab": {
          "base_uri": "https://localhost:8080/"
        },
        "id": "GbD90BjA9aby",
        "outputId": "d4db8fed-53ee-4d26-b62f-86958dcb2471"
      },
      "execution_count": null,
      "outputs": [
        {
          "output_type": "stream",
          "name": "stdout",
          "text": [
            "Java training is fun\n"
          ]
        }
      ]
    },
    {
      "cell_type": "markdown",
      "source": [
        "## Palindrome"
      ],
      "metadata": {
        "id": "aF6Fj21sAxET"
      }
    },
    {
      "cell_type": "code",
      "source": [
        "my_str = input('Enter your string:')\n",
        "my_str = my_str.lower()\n",
        "new_str = reversed(my_str)\n",
        "if list(my_str) == list(new_str):\n",
        "  print('Same')\n",
        "else:\n",
        "  print('Not same')"
      ],
      "metadata": {
        "colab": {
          "base_uri": "https://localhost:8080/"
        },
        "id": "VwyTVQOp-9EC",
        "outputId": "8eae3ba5-6bbc-4f6f-fd3b-88bb1d561527"
      },
      "execution_count": null,
      "outputs": [
        {
          "output_type": "stream",
          "name": "stdout",
          "text": [
            "Enter your string:Aba\n",
            "Same\n"
          ]
        }
      ]
    },
    {
      "cell_type": "markdown",
      "source": [
        "## WAP to add digits of list elements"
      ],
      "metadata": {
        "id": "1dAhYve3Dbzz"
      }
    },
    {
      "cell_type": "code",
      "source": [
        "a = [12, 25, 67, 21, 45]\n",
        "# output --> [3, 7, 13, 3, 9]\n",
        "b = []\n",
        "for i in a:\n",
        "  s = str(i)\n",
        "  sod = int(s[0]) + int(s[1])\n",
        "  b.append(sod)\n",
        "print(b)"
      ],
      "metadata": {
        "colab": {
          "base_uri": "https://localhost:8080/"
        },
        "id": "egkvAeotBuiq",
        "outputId": "e5e0a950-041a-486f-83d3-71aea4e72481"
      },
      "execution_count": null,
      "outputs": [
        {
          "output_type": "stream",
          "name": "stdout",
          "text": [
            "[3, 7, 13, 3, 9]\n"
          ]
        }
      ]
    },
    {
      "cell_type": "code",
      "source": [
        "a = [12, 25, 267, 21, 145]\n",
        "b = []\n",
        "for i in a:\n",
        "  s = 0\n",
        "  for d in str(i):\n",
        "    s += int(d)\n",
        "  b.append(s)\n",
        "print(b)"
      ],
      "metadata": {
        "colab": {
          "base_uri": "https://localhost:8080/"
        },
        "id": "q8U-mK9SIOA0",
        "outputId": "b4e7718a-398f-450c-dbdf-98f839b8ce68"
      },
      "execution_count": null,
      "outputs": [
        {
          "output_type": "stream",
          "name": "stdout",
          "text": [
            "[3, 7, 15, 3, 10]\n"
          ]
        }
      ]
    },
    {
      "cell_type": "code",
      "source": [
        "s = '12'\n",
        "print(s[0])\n",
        "print(s[1])\n",
        "print(s[0]+s[1])\n",
        "print(int(s[0])+int(s[1]))"
      ],
      "metadata": {
        "colab": {
          "base_uri": "https://localhost:8080/"
        },
        "id": "It9ShQxeFBOp",
        "outputId": "b887f36a-03d9-40dc-f567-54abfc9eab7f"
      },
      "execution_count": null,
      "outputs": [
        {
          "output_type": "stream",
          "name": "stdout",
          "text": [
            "1\n",
            "2\n",
            "12\n",
            "3\n"
          ]
        }
      ]
    },
    {
      "cell_type": "markdown",
      "source": [
        "## WAP to remove duplicate elements from a list"
      ],
      "metadata": {
        "id": "Ja0yFbl6Dh5J"
      }
    },
    {
      "cell_type": "code",
      "source": [
        "a = [1, 2, 3, 4, 4, 5, 6, 7, 6, 7, 1]\n",
        "b = []\n",
        "for i in a:\n",
        "  if i not in b:\n",
        "    b.append(i)\n",
        "print(b)"
      ],
      "metadata": {
        "colab": {
          "base_uri": "https://localhost:8080/"
        },
        "id": "UrZvPRNnDgyT",
        "outputId": "f6dae206-272e-453b-b88c-b0c564b07cfe"
      },
      "execution_count": null,
      "outputs": [
        {
          "output_type": "stream",
          "name": "stdout",
          "text": [
            "[1, 2, 3, 4, 5, 6, 7]\n"
          ]
        }
      ]
    },
    {
      "cell_type": "markdown",
      "source": [
        "## WAP to add digits upto single digit"
      ],
      "metadata": {
        "id": "SXihHExpKLdS"
      }
    },
    {
      "cell_type": "code",
      "source": [
        "a = int(input('Enter a number:'))\n",
        "sod = 0\n",
        "while a > 0:\n",
        "  temp = a % 10\n",
        "  sod = sod + temp\n",
        "  a = a // 10\n",
        "if sod == 0:\n",
        "  print('Sum of Digits is 0')\n",
        "if sod % 9 == 0:\n",
        "  print('Sum of Digits is 9') \n",
        "else:\n",
        "  sod = sod % 9\n",
        "print('Sum of Digits is:',sod)"
      ],
      "metadata": {
        "colab": {
          "base_uri": "https://localhost:8080/"
        },
        "id": "pP1a3u1ZHAUa",
        "outputId": "ead2dedc-4490-4b64-f5ec-48046723c211"
      },
      "execution_count": null,
      "outputs": [
        {
          "output_type": "stream",
          "name": "stdout",
          "text": [
            "Enter a number:785\n",
            "Sum of Digits is: 2\n"
          ]
        }
      ]
    },
    {
      "cell_type": "code",
      "source": [
        ""
      ],
      "metadata": {
        "id": "ro5hCfG5KSI6"
      },
      "execution_count": null,
      "outputs": []
    },
    {
      "cell_type": "code",
      "source": [
        ""
      ],
      "metadata": {
        "id": "n7otS03bbaaT"
      },
      "execution_count": null,
      "outputs": []
    }
  ]
}