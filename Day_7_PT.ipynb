{
  "nbformat": 4,
  "nbformat_minor": 0,
  "metadata": {
    "colab": {
      "name": "Day_7_PT.ipynb",
      "provenance": [],
      "authorship_tag": "ABX9TyPf6NO/blKrnJyPGOmVoJb5",
      "include_colab_link": true
    },
    "kernelspec": {
      "name": "python3",
      "display_name": "Python 3"
    },
    "language_info": {
      "name": "python"
    }
  },
  "cells": [
    {
      "cell_type": "markdown",
      "metadata": {
        "id": "view-in-github",
        "colab_type": "text"
      },
      "source": [
        "<a href=\"https://colab.research.google.com/github/abhi1628/Python_Training/blob/main/Day_7_PT.ipynb\" target=\"_parent\"><img src=\"https://colab.research.google.com/assets/colab-badge.svg\" alt=\"Open In Colab\"/></a>"
      ]
    },
    {
      "cell_type": "markdown",
      "source": [
        "## Functions are block of codes which are executed when they are called by their names.\n",
        "## Functions are used when a set of instructions are used again and again repeatedly- Code Reuseability."
      ],
      "metadata": {
        "id": "9jAuq4lJANz6"
      }
    },
    {
      "cell_type": "code",
      "source": [
        "def sq(n): # n --> parameter\n",
        "  return n**2\n",
        "\n",
        "print(sq(4)) # n = 4 --> argument"
      ],
      "metadata": {
        "colab": {
          "base_uri": "https://localhost:8080/"
        },
        "id": "TUlcfCnx-dt2",
        "outputId": "8433c498-368e-4a26-d072-946c7889d5bc"
      },
      "execution_count": null,
      "outputs": [
        {
          "output_type": "stream",
          "name": "stdout",
          "text": [
            "16\n"
          ]
        }
      ]
    },
    {
      "cell_type": "code",
      "source": [
        "n = 4\n",
        "print(n**2)"
      ],
      "metadata": {
        "colab": {
          "base_uri": "https://localhost:8080/"
        },
        "id": "K_ObQCIUB4EW",
        "outputId": "2e6827a0-4f09-4948-f38d-4a0f9b99c949"
      },
      "execution_count": null,
      "outputs": [
        {
          "output_type": "stream",
          "name": "stdout",
          "text": [
            "16\n"
          ]
        }
      ]
    },
    {
      "cell_type": "markdown",
      "source": [
        "### No. of parameters must be equal to the no. of arguments."
      ],
      "metadata": {
        "id": "HvE8xW52Clgv"
      }
    },
    {
      "cell_type": "code",
      "source": [
        "def sq(n, m): # n --> parameter\n",
        "  return n**2\n",
        "\n",
        "print(sq(4)) # n = 4 --> argument"
      ],
      "metadata": {
        "colab": {
          "base_uri": "https://localhost:8080/",
          "height": 201
        },
        "id": "99mMeh0ZB_Lo",
        "outputId": "3c1c3eec-0ae1-481e-86c0-a2e6db5f8066"
      },
      "execution_count": null,
      "outputs": [
        {
          "output_type": "error",
          "ename": "TypeError",
          "evalue": "ignored",
          "traceback": [
            "\u001b[0;31m---------------------------------------------------------------------------\u001b[0m",
            "\u001b[0;31mTypeError\u001b[0m                                 Traceback (most recent call last)",
            "\u001b[0;32m<ipython-input-4-0e726b6abde0>\u001b[0m in \u001b[0;36m<module>\u001b[0;34m()\u001b[0m\n\u001b[1;32m      2\u001b[0m   \u001b[0;32mreturn\u001b[0m \u001b[0mn\u001b[0m\u001b[0;34m**\u001b[0m\u001b[0;36m2\u001b[0m\u001b[0;34m\u001b[0m\u001b[0;34m\u001b[0m\u001b[0m\n\u001b[1;32m      3\u001b[0m \u001b[0;34m\u001b[0m\u001b[0m\n\u001b[0;32m----> 4\u001b[0;31m \u001b[0mprint\u001b[0m\u001b[0;34m(\u001b[0m\u001b[0msq\u001b[0m\u001b[0;34m(\u001b[0m\u001b[0;36m4\u001b[0m\u001b[0;34m)\u001b[0m\u001b[0;34m)\u001b[0m \u001b[0;31m# n = 4 --> argument\u001b[0m\u001b[0;34m\u001b[0m\u001b[0;34m\u001b[0m\u001b[0m\n\u001b[0m",
            "\u001b[0;31mTypeError\u001b[0m: sq() missing 1 required positional argument: 'm'"
          ]
        }
      ]
    },
    {
      "cell_type": "code",
      "source": [
        "def sq(n, m): # n --> parameter\n",
        "  return n**2\n",
        "\n",
        "print(sq(4, 5)) # n = 4 --> argument"
      ],
      "metadata": {
        "colab": {
          "base_uri": "https://localhost:8080/"
        },
        "id": "GDHCHWkwC0om",
        "outputId": "c48a95e4-99c8-4ee8-b0b4-9f011b058aa1"
      },
      "execution_count": null,
      "outputs": [
        {
          "output_type": "stream",
          "name": "stdout",
          "text": [
            "16\n"
          ]
        }
      ]
    },
    {
      "cell_type": "code",
      "source": [
        "def sq(n, m = 0): # n --> parameter\n",
        "  return n**2\n",
        "\n",
        "print(sq(4)) # n = 4 --> argument"
      ],
      "metadata": {
        "colab": {
          "base_uri": "https://localhost:8080/"
        },
        "id": "ruyWdwCHDFXU",
        "outputId": "9f77b6b3-4edd-4924-958a-b98be1a7a8b5"
      },
      "execution_count": null,
      "outputs": [
        {
          "output_type": "stream",
          "name": "stdout",
          "text": [
            "16\n"
          ]
        }
      ]
    },
    {
      "cell_type": "code",
      "source": [
        "def sq(n, m = 0): # n --> parameter\n",
        "  return (n**2 + m)\n",
        "\n",
        "print(sq(4)) # n = 4 --> argument"
      ],
      "metadata": {
        "colab": {
          "base_uri": "https://localhost:8080/"
        },
        "id": "5BX4e0LFDOcI",
        "outputId": "75cc6cbb-323f-4c07-ebf8-fb6f7ecd4faf"
      },
      "execution_count": null,
      "outputs": [
        {
          "output_type": "stream",
          "name": "stdout",
          "text": [
            "16\n"
          ]
        }
      ]
    },
    {
      "cell_type": "code",
      "source": [
        "def sq(n, m = 0): # n, m --> parameter\n",
        "  return (n**2 + m)\n",
        "\n",
        "print(sq(4, 4)) # n, m = 4 --> argument"
      ],
      "metadata": {
        "colab": {
          "base_uri": "https://localhost:8080/"
        },
        "id": "mtIBiuSZDfbU",
        "outputId": "9f86b52b-296d-459e-94fc-5e4eeee18181"
      },
      "execution_count": null,
      "outputs": [
        {
          "output_type": "stream",
          "name": "stdout",
          "text": [
            "20\n"
          ]
        }
      ]
    },
    {
      "cell_type": "code",
      "source": [
        "def sq(m = 0, n): # n, m --> parameter\n",
        "  return (n**2 + m)\n",
        "\n",
        "print(sq(4, 4)) # n, m = 4 --> argument"
      ],
      "metadata": {
        "colab": {
          "base_uri": "https://localhost:8080/",
          "height": 131
        },
        "id": "IpcEp_FJDpVl",
        "outputId": "7c651b78-eec8-4a0c-f2db-ab1deed97acc"
      },
      "execution_count": null,
      "outputs": [
        {
          "output_type": "error",
          "ename": "SyntaxError",
          "evalue": "ignored",
          "traceback": [
            "\u001b[0;36m  File \u001b[0;32m\"<ipython-input-9-7ef1296ab399>\"\u001b[0;36m, line \u001b[0;32m1\u001b[0m\n\u001b[0;31m    def sq(m = 0, n): # n, m --> parameter\u001b[0m\n\u001b[0m          ^\u001b[0m\n\u001b[0;31mSyntaxError\u001b[0m\u001b[0;31m:\u001b[0m non-default argument follows default argument\n"
          ]
        }
      ]
    },
    {
      "cell_type": "code",
      "source": [
        "def sq(n, m = 0): # n, m --> parameter\n",
        "  return (n**2 + m)\n",
        "\n",
        "f = sq\n",
        "print(sq)\n",
        "print(f(8, 2))"
      ],
      "metadata": {
        "colab": {
          "base_uri": "https://localhost:8080/"
        },
        "id": "Z7mp-wYnD-FR",
        "outputId": "9f476de6-4920-46c0-92f9-52f8913fa012"
      },
      "execution_count": null,
      "outputs": [
        {
          "output_type": "stream",
          "name": "stdout",
          "text": [
            "<function sq at 0x7f9a1387a9e0>\n",
            "66\n"
          ]
        }
      ]
    },
    {
      "cell_type": "markdown",
      "source": [
        "## First Class Functions"
      ],
      "metadata": {
        "id": "aHTSJockE0qu"
      }
    },
    {
      "cell_type": "code",
      "source": [
        "def log_in(msg):\n",
        "  def login_msg():\n",
        "    print('Login', msg)\n",
        "  return login_msg\n",
        "user_login = log_in('Welcome')\n",
        "user_login()"
      ],
      "metadata": {
        "colab": {
          "base_uri": "https://localhost:8080/"
        },
        "id": "_ShP8TnYEuE1",
        "outputId": "2d775bf5-90db-4cdc-8347-72564fa1b9f5"
      },
      "execution_count": null,
      "outputs": [
        {
          "output_type": "stream",
          "name": "stdout",
          "text": [
            "Login Welcome\n"
          ]
        }
      ]
    },
    {
      "cell_type": "markdown",
      "source": [
        "## scopes in functions"
      ],
      "metadata": {
        "id": "ECP1usO_HCT4"
      }
    },
    {
      "cell_type": "code",
      "source": [
        "def sq(n):\n",
        "  m = n**2\n",
        "  return m\n",
        "print(sq(4))"
      ],
      "metadata": {
        "colab": {
          "base_uri": "https://localhost:8080/"
        },
        "id": "rJRa34MqFp_u",
        "outputId": "d32c38a2-d209-4771-e302-2226554a8903"
      },
      "execution_count": null,
      "outputs": [
        {
          "output_type": "stream",
          "name": "stdout",
          "text": [
            "16\n"
          ]
        }
      ]
    },
    {
      "cell_type": "code",
      "source": [
        "def sq(n):\n",
        "  m = n**2\n",
        "  return m\n",
        "print(sq(m))"
      ],
      "metadata": {
        "colab": {
          "base_uri": "https://localhost:8080/",
          "height": 201
        },
        "id": "5px58t3wHdbW",
        "outputId": "b425d153-7e4e-4397-c0da-a1aeb1e8c467"
      },
      "execution_count": null,
      "outputs": [
        {
          "output_type": "error",
          "ename": "NameError",
          "evalue": "ignored",
          "traceback": [
            "\u001b[0;31m---------------------------------------------------------------------------\u001b[0m",
            "\u001b[0;31mNameError\u001b[0m                                 Traceback (most recent call last)",
            "\u001b[0;32m<ipython-input-13-56fd631c9325>\u001b[0m in \u001b[0;36m<module>\u001b[0;34m()\u001b[0m\n\u001b[1;32m      2\u001b[0m   \u001b[0mm\u001b[0m \u001b[0;34m=\u001b[0m \u001b[0mn\u001b[0m\u001b[0;34m**\u001b[0m\u001b[0;36m2\u001b[0m\u001b[0;34m\u001b[0m\u001b[0;34m\u001b[0m\u001b[0m\n\u001b[1;32m      3\u001b[0m   \u001b[0;32mreturn\u001b[0m \u001b[0mm\u001b[0m\u001b[0;34m\u001b[0m\u001b[0;34m\u001b[0m\u001b[0m\n\u001b[0;32m----> 4\u001b[0;31m \u001b[0mprint\u001b[0m\u001b[0;34m(\u001b[0m\u001b[0msq\u001b[0m\u001b[0;34m(\u001b[0m\u001b[0mm\u001b[0m\u001b[0;34m)\u001b[0m\u001b[0;34m)\u001b[0m\u001b[0;34m\u001b[0m\u001b[0;34m\u001b[0m\u001b[0m\n\u001b[0m",
            "\u001b[0;31mNameError\u001b[0m: name 'm' is not defined"
          ]
        }
      ]
    },
    {
      "cell_type": "code",
      "source": [
        "def sq(n):\n",
        "  global m\n",
        "  m = n**2\n",
        "  return m\n",
        "print(sq(m))"
      ],
      "metadata": {
        "colab": {
          "base_uri": "https://localhost:8080/"
        },
        "id": "ihIR3qLDHjKM",
        "outputId": "fc3d1abd-2632-4b82-e0c4-36fae0d0d080"
      },
      "execution_count": null,
      "outputs": [
        {
          "output_type": "stream",
          "name": "stdout",
          "text": [
            "1\n"
          ]
        }
      ]
    },
    {
      "cell_type": "code",
      "source": [
        "m = 1\n",
        "def sq(n):\n",
        "  m = n**2\n",
        "  return m\n",
        "print(sq(m))"
      ],
      "metadata": {
        "colab": {
          "base_uri": "https://localhost:8080/"
        },
        "id": "M3IZHEQEH7H5",
        "outputId": "8bfcec0d-2ad8-403f-ee8b-b617e9e05988"
      },
      "execution_count": null,
      "outputs": [
        {
          "output_type": "stream",
          "name": "stdout",
          "text": [
            "1\n"
          ]
        }
      ]
    },
    {
      "cell_type": "code",
      "source": [
        "m = 10\n",
        "def global_check():\n",
        "  m = 20\n",
        "  print('Variable inside function:',m)\n",
        "\n",
        "global_check()\n",
        "print('Variable outside function:',m)"
      ],
      "metadata": {
        "colab": {
          "base_uri": "https://localhost:8080/"
        },
        "id": "2yad30iNICZ5",
        "outputId": "2282c655-df08-49d8-bf55-6dc1c26144c0"
      },
      "execution_count": null,
      "outputs": [
        {
          "output_type": "stream",
          "name": "stdout",
          "text": [
            "Variable inside function: 20\n",
            "Variable outside function: 10\n"
          ]
        }
      ]
    },
    {
      "cell_type": "code",
      "source": [
        "m = 10\n",
        "def global_check():\n",
        "  # m = 20\n",
        "  print('Variable inside function:',m)\n",
        "\n",
        "global_check()\n",
        "print('Variable outside function:',m)"
      ],
      "metadata": {
        "colab": {
          "base_uri": "https://localhost:8080/"
        },
        "id": "enwS03uDIwtS",
        "outputId": "f70cbc3d-641a-45ba-de8b-3b8e559280ca"
      },
      "execution_count": null,
      "outputs": [
        {
          "output_type": "stream",
          "name": "stdout",
          "text": [
            "Variable inside function: 10\n",
            "Variable outside function: 10\n"
          ]
        }
      ]
    },
    {
      "cell_type": "code",
      "source": [
        "m = 10\n",
        "def global_check():\n",
        "  global m\n",
        "  m = 20\n",
        "  print('Variable inside function:',m)\n",
        "\n",
        "global_check()\n",
        "print('Variable outside function:',m)"
      ],
      "metadata": {
        "colab": {
          "base_uri": "https://localhost:8080/"
        },
        "id": "HShIuyYzI92D",
        "outputId": "dd6a2255-bf3c-4b53-ef0e-8c620bc0a18a"
      },
      "execution_count": null,
      "outputs": [
        {
          "output_type": "stream",
          "name": "stdout",
          "text": [
            "Variable inside function: 20\n",
            "Variable outside function: 20\n"
          ]
        }
      ]
    },
    {
      "cell_type": "code",
      "source": [
        "m = 10\n",
        "def global_check():\n",
        "  m = 20\n",
        "  a = globals()['m']\n",
        "  print('Variable inside function:',m)\n",
        "\n",
        "global_check()\n",
        "print('Variable outside function:',m)"
      ],
      "metadata": {
        "colab": {
          "base_uri": "https://localhost:8080/"
        },
        "id": "HLrfseZkJgPz",
        "outputId": "d98537c2-56ab-44ad-87de-d6ebb6908726"
      },
      "execution_count": null,
      "outputs": [
        {
          "output_type": "stream",
          "name": "stdout",
          "text": [
            "Variable inside function: 20\n",
            "Variable outside function: 10\n"
          ]
        }
      ]
    },
    {
      "cell_type": "code",
      "source": [
        "m = 10\n",
        "def global_check():\n",
        "  m = 20\n",
        "  a = globals()['m']\n",
        "  print('Variable inside function:',m)\n",
        "\n",
        "  globals()['m'] = 50\n",
        "\n",
        "global_check()\n",
        "print('Variable outside function:',m)"
      ],
      "metadata": {
        "colab": {
          "base_uri": "https://localhost:8080/"
        },
        "id": "w8g2GVpdKEba",
        "outputId": "e01af420-9a60-4269-d613-96bb888d9958"
      },
      "execution_count": null,
      "outputs": [
        {
          "output_type": "stream",
          "name": "stdout",
          "text": [
            "Variable inside function: 20\n",
            "Variable outside function: 50\n"
          ]
        }
      ]
    },
    {
      "cell_type": "markdown",
      "source": [
        "## LEGB --> Local, Enclosed, Global, Built-in"
      ],
      "metadata": {
        "id": "0ZnrOTFAKecF"
      }
    },
    {
      "cell_type": "code",
      "source": [
        "def outer():\n",
        "  x = 'Outer of x'\n",
        "  def inner():\n",
        "    x = 'inner of x'\n",
        "    print(x)\n",
        "  inner()\n",
        "  print(x)\n",
        "\n",
        "outer()"
      ],
      "metadata": {
        "colab": {
          "base_uri": "https://localhost:8080/"
        },
        "id": "EE_ks3L2KTk5",
        "outputId": "da118e4a-702f-49ae-b305-1142e7c3f5f9"
      },
      "execution_count": null,
      "outputs": [
        {
          "output_type": "stream",
          "name": "stdout",
          "text": [
            "inner of x\n",
            "Outer of x\n"
          ]
        }
      ]
    },
    {
      "cell_type": "code",
      "source": [
        "def outer():\n",
        "  x = 'Outer of x'\n",
        "  def inner():\n",
        "    # x = 'inner of x'\n",
        "    print(x)\n",
        "  inner()\n",
        "  print(x)\n",
        "\n",
        "outer()"
      ],
      "metadata": {
        "colab": {
          "base_uri": "https://localhost:8080/"
        },
        "id": "zDeW7VRdLNsB",
        "outputId": "ac3554cf-231b-415f-891e-55ce9dfa8b4f"
      },
      "execution_count": null,
      "outputs": [
        {
          "output_type": "stream",
          "name": "stdout",
          "text": [
            "Outer of x\n",
            "Outer of x\n"
          ]
        }
      ]
    },
    {
      "cell_type": "code",
      "source": [
        "def outer():\n",
        "  # x = 'Outer of x'\n",
        "  def inner():\n",
        "    x = 'inner of x'\n",
        "    print(x)\n",
        "  inner()\n",
        "  print(x)\n",
        "\n",
        "outer()"
      ],
      "metadata": {
        "colab": {
          "base_uri": "https://localhost:8080/",
          "height": 339
        },
        "id": "mzRISKJXLx7u",
        "outputId": "eef9c499-9bf5-4020-fadb-5a074327e711"
      },
      "execution_count": null,
      "outputs": [
        {
          "output_type": "stream",
          "name": "stdout",
          "text": [
            "inner of x\n"
          ]
        },
        {
          "output_type": "error",
          "ename": "NameError",
          "evalue": "ignored",
          "traceback": [
            "\u001b[0;31m---------------------------------------------------------------------------\u001b[0m",
            "\u001b[0;31mNameError\u001b[0m                                 Traceback (most recent call last)",
            "\u001b[0;32m<ipython-input-24-d95b2e45b33a>\u001b[0m in \u001b[0;36m<module>\u001b[0;34m()\u001b[0m\n\u001b[1;32m      7\u001b[0m   \u001b[0mprint\u001b[0m\u001b[0;34m(\u001b[0m\u001b[0mx\u001b[0m\u001b[0;34m)\u001b[0m\u001b[0;34m\u001b[0m\u001b[0;34m\u001b[0m\u001b[0m\n\u001b[1;32m      8\u001b[0m \u001b[0;34m\u001b[0m\u001b[0m\n\u001b[0;32m----> 9\u001b[0;31m \u001b[0mouter\u001b[0m\u001b[0;34m(\u001b[0m\u001b[0;34m)\u001b[0m\u001b[0;34m\u001b[0m\u001b[0;34m\u001b[0m\u001b[0m\n\u001b[0m",
            "\u001b[0;32m<ipython-input-24-d95b2e45b33a>\u001b[0m in \u001b[0;36mouter\u001b[0;34m()\u001b[0m\n\u001b[1;32m      5\u001b[0m     \u001b[0mprint\u001b[0m\u001b[0;34m(\u001b[0m\u001b[0mx\u001b[0m\u001b[0;34m)\u001b[0m\u001b[0;34m\u001b[0m\u001b[0;34m\u001b[0m\u001b[0m\n\u001b[1;32m      6\u001b[0m   \u001b[0minner\u001b[0m\u001b[0;34m(\u001b[0m\u001b[0;34m)\u001b[0m\u001b[0;34m\u001b[0m\u001b[0;34m\u001b[0m\u001b[0m\n\u001b[0;32m----> 7\u001b[0;31m   \u001b[0mprint\u001b[0m\u001b[0;34m(\u001b[0m\u001b[0mx\u001b[0m\u001b[0;34m)\u001b[0m\u001b[0;34m\u001b[0m\u001b[0;34m\u001b[0m\u001b[0m\n\u001b[0m\u001b[1;32m      8\u001b[0m \u001b[0;34m\u001b[0m\u001b[0m\n\u001b[1;32m      9\u001b[0m \u001b[0mouter\u001b[0m\u001b[0;34m(\u001b[0m\u001b[0;34m)\u001b[0m\u001b[0;34m\u001b[0m\u001b[0;34m\u001b[0m\u001b[0m\n",
            "\u001b[0;31mNameError\u001b[0m: name 'x' is not defined"
          ]
        }
      ]
    },
    {
      "cell_type": "code",
      "source": [
        "def outer():\n",
        "  x = 'Outer of x'\n",
        "  def inner():\n",
        "    nonlocal x\n",
        "    x = 'inner of x'\n",
        "    print(x)\n",
        "  inner()\n",
        "  print(x)\n",
        "\n",
        "outer()"
      ],
      "metadata": {
        "colab": {
          "base_uri": "https://localhost:8080/"
        },
        "id": "NNaZS3S3MWJw",
        "outputId": "f22ebffd-82f7-4808-cff8-6b63250ae7a2"
      },
      "execution_count": null,
      "outputs": [
        {
          "output_type": "stream",
          "name": "stdout",
          "text": [
            "inner of x\n",
            "inner of x\n"
          ]
        }
      ]
    },
    {
      "cell_type": "code",
      "source": [
        "def add_fun():\n",
        "  v1 = 1\n",
        "  v2 = 2\n",
        "  return v1 + v2\n",
        "print(add_fun())"
      ],
      "metadata": {
        "colab": {
          "base_uri": "https://localhost:8080/"
        },
        "id": "85cBCAOxNAMS",
        "outputId": "c2b4893b-3958-42dc-f852-d17daccea1e5"
      },
      "execution_count": null,
      "outputs": [
        {
          "output_type": "stream",
          "name": "stdout",
          "text": [
            "3\n"
          ]
        }
      ]
    },
    {
      "cell_type": "code",
      "source": [
        "v2 = 2\n",
        "def add_fun():\n",
        "  v1 = 1\n",
        "  return v1 + v2\n",
        "print(add_fun())"
      ],
      "metadata": {
        "colab": {
          "base_uri": "https://localhost:8080/"
        },
        "id": "-mF8uEtONu5s",
        "outputId": "100323d5-493f-47a6-f613-d11f9127aeda"
      },
      "execution_count": null,
      "outputs": [
        {
          "output_type": "stream",
          "name": "stdout",
          "text": [
            "3\n"
          ]
        }
      ]
    },
    {
      "cell_type": "code",
      "source": [
        "def add_fun(v1):\n",
        "  def add_to_fun(v2):\n",
        "    return v1 + v2\n",
        "  return add_to_fun\n",
        "\n",
        "add_to_fun = add_fun(5)\n",
        "print(add_to_fun(6))"
      ],
      "metadata": {
        "colab": {
          "base_uri": "https://localhost:8080/"
        },
        "id": "JYx_ljFZN1-C",
        "outputId": "d2fffa9e-563f-4da9-9f3b-d677d47cdd93"
      },
      "execution_count": null,
      "outputs": [
        {
          "output_type": "stream",
          "name": "stdout",
          "text": [
            "11\n"
          ]
        }
      ]
    },
    {
      "cell_type": "markdown",
      "source": [
        "## Inner Function Variable can access the Outer Function Variable. This concept is called Closure Function."
      ],
      "metadata": {
        "id": "iIBHhZeQPJug"
      }
    },
    {
      "cell_type": "code",
      "source": [
        "def outer_fun():\n",
        "  msg = 'Python is Fun'\n",
        "  def inner_fun():\n",
        "    print(msg)\n",
        "  return inner_fun()\n",
        "\n",
        "outer_fun()"
      ],
      "metadata": {
        "colab": {
          "base_uri": "https://localhost:8080/"
        },
        "id": "nTJemGkKOzms",
        "outputId": "0cdd82fd-ede6-4560-ad5a-a0ba1606c015"
      },
      "execution_count": null,
      "outputs": [
        {
          "output_type": "stream",
          "name": "stdout",
          "text": [
            "Python is Fun\n"
          ]
        }
      ]
    },
    {
      "cell_type": "code",
      "source": [
        "def outer_fun():\n",
        "  msg = 'Python is Fun'\n",
        "  def inner_fun():\n",
        "    print(msg)\n",
        "  return inner_fun\n",
        "\n",
        "new_fun = outer_fun()\n",
        "new_fun()"
      ],
      "metadata": {
        "colab": {
          "base_uri": "https://localhost:8080/"
        },
        "id": "jxnaBnEyP-0Z",
        "outputId": "a74ac2cc-4573-4e5e-b691-eca0b0475b92"
      },
      "execution_count": null,
      "outputs": [
        {
          "output_type": "stream",
          "name": "stdout",
          "text": [
            "Python is Fun\n"
          ]
        }
      ]
    },
    {
      "cell_type": "code",
      "source": [
        "def outer_fun():\n",
        "  msg = 'Python is Fun'\n",
        "  def inner_fun():\n",
        "    print(msg)\n",
        "  return inner_fun\n",
        "\n",
        "new_fun = outer_fun()\n",
        "print(new_fun.__name__)"
      ],
      "metadata": {
        "colab": {
          "base_uri": "https://localhost:8080/"
        },
        "id": "2qq60hEvQghF",
        "outputId": "33112a90-61a9-430b-f942-ccac323a2a13"
      },
      "execution_count": null,
      "outputs": [
        {
          "output_type": "stream",
          "name": "stdout",
          "text": [
            "inner_fun\n"
          ]
        }
      ]
    },
    {
      "cell_type": "code",
      "source": [
        "def outer_fun():\n",
        "  msg = 'Python is Fun'\n",
        "  def inner_fun():\n",
        "    print(msg)\n",
        "  return inner_fun\n",
        "\n",
        "new_fun = outer_fun()\n",
        "new_fun()\n",
        "new_fun()\n",
        "new_fun()"
      ],
      "metadata": {
        "colab": {
          "base_uri": "https://localhost:8080/"
        },
        "id": "R-YhXpWtQ_AF",
        "outputId": "6305b20f-65c6-4e0f-ebb3-9132fd8d0ca0"
      },
      "execution_count": null,
      "outputs": [
        {
          "output_type": "stream",
          "name": "stdout",
          "text": [
            "Python is Fun\n",
            "Python is Fun\n",
            "Python is Fun\n"
          ]
        }
      ]
    },
    {
      "cell_type": "code",
      "source": [
        "def div_op(a,b):\n",
        "  return a/b\n",
        "div_op(5, 2)"
      ],
      "metadata": {
        "colab": {
          "base_uri": "https://localhost:8080/"
        },
        "id": "6Vf9iemxRLy7",
        "outputId": "48843da7-01f8-4cf1-d82d-5926441d92cf"
      },
      "execution_count": null,
      "outputs": [
        {
          "output_type": "execute_result",
          "data": {
            "text/plain": [
              "2.5"
            ]
          },
          "metadata": {},
          "execution_count": 33
        }
      ]
    },
    {
      "cell_type": "code",
      "source": [
        "def div_op(a,b):\n",
        "  return a/b\n",
        "div_op(5, 0)"
      ],
      "metadata": {
        "colab": {
          "base_uri": "https://localhost:8080/",
          "height": 287
        },
        "id": "W5ukzb7FSLIi",
        "outputId": "88fc2418-20f1-4946-c874-2ba8dad6212e"
      },
      "execution_count": null,
      "outputs": [
        {
          "output_type": "error",
          "ename": "ZeroDivisionError",
          "evalue": "ignored",
          "traceback": [
            "\u001b[0;31m---------------------------------------------------------------------------\u001b[0m",
            "\u001b[0;31mZeroDivisionError\u001b[0m                         Traceback (most recent call last)",
            "\u001b[0;32m<ipython-input-34-8ae9dc6d8919>\u001b[0m in \u001b[0;36m<module>\u001b[0;34m()\u001b[0m\n\u001b[1;32m      1\u001b[0m \u001b[0;32mdef\u001b[0m \u001b[0mdiv_op\u001b[0m\u001b[0;34m(\u001b[0m\u001b[0ma\u001b[0m\u001b[0;34m,\u001b[0m\u001b[0mb\u001b[0m\u001b[0;34m)\u001b[0m\u001b[0;34m:\u001b[0m\u001b[0;34m\u001b[0m\u001b[0;34m\u001b[0m\u001b[0m\n\u001b[1;32m      2\u001b[0m   \u001b[0;32mreturn\u001b[0m \u001b[0ma\u001b[0m\u001b[0;34m/\u001b[0m\u001b[0mb\u001b[0m\u001b[0;34m\u001b[0m\u001b[0;34m\u001b[0m\u001b[0m\n\u001b[0;32m----> 3\u001b[0;31m \u001b[0mdiv_op\u001b[0m\u001b[0;34m(\u001b[0m\u001b[0;36m5\u001b[0m\u001b[0;34m,\u001b[0m \u001b[0;36m0\u001b[0m\u001b[0;34m)\u001b[0m\u001b[0;34m\u001b[0m\u001b[0;34m\u001b[0m\u001b[0m\n\u001b[0m",
            "\u001b[0;32m<ipython-input-34-8ae9dc6d8919>\u001b[0m in \u001b[0;36mdiv_op\u001b[0;34m(a, b)\u001b[0m\n\u001b[1;32m      1\u001b[0m \u001b[0;32mdef\u001b[0m \u001b[0mdiv_op\u001b[0m\u001b[0;34m(\u001b[0m\u001b[0ma\u001b[0m\u001b[0;34m,\u001b[0m\u001b[0mb\u001b[0m\u001b[0;34m)\u001b[0m\u001b[0;34m:\u001b[0m\u001b[0;34m\u001b[0m\u001b[0;34m\u001b[0m\u001b[0m\n\u001b[0;32m----> 2\u001b[0;31m   \u001b[0;32mreturn\u001b[0m \u001b[0ma\u001b[0m\u001b[0;34m/\u001b[0m\u001b[0mb\u001b[0m\u001b[0;34m\u001b[0m\u001b[0;34m\u001b[0m\u001b[0m\n\u001b[0m\u001b[1;32m      3\u001b[0m \u001b[0mdiv_op\u001b[0m\u001b[0;34m(\u001b[0m\u001b[0;36m5\u001b[0m\u001b[0;34m,\u001b[0m \u001b[0;36m0\u001b[0m\u001b[0;34m)\u001b[0m\u001b[0;34m\u001b[0m\u001b[0;34m\u001b[0m\u001b[0m\n",
            "\u001b[0;31mZeroDivisionError\u001b[0m: division by zero"
          ]
        }
      ]
    },
    {
      "cell_type": "code",
      "source": [
        "def div_op(a,b):\n",
        "  if b != 0:\n",
        "    return a/b\n",
        "  else:\n",
        "    print('The value of b is zero. Change it.')\n",
        "div_op(5, 0)"
      ],
      "metadata": {
        "colab": {
          "base_uri": "https://localhost:8080/"
        },
        "id": "y7lgK6olSQDs",
        "outputId": "e0bce74b-3123-46cc-c8d3-b4d7972b4100"
      },
      "execution_count": null,
      "outputs": [
        {
          "output_type": "stream",
          "name": "stdout",
          "text": [
            "The value of b is zero. Change it.\n"
          ]
        }
      ]
    },
    {
      "cell_type": "code",
      "source": [
        "def check_div_op(func):\n",
        "  def inside(a,b):\n",
        "    if b == 0:\n",
        "      print('The value of b is zero. Change it.')\n",
        "      return\n",
        "    func(a, b)\n",
        "  return inside\n",
        "\n",
        "def div_op(a,b):\n",
        "  return a/b\n",
        "\n",
        "div_op = check_div_op(div_op)\n",
        "\n",
        "div_op(5, 0)"
      ],
      "metadata": {
        "colab": {
          "base_uri": "https://localhost:8080/"
        },
        "id": "VYZs8Hv2SphM",
        "outputId": "b13085f0-f3a0-4a09-d207-9c5be8e74c54"
      },
      "execution_count": null,
      "outputs": [
        {
          "output_type": "stream",
          "name": "stdout",
          "text": [
            "The value of b is zero. Change it.\n"
          ]
        }
      ]
    },
    {
      "cell_type": "code",
      "source": [
        "def check_div_op(func):\n",
        "  def inside(a,b):\n",
        "    if b == 0:\n",
        "      print('The value of b is zero. Change it.')\n",
        "      return\n",
        "    func(a, b)\n",
        "  return inside\n",
        "\n",
        "@check_div_op # Decorator Function\n",
        "def div_op(a,b):\n",
        "  return a/b\n",
        "\n",
        "div_op(5, 0)"
      ],
      "metadata": {
        "colab": {
          "base_uri": "https://localhost:8080/"
        },
        "id": "A7pkEN60UCol",
        "outputId": "545cd3bf-d2a1-4fb7-ebaa-43ee73fee281"
      },
      "execution_count": null,
      "outputs": [
        {
          "output_type": "stream",
          "name": "stdout",
          "text": [
            "The value of b is zero. Change it.\n"
          ]
        }
      ]
    },
    {
      "cell_type": "markdown",
      "source": [
        "## Types of Arguments"
      ],
      "metadata": {
        "id": "XrUVx2C9V0Sm"
      }
    },
    {
      "cell_type": "code",
      "source": [
        "# Default Arguments\n",
        "# Keyword Arguments"
      ],
      "metadata": {
        "id": "rykXbaCnUVXL"
      },
      "execution_count": null,
      "outputs": []
    },
    {
      "cell_type": "code",
      "source": [
        "def sq(n, m): # n --> parameter\n",
        "  return n**2\n",
        "\n",
        "print(sq(n = 4, m = 5)) # n = 4 --> argument"
      ],
      "metadata": {
        "colab": {
          "base_uri": "https://localhost:8080/"
        },
        "id": "-4DyXcSUWEZS",
        "outputId": "54acf58f-93e4-4c91-9a79-477fc6c5eb87"
      },
      "execution_count": null,
      "outputs": [
        {
          "output_type": "stream",
          "name": "stdout",
          "text": [
            "16\n"
          ]
        }
      ]
    },
    {
      "cell_type": "code",
      "source": [
        "def sq(n, m): # n --> parameter\n",
        "  return n**2\n",
        "\n",
        "print(sq(m = 4, n = 5)) # n = 4 --> argument"
      ],
      "metadata": {
        "colab": {
          "base_uri": "https://localhost:8080/"
        },
        "id": "9_W4SDp0WK6U",
        "outputId": "bfc98c16-1529-4c24-d403-a301a537d275"
      },
      "execution_count": null,
      "outputs": [
        {
          "output_type": "stream",
          "name": "stdout",
          "text": [
            "25\n"
          ]
        }
      ]
    },
    {
      "cell_type": "markdown",
      "source": [
        "## Variable Arguments"
      ],
      "metadata": {
        "id": "woYeQn1AWYMp"
      }
    },
    {
      "cell_type": "code",
      "source": [
        "def n_values(*n): \n",
        "  return n\n",
        "\n",
        "print(n_values(1, 2, 3)) "
      ],
      "metadata": {
        "colab": {
          "base_uri": "https://localhost:8080/"
        },
        "id": "TJj10Kz9WUn3",
        "outputId": "a19979b8-dbca-4a4d-c266-bfb41ee1dd02"
      },
      "execution_count": null,
      "outputs": [
        {
          "output_type": "stream",
          "name": "stdout",
          "text": [
            "(1, 2, 3)\n"
          ]
        }
      ]
    },
    {
      "cell_type": "code",
      "source": [
        "print(type(n_values()))"
      ],
      "metadata": {
        "colab": {
          "base_uri": "https://localhost:8080/"
        },
        "id": "5iMuoOHeWut9",
        "outputId": "a819bb09-70ab-48fc-8a4d-a8f30b14483b"
      },
      "execution_count": null,
      "outputs": [
        {
          "output_type": "stream",
          "name": "stdout",
          "text": [
            "<class 'tuple'>\n"
          ]
        }
      ]
    },
    {
      "cell_type": "code",
      "source": [
        "def n_values(**n): \n",
        "  return n\n",
        "\n",
        "print(n_values(x = 1, y = 2, z = 3))"
      ],
      "metadata": {
        "colab": {
          "base_uri": "https://localhost:8080/"
        },
        "id": "7tTlT6poW9ks",
        "outputId": "0afbea01-a582-4dc7-e764-adce41e58c7f"
      },
      "execution_count": null,
      "outputs": [
        {
          "output_type": "stream",
          "name": "stdout",
          "text": [
            "{'x': 1, 'y': 2, 'z': 3}\n"
          ]
        }
      ]
    },
    {
      "cell_type": "code",
      "source": [
        "print(type(n_values()))"
      ],
      "metadata": {
        "colab": {
          "base_uri": "https://localhost:8080/"
        },
        "id": "VqCbkqJfXRRm",
        "outputId": "e042a9c7-ac17-4873-fa89-dbfbf009aa49"
      },
      "execution_count": null,
      "outputs": [
        {
          "output_type": "stream",
          "name": "stdout",
          "text": [
            "<class 'dict'>\n"
          ]
        }
      ]
    },
    {
      "cell_type": "code",
      "source": [
        "def n_values(*a,**b): \n",
        "  return a, b\n",
        "\n",
        "print(n_values(1,2,3, x = 1, y = 2, z = 3))\n",
        "print(type(n_values()))"
      ],
      "metadata": {
        "colab": {
          "base_uri": "https://localhost:8080/"
        },
        "id": "wpVk5WvWXV-s",
        "outputId": "65bcf834-9732-4f75-9de2-a36ab34312f7"
      },
      "execution_count": null,
      "outputs": [
        {
          "output_type": "stream",
          "name": "stdout",
          "text": [
            "((1, 2, 3), {'x': 1, 'y': 2, 'z': 3})\n",
            "<class 'tuple'>\n"
          ]
        }
      ]
    },
    {
      "cell_type": "code",
      "source": [
        "def n_values(*args,**kwargs): \n",
        "  return args, kwargs\n",
        "\n",
        "print(n_values(1,2,3, x = 1, y = 2, z = 3))\n",
        "print(type(n_values()))"
      ],
      "metadata": {
        "colab": {
          "base_uri": "https://localhost:8080/"
        },
        "id": "ykWyptZbXnT5",
        "outputId": "6dbe99de-ada2-41da-a337-27e420ca9eac"
      },
      "execution_count": null,
      "outputs": [
        {
          "output_type": "stream",
          "name": "stdout",
          "text": [
            "((1, 2, 3), {'x': 1, 'y': 2, 'z': 3})\n",
            "<class 'tuple'>\n"
          ]
        }
      ]
    },
    {
      "cell_type": "code",
      "source": [
        "def n_values(*args,**kwargs): \n",
        "  return kwargs, args\n",
        "\n",
        "print(n_values(x = 1, y = 2, z = 3, 1, 2, 3))\n",
        "print(type(n_values()))"
      ],
      "metadata": {
        "colab": {
          "base_uri": "https://localhost:8080/",
          "height": 131
        },
        "id": "SRiXcByjYRn0",
        "outputId": "c727e075-548a-4274-de81-9e8a17a34e85"
      },
      "execution_count": null,
      "outputs": [
        {
          "output_type": "error",
          "ename": "SyntaxError",
          "evalue": "ignored",
          "traceback": [
            "\u001b[0;36m  File \u001b[0;32m\"<ipython-input-50-4213e7f31191>\"\u001b[0;36m, line \u001b[0;32m4\u001b[0m\n\u001b[0;31m    print(n_values(x = 1, y = 2, z = 3, 1, 2, 3))\u001b[0m\n\u001b[0m                                       ^\u001b[0m\n\u001b[0;31mSyntaxError\u001b[0m\u001b[0;31m:\u001b[0m positional argument follows keyword argument\n"
          ]
        }
      ]
    },
    {
      "cell_type": "markdown",
      "source": [
        "## Which method is used to pass arguments in python?"
      ],
      "metadata": {
        "id": "Wuldnl1OZHQS"
      }
    },
    {
      "cell_type": "code",
      "source": [
        "a = 10\n",
        "def change(a):\n",
        "  a = 20\n",
        "  print('Inside function:',a,'has address:',id(a))\n",
        "  return\n",
        "print('Outside function:',a,'has address:',id(a))\n",
        "change(a)\n",
        "print('Function after call:',a,'has address:',id(a))"
      ],
      "metadata": {
        "colab": {
          "base_uri": "https://localhost:8080/"
        },
        "id": "gF7g252oYZs_",
        "outputId": "ed37869a-4595-40d8-b36d-bf70b33f72d5"
      },
      "execution_count": null,
      "outputs": [
        {
          "output_type": "stream",
          "name": "stdout",
          "text": [
            "Outside function: 10 has address: 11256352\n",
            "Inside function: 20 has address: 11256672\n",
            "Function after call: 10 has address: 11256352\n"
          ]
        }
      ]
    },
    {
      "cell_type": "markdown",
      "source": [
        "### Pass By Value: Function creates a copy of the variable passed as an argument. The actual object is not affected. Variable should be of immutable type."
      ],
      "metadata": {
        "id": "EMUKY1Heaa64"
      }
    },
    {
      "cell_type": "code",
      "source": [
        "a = [10, 20, 30, 40]\n",
        "def change(a):\n",
        "  a[1] = 50\n",
        "  print('Inside function:',a,'has address:',id(a))\n",
        "  return\n",
        "print('Outside function:',a,'has address:',id(a))\n",
        "change(a)\n",
        "print('Function after call:',a,'has address:',id(a))"
      ],
      "metadata": {
        "colab": {
          "base_uri": "https://localhost:8080/"
        },
        "id": "WeoEQJGQaNS3",
        "outputId": "2864df05-8ad6-4eb5-ea06-0e257c7d16bc"
      },
      "execution_count": null,
      "outputs": [
        {
          "output_type": "stream",
          "name": "stdout",
          "text": [
            "Outside function: [10, 20, 30, 40] has address: 140299603738048\n",
            "Inside function: [10, 50, 30, 40] has address: 140299603738048\n",
            "Function after call: [10, 50, 30, 40] has address: 140299603738048\n"
          ]
        }
      ]
    },
    {
      "cell_type": "markdown",
      "source": [
        "### Pass By Reference: Function creates a copy of the variable passed as an argument. The actual object is affected by the changes made to the object. Variable should be of mutable type and can be modified."
      ],
      "metadata": {
        "id": "UoA1-sUjbtZw"
      }
    },
    {
      "cell_type": "code",
      "source": [
        ""
      ],
      "metadata": {
        "id": "C7U_1N3dbI6R"
      },
      "execution_count": null,
      "outputs": []
    }
  ]
}