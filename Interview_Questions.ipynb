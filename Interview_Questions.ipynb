{
  "nbformat": 4,
  "nbformat_minor": 0,
  "metadata": {
    "colab": {
      "name": "Interview Questions.ipynb",
      "provenance": [],
      "collapsed_sections": [],
      "authorship_tag": "ABX9TyMD2f5qlB4OMMOxe/sTASAO",
      "include_colab_link": true
    },
    "kernelspec": {
      "name": "python3",
      "display_name": "Python 3"
    },
    "language_info": {
      "name": "python"
    }
  },
  "cells": [
    {
      "cell_type": "markdown",
      "metadata": {
        "id": "view-in-github",
        "colab_type": "text"
      },
      "source": [
        "<a href=\"https://colab.research.google.com/github/abhi1628/Python_Training/blob/main/Interview_Questions.ipynb\" target=\"_parent\"><img src=\"https://colab.research.google.com/assets/colab-badge.svg\" alt=\"Open In Colab\"/></a>"
      ]
    },
    {
      "cell_type": "markdown",
      "source": [
        "## Average Calculation"
      ],
      "metadata": {
        "id": "66Vcz-itNkH-"
      }
    },
    {
      "cell_type": "code",
      "execution_count": 1,
      "metadata": {
        "colab": {
          "base_uri": "https://localhost:8080/"
        },
        "id": "_CffDmwgLWcc",
        "outputId": "00424b0e-957a-4156-99d0-52b8a2841d9d"
      },
      "outputs": [
        {
          "output_type": "stream",
          "name": "stdout",
          "text": [
            "My average is: 3\n",
            "New average is: 3\n",
            "Removing 3 will not change the average\n"
          ]
        }
      ],
      "source": [
        "a = [1, 2, 3, 4, 5]\n",
        "my_avg = sum(a)//len(a)\n",
        "a.remove(my_avg)\n",
        "print('My average is:',my_avg)\n",
        "new_avg = sum(a)//len(a)\n",
        "print('New average is:',new_avg)\n",
        "if my_avg == new_avg:\n",
        "  print('Removing',my_avg,'will not change the average')\n",
        "else:\n",
        "  print(\"Don't remove\", my_avg)"
      ]
    },
    {
      "cell_type": "markdown",
      "source": [
        "## Gapful Number Check"
      ],
      "metadata": {
        "id": "ZZJT53tSNqaf"
      }
    },
    {
      "cell_type": "code",
      "source": [
        "a = input('Enter a number:')\n",
        "b = a[0] + a[-1]\n",
        "c = int(a)\n",
        "d = int(b)\n",
        "if c % d == 0:\n",
        "  print('The no.is gapful')\n",
        "else:\n",
        "  print('The no.is not gapful')"
      ],
      "metadata": {
        "colab": {
          "base_uri": "https://localhost:8080/"
        },
        "id": "Voy0QIXHNtv3",
        "outputId": "8e8267a7-6baf-4382-822e-b22c970ab887"
      },
      "execution_count": 4,
      "outputs": [
        {
          "output_type": "stream",
          "name": "stdout",
          "text": [
            "Enter a number:583\n",
            "The no.is gapful\n"
          ]
        }
      ]
    },
    {
      "cell_type": "markdown",
      "source": [
        "## Print common letters from 2 strings"
      ],
      "metadata": {
        "id": "n14kMeR9Nuk3"
      }
    },
    {
      "cell_type": "code",
      "source": [
        "s1 = input('Enter 1st string:')\n",
        "s2 = input('Enter 2nd string:')\n",
        "a = list(set(s1) & set(s2))\n",
        "print(a)\n",
        "print('The common letters are:')\n",
        "for i in a:\n",
        "  print(i, end = ' ')"
      ],
      "metadata": {
        "colab": {
          "base_uri": "https://localhost:8080/"
        },
        "id": "3z1ApH33N2XY",
        "outputId": "1f88e151-c3b4-4e41-9595-55cc156c13df"
      },
      "execution_count": 5,
      "outputs": [
        {
          "output_type": "stream",
          "name": "stdout",
          "text": [
            "Enter 1st string:python\n",
            "Enter 2nd string:cython\n",
            "['y', 'h', 't', 'n', 'o']\n",
            "The common letters are:\n",
            "y h t n o "
          ]
        }
      ]
    },
    {
      "cell_type": "markdown",
      "source": [
        "## Perfect Number"
      ],
      "metadata": {
        "id": "33Js5a3xN34B"
      }
    },
    {
      "cell_type": "code",
      "source": [
        "# Find the factors\n",
        "n = int(input('Enter a number:'))\n",
        "for i in range(1, n):\n",
        "  if n % i == 0:\n",
        "    print(i, end = ' ')"
      ],
      "metadata": {
        "colab": {
          "base_uri": "https://localhost:8080/"
        },
        "id": "OQRoy_ekN6xw",
        "outputId": "8402fbba-e3f4-4b81-9b3b-443f8f8e6339"
      },
      "execution_count": 7,
      "outputs": [
        {
          "output_type": "stream",
          "name": "stdout",
          "text": [
            "Enter a number:10\n",
            "1 2 5 "
          ]
        }
      ]
    },
    {
      "cell_type": "code",
      "source": [
        "n = int(input('Enter a number:'))\n",
        "s = 0\n",
        "for i in range(1, n):\n",
        "  if n % i == 0:\n",
        "    s = s + i\n",
        "if s == n:\n",
        "  print('The no. is perfect no.')\n",
        "else:\n",
        "  print('The no. is not a perfect no.')"
      ],
      "metadata": {
        "id": "QdIDrvDrbZgc"
      },
      "execution_count": null,
      "outputs": []
    },
    {
      "cell_type": "markdown",
      "source": [
        "## Count Digits "
      ],
      "metadata": {
        "id": "awxHcK65N7UA"
      }
    },
    {
      "cell_type": "code",
      "source": [
        "n = int(input('Enter a number:'))\n",
        "count = 0\n",
        "while (n > 0):\n",
        "  count = count + 1\n",
        "  n //= 10\n",
        "print('The no.of digits are:',count)"
      ],
      "metadata": {
        "colab": {
          "base_uri": "https://localhost:8080/"
        },
        "id": "oaCfJZ_VN_L4",
        "outputId": "d2a717ef-5d55-4e07-f61f-5ab96c019a6b"
      },
      "execution_count": 8,
      "outputs": [
        {
          "output_type": "stream",
          "name": "stdout",
          "text": [
            "Enter a number:12345678\n",
            "The no.of digits are: 8\n"
          ]
        }
      ]
    },
    {
      "cell_type": "markdown",
      "source": [
        "## Armstrong Numbers"
      ],
      "metadata": {
        "id": "nyCWE54RN_4w"
      }
    },
    {
      "cell_type": "code",
      "source": [
        "n = int(input('Enter a number:'))\n",
        "a = list(map(int, str(n)))\n",
        "b = list(map(lambda x:x**3, a))\n",
        "if (sum(b) == n):\n",
        "  print('The no.is Armstrong Number')\n",
        "else:\n",
        "  print('The no.is not an Armstrong Number')"
      ],
      "metadata": {
        "colab": {
          "base_uri": "https://localhost:8080/"
        },
        "id": "Q8aA5egMOC6v",
        "outputId": "86c8906b-7777-4e8c-a4a5-4c2b8aef7ddb"
      },
      "execution_count": 9,
      "outputs": [
        {
          "output_type": "stream",
          "name": "stdout",
          "text": [
            "Enter a number:153\n",
            "The no.is Armstrong Number\n"
          ]
        }
      ]
    },
    {
      "cell_type": "markdown",
      "source": [
        "## Count vowels"
      ],
      "metadata": {
        "id": "tf0r81-3ODmn"
      }
    },
    {
      "cell_type": "code",
      "source": [
        "string = 'Hello This is Python Programming Language.'\n",
        "vowels = 0\n",
        "for i in string:\n",
        "  if (i == 'a' or i == 'e' or i == 'i' or i == 'o' or i == 'u'):\n",
        "    vowels += 1\n",
        "print('No.of vowels are:', vowels)"
      ],
      "metadata": {
        "colab": {
          "base_uri": "https://localhost:8080/"
        },
        "id": "Gt5vtV75OGIo",
        "outputId": "c931226d-006a-43ef-a0c5-c6585c36b2d7"
      },
      "execution_count": 12,
      "outputs": [
        {
          "output_type": "stream",
          "name": "stdout",
          "text": [
            "No.of vowels are: 12\n"
          ]
        }
      ]
    },
    {
      "cell_type": "code",
      "source": [
        "string = 'Hello This is Python Programming Language.'\n",
        "string = string.lower()\n",
        "vowels = 0\n",
        "for i in string:\n",
        "  if (i == 'a' or i == 'e' or i == 'i' or i == 'o' or i == 'u'):\n",
        "    vowels += 1\n",
        "print('No.of vowels are:', vowels)"
      ],
      "metadata": {
        "colab": {
          "base_uri": "https://localhost:8080/"
        },
        "id": "K3otfx4UnBCJ",
        "outputId": "01df95c3-a24d-4619-e758-8adb24cb71e9"
      },
      "execution_count": 13,
      "outputs": [
        {
          "output_type": "stream",
          "name": "stdout",
          "text": [
            "No.of vowels are: 12\n"
          ]
        }
      ]
    },
    {
      "cell_type": "markdown",
      "source": [
        "## Print strings of even length"
      ],
      "metadata": {
        "id": "UEZWPYivOHXx"
      }
    },
    {
      "cell_type": "code",
      "source": [
        "string = 'Hello This is Python Programming Language.'\n",
        "string = string.split(' ')\n",
        "print(string)"
      ],
      "metadata": {
        "colab": {
          "base_uri": "https://localhost:8080/"
        },
        "id": "8n8kRnv3pMbg",
        "outputId": "9d44928e-ee44-4131-8d27-672264493323"
      },
      "execution_count": 24,
      "outputs": [
        {
          "output_type": "stream",
          "name": "stdout",
          "text": [
            "['Hello', 'This', 'is', 'Python', 'Programming', 'Language.']\n"
          ]
        }
      ]
    },
    {
      "cell_type": "code",
      "source": [
        "for i in string:\n",
        "  if len(i) % 2 == 0:\n",
        "    print(i)"
      ],
      "metadata": {
        "colab": {
          "base_uri": "https://localhost:8080/"
        },
        "id": "LqLv-zldzy-2",
        "outputId": "63efc2b3-15ed-4908-9e93-1d4c0e93dc66"
      },
      "execution_count": 25,
      "outputs": [
        {
          "output_type": "stream",
          "name": "stdout",
          "text": [
            "This\n",
            "is\n",
            "Python\n"
          ]
        }
      ]
    },
    {
      "cell_type": "markdown",
      "source": [
        "## Anagram"
      ],
      "metadata": {
        "id": "dU_f1X512DzB"
      }
    },
    {
      "cell_type": "code",
      "source": [
        "def anagram(word):\n",
        "  f = {}\n",
        "  for i in word:\n",
        "    if i in f:\n",
        "      f[i] += 1\n",
        "    else:\n",
        "      f[i] = 1 # creating a dictionary key- value pair\n",
        "  return f\n",
        "\n",
        "a = input('Enter 1st word:')\n",
        "b = input('Enter 2nd word:')\n",
        "if(anagram(a) == anagram(b)):\n",
        "  print('Matched. It is Anagram')\n",
        "else:\n",
        "  print('Its not an Anagram')"
      ],
      "metadata": {
        "colab": {
          "base_uri": "https://localhost:8080/"
        },
        "id": "yz-75nP-2GJh",
        "outputId": "9db76efe-6ba8-44be-e81f-aa85a08418b7"
      },
      "execution_count": 28,
      "outputs": [
        {
          "output_type": "stream",
          "name": "stdout",
          "text": [
            "Enter 1st word:secure\n",
            "Enter 2nd word:rescue\n",
            "Matched. It is Anagram\n"
          ]
        }
      ]
    },
    {
      "cell_type": "markdown",
      "source": [
        "## Count the occurance of character"
      ],
      "metadata": {
        "id": "VNpI_bdy6YY4"
      }
    },
    {
      "cell_type": "code",
      "source": [
        "def char_occur(word):\n",
        "  f = {}\n",
        "  for i in word:\n",
        "    if i in f:\n",
        "      f[i] += 1\n",
        "    else:\n",
        "      f[i] = 1 # creating a dictionary key- value pair\n",
        "  return f\n",
        "\n",
        "a = input('Enter the word:')\n",
        "char_occur(a)"
      ],
      "metadata": {
        "colab": {
          "base_uri": "https://localhost:8080/"
        },
        "id": "RP3qjQxx3I8w",
        "outputId": "8315cdeb-0688-4e10-884a-69a9b0afd3ff"
      },
      "execution_count": 29,
      "outputs": [
        {
          "name": "stdout",
          "output_type": "stream",
          "text": [
            "Enter the word:secure\n"
          ]
        },
        {
          "output_type": "execute_result",
          "data": {
            "text/plain": [
              "{'c': 1, 'e': 2, 'r': 1, 's': 1, 'u': 1}"
            ]
          },
          "metadata": {},
          "execution_count": 29
        }
      ]
    }
  ]
}