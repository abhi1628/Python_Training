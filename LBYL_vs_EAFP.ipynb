{
  "nbformat": 4,
  "nbformat_minor": 0,
  "metadata": {
    "colab": {
      "name": "LBYL vs EAFP.ipynb",
      "provenance": [],
      "authorship_tag": "ABX9TyN/VLnry+6YGsf9XbibxetL",
      "include_colab_link": true
    },
    "kernelspec": {
      "name": "python3",
      "display_name": "Python 3"
    },
    "language_info": {
      "name": "python"
    }
  },
  "cells": [
    {
      "cell_type": "markdown",
      "metadata": {
        "id": "view-in-github",
        "colab_type": "text"
      },
      "source": [
        "<a href=\"https://colab.research.google.com/github/abhi1628/Python_Training/blob/main/LBYL_vs_EAFP.ipynb\" target=\"_parent\"><img src=\"https://colab.research.google.com/assets/colab-badge.svg\" alt=\"Open In Colab\"/></a>"
      ]
    },
    {
      "cell_type": "markdown",
      "source": [
        "## LBYL --> Look Before You Leap"
      ],
      "metadata": {
        "id": "LuL7bmxRJA-u"
      }
    },
    {
      "cell_type": "code",
      "execution_count": 1,
      "metadata": {
        "colab": {
          "base_uri": "https://localhost:8080/"
        },
        "id": "kwtj7hW2FeY-",
        "outputId": "5d07afaf-d605-46d9-8501-466277f99d9e"
      },
      "outputs": [
        {
          "output_type": "stream",
          "name": "stdout",
          "text": [
            "Index not found\n"
          ]
        }
      ],
      "source": [
        "my_list = [1, 2, 3, 4]\n",
        "if len(my_list) >= 6:\n",
        "  print(my_list[5])\n",
        "else:\n",
        "  print('Index not found')"
      ]
    },
    {
      "cell_type": "markdown",
      "source": [
        "## EAFP --> Easier to Ask Forgiveness than Persmission"
      ],
      "metadata": {
        "id": "kVuTdoneJGPj"
      }
    },
    {
      "cell_type": "code",
      "source": [
        "my_list = [1, 2, 3, 4]\n",
        "try:\n",
        "  print(my_list[5])\n",
        "except IndexError:\n",
        "  print('Index not found')"
      ],
      "metadata": {
        "colab": {
          "base_uri": "https://localhost:8080/"
        },
        "id": "55AplNbsGjJ_",
        "outputId": "88c86861-4561-4ced-8bcd-4e0a021794d7"
      },
      "execution_count": 2,
      "outputs": [
        {
          "output_type": "stream",
          "name": "stdout",
          "text": [
            "Index not found\n"
          ]
        }
      ]
    },
    {
      "cell_type": "code",
      "source": [
        "person = {'name': 'Tony', 'job':'protect earth', 'status':'Avenger'}\n",
        "if 'name' in person and 'job' in person and 'status' in person:\n",
        "  print('I am {name}. My job is to {job}. i am an {status}'.format(**person))\n",
        "else:\n",
        "  print('Missing some keys')"
      ],
      "metadata": {
        "colab": {
          "base_uri": "https://localhost:8080/"
        },
        "id": "tZQpvA6qILcj",
        "outputId": "5f04675b-ca98-4abe-9454-2adbc992fdfa"
      },
      "execution_count": 3,
      "outputs": [
        {
          "output_type": "stream",
          "name": "stdout",
          "text": [
            "I am Tony. My job is to protect earth. i am an Avenger\n"
          ]
        }
      ]
    },
    {
      "cell_type": "code",
      "source": [
        "person = {'name': 'Tony', 'job':'protect earth'}\n",
        "try:\n",
        "  print('I am {name}. My job is to {job}. i am an {status}'.format(**person))\n",
        "except KeyError as e:\n",
        "  print('Missing {} keys!!'.format(e))"
      ],
      "metadata": {
        "colab": {
          "base_uri": "https://localhost:8080/"
        },
        "id": "UgJzsRPXJ_4P",
        "outputId": "a10b5bec-d153-4d1a-82d3-d4c8baec1821"
      },
      "execution_count": 4,
      "outputs": [
        {
          "output_type": "stream",
          "name": "stdout",
          "text": [
            "Missing 'status' keys!!\n"
          ]
        }
      ]
    },
    {
      "cell_type": "code",
      "source": [
        ""
      ],
      "metadata": {
        "id": "mRZc5U2NKUxL"
      },
      "execution_count": null,
      "outputs": []
    }
  ]
}