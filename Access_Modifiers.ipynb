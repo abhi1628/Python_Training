{
  "nbformat": 4,
  "nbformat_minor": 0,
  "metadata": {
    "colab": {
      "name": "Access Modifiers.ipynb",
      "provenance": [],
      "authorship_tag": "ABX9TyPPAb4Bfq16cYdCgQFNtRYV",
      "include_colab_link": true
    },
    "kernelspec": {
      "name": "python3",
      "display_name": "Python 3"
    },
    "language_info": {
      "name": "python"
    }
  },
  "cells": [
    {
      "cell_type": "markdown",
      "metadata": {
        "id": "view-in-github",
        "colab_type": "text"
      },
      "source": [
        "<a href=\"https://colab.research.google.com/github/abhi1628/Python_Training/blob/main/Access_Modifiers.ipynb\" target=\"_parent\"><img src=\"https://colab.research.google.com/assets/colab-badge.svg\" alt=\"Open In Colab\"/></a>"
      ]
    },
    {
      "cell_type": "code",
      "execution_count": 2,
      "metadata": {
        "colab": {
          "base_uri": "https://localhost:8080/"
        },
        "id": "0KkW2zk5fGr9",
        "outputId": "4765e7f3-52ac-4134-8026-01e65e96fbfd"
      },
      "outputs": [
        {
          "output_type": "stream",
          "name": "stdout",
          "text": [
            "75000000\n"
          ]
        }
      ],
      "source": [
        "class Employee:\n",
        "  def __init__(self, name, sal):\n",
        "    self.name = name\n",
        "    self.salary = sal\n",
        "e1 = Employee('Tony', 75000000)\n",
        "print(e1.salary)"
      ]
    },
    {
      "cell_type": "code",
      "source": [
        "class Employee:\n",
        "  def __init__(self, name, sal):\n",
        "    self._name = name # single underscore means protected\n",
        "    self.__salary = sal # doble underscore means private\n",
        "e1 = Employee('Tony', 75000000)\n",
        "print(e1._name)\n",
        "print(e1._Employee__salary)"
      ],
      "metadata": {
        "colab": {
          "base_uri": "https://localhost:8080/"
        },
        "id": "zkoJSj-Qfo4Y",
        "outputId": "b9828fd1-3f5e-4834-e739-98eecb96b5fc"
      },
      "execution_count": 7,
      "outputs": [
        {
          "output_type": "stream",
          "name": "stdout",
          "text": [
            "Tony\n",
            "75000000\n"
          ]
        }
      ]
    },
    {
      "cell_type": "code",
      "source": [
        ""
      ],
      "metadata": {
        "id": "YbwzGyYEgWCf"
      },
      "execution_count": null,
      "outputs": []
    }
  ]
}