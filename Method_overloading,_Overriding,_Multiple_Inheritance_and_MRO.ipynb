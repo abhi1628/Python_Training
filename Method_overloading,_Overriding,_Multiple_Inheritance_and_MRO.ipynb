{
  "nbformat": 4,
  "nbformat_minor": 0,
  "metadata": {
    "colab": {
      "name": "Method overloading, Overriding, Multiple Inheritance and MRO.ipynb",
      "provenance": [],
      "authorship_tag": "ABX9TyPsY0z0TdIEQzYRqtJyqNyM",
      "include_colab_link": true
    },
    "kernelspec": {
      "name": "python3",
      "display_name": "Python 3"
    },
    "language_info": {
      "name": "python"
    }
  },
  "cells": [
    {
      "cell_type": "markdown",
      "metadata": {
        "id": "view-in-github",
        "colab_type": "text"
      },
      "source": [
        "<a href=\"https://colab.research.google.com/github/abhi1628/Python_Training/blob/main/Method_overloading%2C_Overriding%2C_Multiple_Inheritance_and_MRO.ipynb\" target=\"_parent\"><img src=\"https://colab.research.google.com/assets/colab-badge.svg\" alt=\"Open In Colab\"/></a>"
      ]
    },
    {
      "cell_type": "code",
      "execution_count": null,
      "metadata": {
        "colab": {
          "base_uri": "https://localhost:8080/"
        },
        "id": "t47xLFAynwgZ",
        "outputId": "9bfa25e9-fcbc-4032-f5cc-fce6c2181219"
      },
      "outputs": [
        {
          "output_type": "execute_result",
          "data": {
            "text/plain": [
              "183"
            ]
          },
          "metadata": {},
          "execution_count": 1
        }
      ],
      "source": [
        "class student:\n",
        "  def __init__(self, roll1, roll2):\n",
        "    self.roll1 = roll1\n",
        "    self.roll2 = roll2\n",
        "\n",
        "  def my_sum(self, a, b):\n",
        "    s = a + b\n",
        "    return s\n",
        "\n",
        "res = student(10, 11)\n",
        "res.my_sum(85,98)"
      ]
    },
    {
      "cell_type": "code",
      "source": [
        "\n",
        "class student:\n",
        "  def __init__(self, roll1, roll2):\n",
        "    self.roll1 = roll1\n",
        "    self.roll2 = roll2\n",
        "\n",
        "  def my_sum(self, a, b, c = 10):\n",
        "    s = a + b\n",
        "    return s\n",
        "\n",
        "  def my_sum(self, a, b, c):\n",
        "    s = a + b + c\n",
        "    return s\n",
        "\n",
        "res = student(10, 11)\n",
        "res.my_sum(85,98)"
      ],
      "metadata": {
        "colab": {
          "base_uri": "https://localhost:8080/",
          "height": 200
        },
        "id": "1ANC7ljXoSIT",
        "outputId": "d107a31b-2ca3-4329-b393-b7988b6df6a0"
      },
      "execution_count": null,
      "outputs": [
        {
          "output_type": "error",
          "ename": "TypeError",
          "evalue": "ignored",
          "traceback": [
            "\u001b[0;31m---------------------------------------------------------------------------\u001b[0m",
            "\u001b[0;31mTypeError\u001b[0m                                 Traceback (most recent call last)",
            "\u001b[0;32m<ipython-input-10-d3505b011f35>\u001b[0m in \u001b[0;36m<module>\u001b[0;34m()\u001b[0m\n\u001b[1;32m     14\u001b[0m \u001b[0;34m\u001b[0m\u001b[0m\n\u001b[1;32m     15\u001b[0m \u001b[0mres\u001b[0m \u001b[0;34m=\u001b[0m \u001b[0mstudent\u001b[0m\u001b[0;34m(\u001b[0m\u001b[0;36m10\u001b[0m\u001b[0;34m,\u001b[0m \u001b[0;36m11\u001b[0m\u001b[0;34m)\u001b[0m\u001b[0;34m\u001b[0m\u001b[0;34m\u001b[0m\u001b[0m\n\u001b[0;32m---> 16\u001b[0;31m \u001b[0mres\u001b[0m\u001b[0;34m.\u001b[0m\u001b[0mmy_sum\u001b[0m\u001b[0;34m(\u001b[0m\u001b[0;36m85\u001b[0m\u001b[0;34m,\u001b[0m\u001b[0;36m98\u001b[0m\u001b[0;34m)\u001b[0m\u001b[0;34m\u001b[0m\u001b[0;34m\u001b[0m\u001b[0m\n\u001b[0m",
            "\u001b[0;31mTypeError\u001b[0m: my_sum() missing 1 required positional argument: 'c'"
          ]
        }
      ]
    },
    {
      "cell_type": "code",
      "source": [
        "class water_animal:\n",
        "  def water(self):\n",
        "    print('frog lives in water')\n",
        "\n",
        "class land_animal:\n",
        "  def land(self):\n",
        "    print('frog lives on land')\n",
        "\n",
        "class land_and_water(land_animal):\n",
        "  def land_water(self):\n",
        "    print('frog lives on land and in water')\n",
        "\n",
        "law = land_and_water()\n",
        "law.land_water()"
      ],
      "metadata": {
        "colab": {
          "base_uri": "https://localhost:8080/"
        },
        "id": "WwbEQteEoeWe",
        "outputId": "a03dc27d-0868-4b5e-e405-ecb7506bd951"
      },
      "execution_count": null,
      "outputs": [
        {
          "output_type": "stream",
          "name": "stdout",
          "text": [
            "frog lives on land and in water\n"
          ]
        }
      ]
    },
    {
      "cell_type": "code",
      "source": [
        "class water_animal:\n",
        "  def land_water(self):\n",
        "    print('frog lives in water')\n",
        "\n",
        "class land_animal:\n",
        "  def land_water(self):\n",
        "    print('frog lives on land')\n",
        "\n",
        "class land_and_water(land_animal):\n",
        "  def land_water(self):\n",
        "    print('frog lives on land and in water')\n",
        "\n",
        "law = land_and_water()\n",
        "law.land_water()"
      ],
      "metadata": {
        "colab": {
          "base_uri": "https://localhost:8080/"
        },
        "id": "kEMYChNEtzek",
        "outputId": "21755119-c528-4e6a-c685-ef44b6dcc355"
      },
      "execution_count": null,
      "outputs": [
        {
          "output_type": "stream",
          "name": "stdout",
          "text": [
            "frog lives on land and in water\n"
          ]
        }
      ]
    },
    {
      "cell_type": "code",
      "source": [
        "class water_animal:\n",
        "  def land_water(self):\n",
        "    print('frog lives in water')\n",
        "\n",
        "class land_animal:\n",
        "  def land_water(self):\n",
        "    print('frog lives on land')\n",
        "\n",
        "class land_and_water(water_animal, land_animal):\n",
        "  def land_water(self):\n",
        "    print('frog lives on land and in water')\n",
        "\n",
        "law = land_and_water()\n",
        "law.land_water()"
      ],
      "metadata": {
        "colab": {
          "base_uri": "https://localhost:8080/"
        },
        "id": "zdYsEtwFvOek",
        "outputId": "22647f68-d26b-4e41-d41f-20cdf0d03a02"
      },
      "execution_count": null,
      "outputs": [
        {
          "output_type": "stream",
          "name": "stdout",
          "text": [
            "frog lives on land and in water\n"
          ]
        }
      ]
    },
    {
      "cell_type": "code",
      "source": [
        "class water_animal:\n",
        "  def land_water(self):\n",
        "    print('frog lives in water')\n",
        "\n",
        "class land_animal(water_animal):\n",
        "  def land_water(self):\n",
        "    print('frog lives on land')\n",
        "\n",
        "class air_animal(water_animal):\n",
        "  def land_water(self):\n",
        "    print('Duck can swim and fly')\n",
        "\n",
        "class land_and_water(air_animal, water_animal):\n",
        "    pass\n",
        "\n",
        "law = land_and_water()\n",
        "law.land_water()"
      ],
      "metadata": {
        "colab": {
          "base_uri": "https://localhost:8080/"
        },
        "id": "VeTwY6J5vlKM",
        "outputId": "c78d3b3d-6873-4f42-efe9-09460657e5bb"
      },
      "execution_count": null,
      "outputs": [
        {
          "output_type": "stream",
          "name": "stdout",
          "text": [
            "Duck can swim and fly\n"
          ]
        }
      ]
    },
    {
      "cell_type": "code",
      "source": [
        "print(land_and_water.mro())"
      ],
      "metadata": {
        "colab": {
          "base_uri": "https://localhost:8080/"
        },
        "id": "K3UpRi7OzwId",
        "outputId": "0788f161-fa7c-48de-cef1-a1b28c1f49fd"
      },
      "execution_count": null,
      "outputs": [
        {
          "output_type": "stream",
          "name": "stdout",
          "text": [
            "[<class '__main__.land_and_water'>, <class '__main__.air_animal'>, <class '__main__.water_animal'>, <class 'object'>]\n"
          ]
        }
      ]
    },
    {
      "cell_type": "code",
      "source": [
        "class C1:\n",
        "  def m(self):\n",
        "    print('In Class 1')\n",
        "\n",
        "class C2(C1):\n",
        "  def m(self):\n",
        "    print('In Class 2')\n",
        "\n",
        "class C3(C1):\n",
        "  def m(self):\n",
        "    print('In Class 3')\n",
        "\n",
        "class C4(C2, C3):\n",
        "  pass\n",
        "\n",
        "obj = C4()\n",
        "obj.m()"
      ],
      "metadata": {
        "colab": {
          "base_uri": "https://localhost:8080/"
        },
        "id": "zMnx5L3Hxrbc",
        "outputId": "3aba43f3-7aad-4b94-8583-550e67650f45"
      },
      "execution_count": null,
      "outputs": [
        {
          "output_type": "stream",
          "name": "stdout",
          "text": [
            "In Class 2\n"
          ]
        }
      ]
    },
    {
      "cell_type": "code",
      "source": [
        "print(C4.mro())"
      ],
      "metadata": {
        "colab": {
          "base_uri": "https://localhost:8080/"
        },
        "id": "XbMJbwKDyTkc",
        "outputId": "14afe1ae-5e38-4c90-e15b-9720b95d2441"
      },
      "execution_count": null,
      "outputs": [
        {
          "output_type": "stream",
          "name": "stdout",
          "text": [
            "[<class '__main__.C4'>, <class '__main__.C2'>, <class '__main__.C3'>, <class '__main__.C1'>, <class 'object'>]\n"
          ]
        }
      ]
    },
    {
      "cell_type": "code",
      "source": [
        ""
      ],
      "metadata": {
        "id": "4JTKePU60b7s"
      },
      "execution_count": null,
      "outputs": []
    }
  ]
}