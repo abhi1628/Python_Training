{
  "nbformat": 4,
  "nbformat_minor": 0,
  "metadata": {
    "colab": {
      "name": "Destructor, Inheritance, Abstraction and Methods.ipynb",
      "provenance": [],
      "collapsed_sections": [],
      "authorship_tag": "ABX9TyOmUlQZPXoAX4z0scH0AM0W",
      "include_colab_link": true
    },
    "kernelspec": {
      "name": "python3",
      "display_name": "Python 3"
    },
    "language_info": {
      "name": "python"
    }
  },
  "cells": [
    {
      "cell_type": "markdown",
      "metadata": {
        "id": "view-in-github",
        "colab_type": "text"
      },
      "source": [
        "<a href=\"https://colab.research.google.com/github/abhi1628/Python_Training/blob/main/Destructor%2C_Inheritance%2C_Abstraction_and_Methods.ipynb\" target=\"_parent\"><img src=\"https://colab.research.google.com/assets/colab-badge.svg\" alt=\"Open In Colab\"/></a>"
      ]
    },
    {
      "cell_type": "markdown",
      "source": [
        "## Destructors in OOPS"
      ],
      "metadata": {
        "id": "dpJ4jbJLALrp"
      }
    },
    {
      "cell_type": "code",
      "execution_count": 4,
      "metadata": {
        "colab": {
          "base_uri": "https://localhost:8080/",
          "height": 0
        },
        "id": "j7A4R6TO6rYb",
        "outputId": "32d909a8-9d3c-495b-da23-c3a42504fe62"
      },
      "outputs": [
        {
          "output_type": "stream",
          "name": "stdout",
          "text": [
            "Constructor is called\n",
            "Display method is called\n",
            "Destructor is called\n"
          ]
        }
      ],
      "source": [
        "class demo:\n",
        "  def __init__(self):\n",
        "    print('Constructor is called')\n",
        "\n",
        "  def display(self):\n",
        "    print('Display method is called')\n",
        "\n",
        "  def __del__(self):\n",
        "    print('Destructor is called')\n",
        "\n",
        "d = demo()\n",
        "d.display()"
      ]
    },
    {
      "cell_type": "markdown",
      "source": [
        "## How to change private attributes"
      ],
      "metadata": {
        "id": "iu7zeQ48AQgJ"
      }
    },
    {
      "cell_type": "code",
      "source": [
        "class speed:\n",
        "  def __init__(self):\n",
        "    self.speed = 10\n",
        "\n",
        "  def get_speed(self):\n",
        "    return self.speed\n",
        "\n",
        "s = speed()\n",
        "s.get_speed()"
      ],
      "metadata": {
        "colab": {
          "base_uri": "https://localhost:8080/",
          "height": 0
        },
        "id": "rX7g5GLN7QTC",
        "outputId": "9f31bfa0-03f6-403c-cf2c-c8c1c0ef7025"
      },
      "execution_count": 5,
      "outputs": [
        {
          "output_type": "execute_result",
          "data": {
            "text/plain": [
              "10"
            ]
          },
          "metadata": {},
          "execution_count": 5
        }
      ]
    },
    {
      "cell_type": "code",
      "source": [
        "class speed:\n",
        "  def __init__(self):\n",
        "    self.speed = 10\n",
        "\n",
        "  def get_speed(self):\n",
        "    return self.speed\n",
        "\n",
        "s = speed()\n",
        "s.speed = 100\n",
        "s.get_speed()"
      ],
      "metadata": {
        "colab": {
          "base_uri": "https://localhost:8080/",
          "height": 0
        },
        "id": "jbtcMU4h8fL6",
        "outputId": "93811d3d-870d-4381-bdd0-92e7025e7cb6"
      },
      "execution_count": 6,
      "outputs": [
        {
          "output_type": "execute_result",
          "data": {
            "text/plain": [
              "100"
            ]
          },
          "metadata": {},
          "execution_count": 6
        }
      ]
    },
    {
      "cell_type": "code",
      "source": [
        "class speed:\n",
        "  def __init__(self):\n",
        "    self.speed = 10\n",
        "    self.__setspeed = 70\n",
        "\n",
        "  def get_speed(self):\n",
        "    return self.speed\n",
        "\n",
        "  def set_speed(self):\n",
        "    return self.__setspeed\n",
        "\n",
        "s = speed()\n",
        "s.speed = 100\n",
        "s.__setspeed = 120\n",
        "s.get_speed(), s.set_speed()"
      ],
      "metadata": {
        "colab": {
          "base_uri": "https://localhost:8080/",
          "height": 0
        },
        "id": "kk9Un70r8mri",
        "outputId": "3242c88a-05b8-42c8-8c6e-fd3cf80b3ef6"
      },
      "execution_count": 8,
      "outputs": [
        {
          "output_type": "execute_result",
          "data": {
            "text/plain": [
              "(100, 70)"
            ]
          },
          "metadata": {},
          "execution_count": 8
        }
      ]
    },
    {
      "cell_type": "code",
      "source": [
        "class speed:\n",
        "  def __init__(self):\n",
        "    self.speed = 10\n",
        "    self.__setspeed = 70\n",
        "\n",
        "  def get_speed(self):\n",
        "    return self.speed\n",
        "\n",
        "  def set_speed(self):\n",
        "    return self.__setspeed\n",
        "\n",
        "  def set_speed_limit(self, new_speed):\n",
        "    self.__setspeed = new_speed\n",
        "\n",
        "s = speed()\n",
        "s.speed = 100\n",
        "s.set_speed_limit(120)\n",
        "s.get_speed(), s.set_speed()"
      ],
      "metadata": {
        "colab": {
          "base_uri": "https://localhost:8080/",
          "height": 0
        },
        "id": "dzpY68Cr9fxa",
        "outputId": "0a99681d-975e-48e9-89af-d87f7416dcd6"
      },
      "execution_count": 12,
      "outputs": [
        {
          "output_type": "execute_result",
          "data": {
            "text/plain": [
              "(100, 120)"
            ]
          },
          "metadata": {},
          "execution_count": 12
        }
      ]
    },
    {
      "cell_type": "markdown",
      "source": [
        "## Abstraction in OOPs Python"
      ],
      "metadata": {
        "id": "RNnMz0doAXTo"
      }
    },
    {
      "cell_type": "code",
      "source": [
        "from abc import ABC, abstractmethod\n",
        "class animal(ABC):\n",
        "  @abstractmethod\n",
        "  def dog(self):\n",
        "    pass # declared but not defined\n",
        "\n",
        "class pet(animal):\n",
        "  def dog(self):\n",
        "    print('Loyal friend')\n",
        "\n",
        "p = pet()\n",
        "p.dog()"
      ],
      "metadata": {
        "colab": {
          "base_uri": "https://localhost:8080/",
          "height": 0
        },
        "id": "egiW6E3z-WW6",
        "outputId": "351ab477-8d55-4fd3-f08f-a5a4382dbf98"
      },
      "execution_count": 16,
      "outputs": [
        {
          "output_type": "stream",
          "name": "stdout",
          "text": [
            "Loyal friend\n"
          ]
        }
      ]
    },
    {
      "cell_type": "markdown",
      "source": [
        "## Inheritance"
      ],
      "metadata": {
        "id": "3VPsiHdjDico"
      }
    },
    {
      "cell_type": "code",
      "source": [
        "class employee:\n",
        "  raise_amount = 1.05\n",
        "  def __init__(self, firstn, lastn, sal):\n",
        "    self.firstn = firstn\n",
        "    self.lastn = lastn\n",
        "    self.sal = sal\n",
        "\n",
        "  def fulln(self):\n",
        "    return '{} {}'.format(self.firstn, self.lastn)\n",
        "\n",
        "  def raise_in_salary(self):\n",
        "    self.sal = int(self.sal * self.raise_amount)\n",
        "\n",
        "emp1 = employee('Tony', 'Stark', 75000000)\n",
        "emp2 = employee('Steve', 'Rogers', 65000000)\n",
        "print(emp1.fulln())\n",
        "print('The salary is', emp1.sal)\n",
        "emp1.raise_in_salary()\n",
        "print('The salary is', emp1.sal)"
      ],
      "metadata": {
        "colab": {
          "base_uri": "https://localhost:8080/",
          "height": 0
        },
        "id": "PBkYgsamAwSZ",
        "outputId": "6f2cf6f1-31a3-4373-bc14-38ca386e2221"
      },
      "execution_count": 23,
      "outputs": [
        {
          "output_type": "stream",
          "name": "stdout",
          "text": [
            "Tony Stark\n",
            "The salary is 75000000\n",
            "The salary is 78750000\n"
          ]
        }
      ]
    },
    {
      "cell_type": "code",
      "source": [
        "class developers(employee):\n",
        "  pass\n",
        "\n",
        "emp1 = developers('Tony', 'Stark', 75000000)\n",
        "emp2 = developers('Steve', 'Rogers', 65000000)\n",
        "print(emp1.fulln())\n",
        "print('The salary is', emp1.sal)\n",
        "emp1.raise_in_salary()\n",
        "print('The salary is', emp1.sal)"
      ],
      "metadata": {
        "colab": {
          "base_uri": "https://localhost:8080/",
          "height": 0
        },
        "id": "x25R5z6CE1Ji",
        "outputId": "4041a0dd-be66-453a-9435-78b4390738ee"
      },
      "execution_count": 24,
      "outputs": [
        {
          "output_type": "stream",
          "name": "stdout",
          "text": [
            "Tony Stark\n",
            "The salary is 75000000\n",
            "The salary is 78750000\n"
          ]
        }
      ]
    },
    {
      "cell_type": "code",
      "source": [
        "class developers(employee):\n",
        "  raise_amount = 2.04\n",
        "\n",
        "emp1 = developers('Tony', 'Stark', 75000000)\n",
        "emp2 = developers('Steve', 'Rogers', 65000000)\n",
        "print(emp1.fulln())\n",
        "print('The salary is', emp1.sal)\n",
        "emp1.raise_in_salary()\n",
        "print('The salary is', emp1.sal)"
      ],
      "metadata": {
        "colab": {
          "base_uri": "https://localhost:8080/",
          "height": 0
        },
        "id": "N4tabpU0HWKh",
        "outputId": "4ff53b96-5567-4d07-9677-70b07aa991c8"
      },
      "execution_count": 25,
      "outputs": [
        {
          "output_type": "stream",
          "name": "stdout",
          "text": [
            "Tony Stark\n",
            "The salary is 75000000\n",
            "The salary is 153000000\n"
          ]
        }
      ]
    },
    {
      "cell_type": "code",
      "source": [
        "class developers(employee):\n",
        "  raise_amount = 2.04\n",
        "  def __init__(self, firstn, lastn, sal, prog_lang):\n",
        "    employee.__init__(self, firstn, lastn, sal)\n",
        "    self.prog_lang = prog_lang\n",
        "\n",
        "emp1 = developers('Tony', 'Stark', 75000000, 'Python')\n",
        "emp2 = developers('Steve', 'Rogers', 65000000, 'Javascript')\n",
        "print(emp1.fulln())\n",
        "print('The salary is', emp1.sal)\n",
        "emp1.raise_in_salary()\n",
        "print('The salary is', emp1.sal)"
      ],
      "metadata": {
        "colab": {
          "base_uri": "https://localhost:8080/"
        },
        "id": "rkrluv4ZHxPQ",
        "outputId": "c8fc7056-7a71-447b-a183-f2429d16a29f"
      },
      "execution_count": 26,
      "outputs": [
        {
          "output_type": "stream",
          "name": "stdout",
          "text": [
            "Tony Stark\n",
            "The salary is 75000000\n",
            "The salary is 153000000\n"
          ]
        }
      ]
    },
    {
      "cell_type": "code",
      "source": [
        "class developers(employee):\n",
        "  raise_amount = 2.04\n",
        "  def __init__(self, firstn, lastn, sal, prog_lang):\n",
        "    super().__init__(firstn, lastn, sal)\n",
        "    self.prog_lang = prog_lang\n",
        "\n",
        "emp1 = developers('Tony', 'Stark', 75000000, 'Python')\n",
        "emp2 = developers('Steve', 'Rogers', 65000000, 'Javascript')\n",
        "print(emp1.fulln())\n",
        "print('The salary is', emp1.sal)\n",
        "emp1.raise_in_salary()\n",
        "print('The salary is', emp1.sal)"
      ],
      "metadata": {
        "colab": {
          "base_uri": "https://localhost:8080/"
        },
        "id": "94IRZvrqKt5h",
        "outputId": "8e1830b9-1bdf-441e-d45c-6f7babf65ac8"
      },
      "execution_count": 28,
      "outputs": [
        {
          "output_type": "stream",
          "name": "stdout",
          "text": [
            "Tony Stark\n",
            "The salary is 75000000\n",
            "The salary is 153000000\n"
          ]
        }
      ]
    },
    {
      "cell_type": "code",
      "source": [
        "class managers(employee):\n",
        "  def __init__(self, firstn, lastn, sal, employees = None):\n",
        "    super().__init__(firstn, lastn, sal)\n",
        "    if employees is None:\n",
        "      self.employees = []\n",
        "    else:\n",
        "      self.employees = employees\n",
        "\n",
        "  def add_emp(self,emp):\n",
        "    if emp not in self.employees:\n",
        "      self.employees.append(emp)\n",
        "  \n",
        "  def remove_emp(self, emp):\n",
        "    if emp in self.employees:\n",
        "      self.employees.remove(emp)\n",
        "\n",
        "  def print_emp(self):\n",
        "    for emp in self.employees:\n",
        "      print('-->',emp.fulln())\n",
        "\n",
        "emp1 = developers('Tony', 'Stark', 75000000, 'Python')\n",
        "emp2 = developers('Steve', 'Rogers', 65000000, 'Javascript')\n",
        "mgr = managers('Nick', 'Fury', 1000000000, [emp1])\n",
        "print(mgr.sal)\n",
        "mgr.add_emp(emp2)\n",
        "print('Employees List After adding all employees:')\n",
        "mgr.print_emp()\n",
        "mgr.remove_emp(emp1)\n",
        "print('Employees List After removing any employees:')\n",
        "mgr.print_emp()"
      ],
      "metadata": {
        "colab": {
          "base_uri": "https://localhost:8080/"
        },
        "id": "PsI4tn85KzIf",
        "outputId": "d7c84a62-c2bf-45f7-927a-fb4facf20b6e"
      },
      "execution_count": 30,
      "outputs": [
        {
          "output_type": "stream",
          "name": "stdout",
          "text": [
            "1000000000\n",
            "Employees List After adding all employees:\n",
            "--> Tony Stark\n",
            "--> Steve Rogers\n",
            "Employees List After removing any employees:\n",
            "--> Steve Rogers\n"
          ]
        }
      ]
    },
    {
      "cell_type": "code",
      "source": [
        "def add_emp(emp, emp_list = []):\n",
        "  emp_list.append(emp)\n",
        "  print(emp_list)\n",
        "\n",
        "emp_list = ['Tony', 'Steve']\n",
        "add_emp('Bruce')\n",
        "add_emp('Thor')\n",
        "add_emp('Strange')\n",
        "print(emp_list)"
      ],
      "metadata": {
        "colab": {
          "base_uri": "https://localhost:8080/"
        },
        "id": "y66DF-UiXDTv",
        "outputId": "c1d187ce-7d6f-4d9d-fd27-2298ca303b5b"
      },
      "execution_count": 35,
      "outputs": [
        {
          "output_type": "stream",
          "name": "stdout",
          "text": [
            "['Bruce']\n",
            "['Bruce', 'Thor']\n",
            "['Bruce', 'Thor', 'Strange']\n",
            "['Tony', 'Steve']\n"
          ]
        }
      ]
    },
    {
      "cell_type": "code",
      "source": [
        "def add_emp(emp, emp_list = None):\n",
        "  if emp_list is None:\n",
        "    emp_list = []\n",
        "  emp_list.append(emp)\n",
        "  print(emp_list)\n",
        "\n",
        "emp_list = ['Tony', 'Steve']\n",
        "add_emp('Bruce')\n",
        "add_emp('Thor')\n",
        "add_emp('Strange')\n",
        "print(emp_list)"
      ],
      "metadata": {
        "colab": {
          "base_uri": "https://localhost:8080/"
        },
        "id": "pBypgl0Gahk-",
        "outputId": "841425b5-eba8-415a-816e-0011a6f4728c"
      },
      "execution_count": 36,
      "outputs": [
        {
          "output_type": "stream",
          "name": "stdout",
          "text": [
            "['Bruce']\n",
            "['Thor']\n",
            "['Strange']\n",
            "['Tony', 'Steve']\n"
          ]
        }
      ]
    },
    {
      "cell_type": "markdown",
      "source": [
        "## Repr, Str methods"
      ],
      "metadata": {
        "id": "ljdWzZygcwsd"
      }
    },
    {
      "cell_type": "code",
      "source": [
        "class employee:\n",
        "  raise_amount = 1.05\n",
        "  def __init__(self, firstn, lastn, sal):\n",
        "    self.firstn = firstn\n",
        "    self.lastn = lastn\n",
        "    self.sal = sal\n",
        "\n",
        "  def fulln(self):\n",
        "    return '{} {}'.format(self.firstn, self.lastn)\n",
        "\n",
        "  def raise_in_salary(self):\n",
        "    self.sal = int(self.sal * self.raise_amount)\n",
        "\n",
        "  def __repr__(self):\n",
        "    return '{} {}'.format(self.firstn, self.lastn)\n",
        "\n",
        "  def __str__(self):\n",
        "    return '{}- {}'.format(self.fulln(), self.sal)\n",
        "\n",
        "emp1 = employee('Tony', 'Stark', 75000000)\n",
        "emp2 = employee('Steve', 'Rogers', 65000000)\n",
        "print(emp1)"
      ],
      "metadata": {
        "colab": {
          "base_uri": "https://localhost:8080/"
        },
        "id": "mYpvDUGfahlz",
        "outputId": "c43f5ea1-e652-44f4-bf9f-5749e071e309"
      },
      "execution_count": 43,
      "outputs": [
        {
          "output_type": "stream",
          "name": "stdout",
          "text": [
            "Tony Stark- 75000000\n"
          ]
        }
      ]
    },
    {
      "cell_type": "markdown",
      "source": [
        "## Different methods in OOPs"
      ],
      "metadata": {
        "id": "8eGQ9NdpgFb1"
      }
    },
    {
      "cell_type": "code",
      "source": [
        "class MyClass:\n",
        "  def method(self):\n",
        "    return 'Instance Method Called', self\n",
        "\n",
        "  @classmethod\n",
        "  def class_method(cls):\n",
        "    return 'Class Method Called', cls\n",
        "\n",
        "  @staticmethod\n",
        "  def static_method():\n",
        "    return 'Static Method Called'\n",
        "\n",
        "obj = MyClass()\n",
        "obj.method()"
      ],
      "metadata": {
        "colab": {
          "base_uri": "https://localhost:8080/"
        },
        "id": "uwYE_4wWdBmu",
        "outputId": "a979bf74-e271-48de-957f-42e0bf7f2abb"
      },
      "execution_count": 44,
      "outputs": [
        {
          "output_type": "execute_result",
          "data": {
            "text/plain": [
              "('Instance Method Called', <__main__.MyClass at 0x7fa0a2f71510>)"
            ]
          },
          "metadata": {},
          "execution_count": 44
        }
      ]
    },
    {
      "cell_type": "code",
      "source": [
        "class Pizza:\n",
        "  def __init__(self, ingredients):\n",
        "    self.ingredients = ingredients\n",
        "\n",
        "  def __repr__(self):\n",
        "    return f'Pizza({self.ingredients})'\n",
        "\n",
        "  @classmethod \n",
        "  def __panpizza__(cls, self):\n",
        "    self.type = type \n",
        "  \n",
        "  def pizzatype(self, types):\n",
        "    return types\n",
        "\n",
        "  @classmethod\n",
        "  def bakepizza(cls):\n",
        "    return cls(['mozzarella', 'cheeseburst', 'onion'])\n",
        "\n",
        "p = Pizza('Heese Burst Pizza')\n",
        "t = Pizza('Pan Pizza')\n",
        "print(t.pizzatype('Pan Pizza'))\n"
      ],
      "metadata": {
        "colab": {
          "base_uri": "https://localhost:8080/"
        },
        "id": "1H_enCSMhLiN",
        "outputId": "37a3fb8c-1bf2-4c81-b1b5-aa718d0187c0"
      },
      "execution_count": 45,
      "outputs": [
        {
          "output_type": "stream",
          "name": "stdout",
          "text": [
            "Pan Pizza\n"
          ]
        }
      ]
    },
    {
      "cell_type": "code",
      "source": [
        "import math\n",
        "class Pizza:\n",
        "  def __init__(self, radius, ingredients):\n",
        "    self.radius = radius\n",
        "    self.ingredients = ingredients\n",
        "\n",
        "  def area(self):\n",
        "    return self.pizza_area(self.radius)\n",
        "  \n",
        "  @staticmethod\n",
        "  def pizza_area(r):\n",
        "    return math.pi*r**2\n",
        "\n",
        "p = Pizza(4,['Barbequed', 'Pan'])\n",
        "print(p.area())"
      ],
      "metadata": {
        "colab": {
          "base_uri": "https://localhost:8080/"
        },
        "id": "p5N-Nnqmjl41",
        "outputId": "6eb6bcae-5984-4408-8fa1-f13ced239952"
      },
      "execution_count": 48,
      "outputs": [
        {
          "output_type": "stream",
          "name": "stdout",
          "text": [
            "50.26548245743669\n"
          ]
        }
      ]
    },
    {
      "cell_type": "code",
      "source": [
        ""
      ],
      "metadata": {
        "id": "e-8BW61FnaoN"
      },
      "execution_count": null,
      "outputs": []
    }
  ]
}