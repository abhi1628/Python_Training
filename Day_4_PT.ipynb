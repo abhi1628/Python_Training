{
  "nbformat": 4,
  "nbformat_minor": 0,
  "metadata": {
    "colab": {
      "name": "Day_4_PT.ipynb",
      "provenance": [],
      "authorship_tag": "ABX9TyPyrCLqOyahb1g6ZA/RHzb5",
      "include_colab_link": true
    },
    "kernelspec": {
      "name": "python3",
      "display_name": "Python 3"
    },
    "language_info": {
      "name": "python"
    }
  },
  "cells": [
    {
      "cell_type": "markdown",
      "metadata": {
        "id": "view-in-github",
        "colab_type": "text"
      },
      "source": [
        "<a href=\"https://colab.research.google.com/github/abhi1628/Python_Training/blob/main/Day_4_PT.ipynb\" target=\"_parent\"><img src=\"https://colab.research.google.com/assets/colab-badge.svg\" alt=\"Open In Colab\"/></a>"
      ]
    },
    {
      "cell_type": "markdown",
      "source": [
        "## List Attributes"
      ],
      "metadata": {
        "id": "bUMj4Xrsl87W"
      }
    },
    {
      "cell_type": "code",
      "execution_count": 1,
      "metadata": {
        "colab": {
          "base_uri": "https://localhost:8080/"
        },
        "id": "gmIYSm1Nl37G",
        "outputId": "40736237-6973-419e-e9b0-ed42a9ddb0d9"
      },
      "outputs": [
        {
          "output_type": "stream",
          "name": "stdout",
          "text": [
            "2\n",
            "2\n",
            "103\n",
            "7\n"
          ]
        }
      ],
      "source": [
        "a = [1, 2, 34, 56, 7, 2, 1]\n",
        "print(a.count(1)) # tell that how many 1s are present in list\n",
        "print(a.index(34)) # gives the index position of 34\n",
        "print(sum(a)) # gives the sum of all elements of an integer list\n",
        "print(len(a)) # gives the length of the list or total number of elements present in the list "
      ]
    },
    {
      "cell_type": "code",
      "source": [
        "print(max(a)) # to get the max value of the list\n",
        "print(min(a)) # to get the min value of list\n",
        "print(sum(a)/len(a)) # to get average"
      ],
      "metadata": {
        "colab": {
          "base_uri": "https://localhost:8080/"
        },
        "id": "5HcsQ2YNm3xG",
        "outputId": "44993317-e49c-44c4-f721-05844f1fffa3"
      },
      "execution_count": 3,
      "outputs": [
        {
          "output_type": "stream",
          "name": "stdout",
          "text": [
            "56\n",
            "1\n",
            "14.714285714285714\n"
          ]
        }
      ]
    },
    {
      "cell_type": "markdown",
      "source": [
        "## Enumerate Function"
      ],
      "metadata": {
        "id": "osBW3kGyni8G"
      }
    },
    {
      "cell_type": "markdown",
      "source": [
        "### WAP to print the values alongwith their index position of a list"
      ],
      "metadata": {
        "id": "LSv6Xodtn1m0"
      }
    },
    {
      "cell_type": "code",
      "source": [
        "a = ['Python', 'Java', 'C', 'C++']\n",
        "for x in range (len(a)):\n",
        "  print(x, a[x])"
      ],
      "metadata": {
        "colab": {
          "base_uri": "https://localhost:8080/"
        },
        "id": "KYJM3hCQnOqM",
        "outputId": "23735bc9-7f7f-43a3-d2a3-6c13f6b46d60"
      },
      "execution_count": 4,
      "outputs": [
        {
          "output_type": "stream",
          "name": "stdout",
          "text": [
            "0 Python\n",
            "1 Java\n",
            "2 C\n",
            "3 C++\n"
          ]
        }
      ]
    },
    {
      "cell_type": "markdown",
      "source": [
        "### Another way to do this is by using Enumerate function"
      ],
      "metadata": {
        "id": "dXn_9VRHn-oC"
      }
    },
    {
      "cell_type": "code",
      "source": [
        "a = ['Python', 'Java', 'C', 'C++']\n",
        "for x, y in enumerate(a):\n",
        "  print(x, y)"
      ],
      "metadata": {
        "colab": {
          "base_uri": "https://localhost:8080/"
        },
        "id": "7ju5EApmnyBu",
        "outputId": "1cca1f7f-ab40-47a4-9d8f-71733ec151e2"
      },
      "execution_count": 5,
      "outputs": [
        {
          "output_type": "stream",
          "name": "stdout",
          "text": [
            "0 Python\n",
            "1 Java\n",
            "2 C\n",
            "3 C++\n"
          ]
        }
      ]
    },
    {
      "cell_type": "code",
      "source": [
        "a = ['Python', 'Java', 'C', 'C++']\n",
        "for y, x in enumerate(a): # change x and y position\n",
        "  print(x, y)"
      ],
      "metadata": {
        "colab": {
          "base_uri": "https://localhost:8080/"
        },
        "id": "ms2XwrzJoMAx",
        "outputId": "df113258-7907-4207-e9fe-b1a68e60ecc0"
      },
      "execution_count": 8,
      "outputs": [
        {
          "output_type": "stream",
          "name": "stdout",
          "text": [
            "Python 0\n",
            "Java 1\n",
            "C 2\n",
            "C++ 3\n"
          ]
        }
      ]
    },
    {
      "cell_type": "code",
      "source": [
        "a = ['Python', 'Java', 'C', 'C++']\n",
        "for y, x in enumerate(a):\n",
        "  print(y, x)"
      ],
      "metadata": {
        "colab": {
          "base_uri": "https://localhost:8080/"
        },
        "id": "eh0duflFoQfm",
        "outputId": "8cb39d96-229d-40b2-a9d4-787f20f49a2d"
      },
      "execution_count": 7,
      "outputs": [
        {
          "output_type": "stream",
          "name": "stdout",
          "text": [
            "0 Python\n",
            "1 Java\n",
            "2 C\n",
            "3 C++\n"
          ]
        }
      ]
    },
    {
      "cell_type": "markdown",
      "source": [
        "### Another use of enumerate is that we can start index position from any number we want"
      ],
      "metadata": {
        "id": "Y-HeybyQor6C"
      }
    },
    {
      "cell_type": "code",
      "source": [
        "a = ['Python', 'Java', 'C', 'C++']\n",
        "for x, y in enumerate(a, 100): # now the index becomes like serial number and will start from 100\n",
        "  print(x, y)"
      ],
      "metadata": {
        "colab": {
          "base_uri": "https://localhost:8080/"
        },
        "id": "5H4-GC7OohBO",
        "outputId": "e8e2f805-d376-4deb-ab82-41d2aabd6da3"
      },
      "execution_count": 11,
      "outputs": [
        {
          "output_type": "stream",
          "name": "stdout",
          "text": [
            "100 Python\n",
            "101 Java\n",
            "102 C\n",
            "103 C++\n"
          ]
        }
      ]
    },
    {
      "cell_type": "markdown",
      "source": [
        "## WAP to calculate average of space separated elements created by a user defined list using List Comprehension"
      ],
      "metadata": {
        "id": "_RfwXmNPpGx9"
      }
    },
    {
      "cell_type": "code",
      "source": [
        "a = int(input('Enter the number of subjects:'))\n",
        "print('Enter the marks space separated:')\n",
        "marks = [int(i) for i in input().split(' ')[0:a]] # [0:a] will take only no.of subjects defined in 'a'. If more than 'a' are given, then others are ignored\n",
        "print(marks)\n",
        "print('Average is:', sum(marks)/a)"
      ],
      "metadata": {
        "colab": {
          "base_uri": "https://localhost:8080/"
        },
        "id": "6JfDMHWgo1oP",
        "outputId": "49a81f25-2f45-43ef-ba01-51eb379f352c"
      },
      "execution_count": 13,
      "outputs": [
        {
          "output_type": "stream",
          "name": "stdout",
          "text": [
            "Enter the number of subjects:5\n",
            "Enter the marks space separated:\n",
            "65 85 95 75 84 75 95 74\n",
            "[65, 85, 95, 75, 84]\n",
            "Average is: 80.8\n"
          ]
        }
      ]
    },
    {
      "cell_type": "markdown",
      "source": [
        "## WAP to remove common elements from 2 lists and store them in a separate list"
      ],
      "metadata": {
        "id": "9DS3dLR7qjN0"
      }
    },
    {
      "cell_type": "code",
      "source": [
        "a = [1, 2, 3, 4, 5, 6]\n",
        "b = [4, 5, 6, 7, 8, 9]\n",
        "c = []\n",
        "for i in a:\n",
        "  if i in b:\n",
        "    c.append(i)\n",
        "print(c)"
      ],
      "metadata": {
        "colab": {
          "base_uri": "https://localhost:8080/"
        },
        "id": "HjXD6wppp0dZ",
        "outputId": "c48c14ae-a988-4e9d-9df1-3b903acc949f"
      },
      "execution_count": 14,
      "outputs": [
        {
          "output_type": "stream",
          "name": "stdout",
          "text": [
            "[4, 5, 6]\n"
          ]
        }
      ]
    },
    {
      "cell_type": "markdown",
      "source": [
        "## WAP to print the index of all the elements in list 1 which are present in list 2"
      ],
      "metadata": {
        "id": "-_3Gx4JJq_we"
      }
    },
    {
      "cell_type": "code",
      "source": [
        "a = [1, 2, 3, 4, 5, 6, 2, 3, 6]\n",
        "b = [1, 3, 6]\n",
        "c = []\n",
        "for i in range(len(a)):\n",
        "  if a[i] in b:\n",
        "    c.append(i)\n",
        "print(c)"
      ],
      "metadata": {
        "colab": {
          "base_uri": "https://localhost:8080/"
        },
        "id": "9aSGqJnvq9uz",
        "outputId": "ffaf6426-e905-4cb3-be25-6949ab974f47"
      },
      "execution_count": 19,
      "outputs": [
        {
          "output_type": "stream",
          "name": "stdout",
          "text": [
            "[0, 2, 5, 7, 8]\n"
          ]
        }
      ]
    },
    {
      "cell_type": "markdown",
      "source": [
        "## WAP to store all the duplicate elements of a list into another list using count method"
      ],
      "metadata": {
        "id": "DCZI7mRMtqh5"
      }
    },
    {
      "cell_type": "code",
      "source": [
        "a = [1, 2, 3, 4, 5, 6, 2, 3, 6]\n",
        "b = []\n",
        "for i in range(len(a)):\n",
        "  if a.count(i) > 1:\n",
        "    b.append(i)\n",
        "print(b)"
      ],
      "metadata": {
        "colab": {
          "base_uri": "https://localhost:8080/"
        },
        "id": "fMYesr-prbYt",
        "outputId": "95eb414f-be73-4cbf-a147-8d3a3529a1b8"
      },
      "execution_count": 22,
      "outputs": [
        {
          "output_type": "stream",
          "name": "stdout",
          "text": [
            "[2, 3, 6]\n"
          ]
        }
      ]
    },
    {
      "cell_type": "markdown",
      "source": [
        "## String attributes"
      ],
      "metadata": {
        "id": "3fSAetMQwQQh"
      }
    },
    {
      "cell_type": "code",
      "source": [
        "a = ' Python '\n",
        "print(a)\n",
        "print(a.strip())"
      ],
      "metadata": {
        "colab": {
          "base_uri": "https://localhost:8080/"
        },
        "id": "ttL1kDlmuCuH",
        "outputId": "2d291f18-8bc3-4c8d-b1a9-41ba22057fc5"
      },
      "execution_count": 25,
      "outputs": [
        {
          "output_type": "stream",
          "name": "stdout",
          "text": [
            " Python \n",
            "Python\n"
          ]
        }
      ]
    },
    {
      "cell_type": "code",
      "source": [
        "a = 'Python '\n",
        "print(a)\n",
        "print(a.rstrip())"
      ],
      "metadata": {
        "colab": {
          "base_uri": "https://localhost:8080/"
        },
        "id": "9msSSGipzeIg",
        "outputId": "ba8b01d4-4c46-4d75-9c42-e141b0fe73fe"
      },
      "execution_count": 27,
      "outputs": [
        {
          "output_type": "stream",
          "name": "stdout",
          "text": [
            "Python \n",
            "Python\n"
          ]
        }
      ]
    },
    {
      "cell_type": "code",
      "source": [
        "a = ' Python'\n",
        "print(a)\n",
        "print(a.lstrip())"
      ],
      "metadata": {
        "colab": {
          "base_uri": "https://localhost:8080/"
        },
        "id": "berbV51xziXC",
        "outputId": "8986ba0b-ed3f-44b9-81ce-332e12a36cbf"
      },
      "execution_count": 29,
      "outputs": [
        {
          "output_type": "stream",
          "name": "stdout",
          "text": [
            " Python\n",
            "Python\n"
          ]
        }
      ]
    },
    {
      "cell_type": "code",
      "source": [
        "a = 'Python is fun'\n",
        "print(a)\n",
        "print(a.startswith('Python'))"
      ],
      "metadata": {
        "colab": {
          "base_uri": "https://localhost:8080/"
        },
        "id": "jgRHHZYuzmyu",
        "outputId": "fabd1075-16a9-4f31-bad8-d5297f846a15"
      },
      "execution_count": 30,
      "outputs": [
        {
          "output_type": "stream",
          "name": "stdout",
          "text": [
            "Python is fun\n",
            "True\n"
          ]
        }
      ]
    },
    {
      "cell_type": "code",
      "source": [
        "a = 'Python is fun'\n",
        "print(a)\n",
        "print(a.endswith('fun'))"
      ],
      "metadata": {
        "colab": {
          "base_uri": "https://localhost:8080/"
        },
        "id": "5Hp-iPYhzw-9",
        "outputId": "dae20a47-e649-46f0-d98f-7acfe19d51da"
      },
      "execution_count": 32,
      "outputs": [
        {
          "output_type": "stream",
          "name": "stdout",
          "text": [
            "Python is fun\n",
            "True\n"
          ]
        }
      ]
    },
    {
      "cell_type": "code",
      "source": [
        "a = 'Python'\n",
        "print(a.isalpha())"
      ],
      "metadata": {
        "colab": {
          "base_uri": "https://localhost:8080/"
        },
        "id": "njFRFBdIz10m",
        "outputId": "8c8d2015-9a71-4edb-d1a2-07fc542dd32c"
      },
      "execution_count": 33,
      "outputs": [
        {
          "output_type": "stream",
          "name": "stdout",
          "text": [
            "True\n"
          ]
        }
      ]
    },
    {
      "cell_type": "code",
      "source": [
        "a = 'Python'\n",
        "print(a.isdigit())"
      ],
      "metadata": {
        "colab": {
          "base_uri": "https://localhost:8080/"
        },
        "id": "NeIMvsSsz8YH",
        "outputId": "8ec69655-e08e-4f4e-fa0a-847f30b76e50"
      },
      "execution_count": 34,
      "outputs": [
        {
          "output_type": "stream",
          "name": "stdout",
          "text": [
            "False\n"
          ]
        }
      ]
    },
    {
      "cell_type": "code",
      "source": [
        "a = 'Python is EASY' # space is present that's why output is False\n",
        "print(a.isalpha())"
      ],
      "metadata": {
        "colab": {
          "base_uri": "https://localhost:8080/"
        },
        "id": "hl3rzB_m0ACG",
        "outputId": "fc389cd7-20a4-4728-d1d7-b8ce5a6201e2"
      },
      "execution_count": 44,
      "outputs": [
        {
          "output_type": "stream",
          "name": "stdout",
          "text": [
            "False\n"
          ]
        }
      ]
    },
    {
      "cell_type": "code",
      "source": [
        "a = '123'\n",
        "print(a.isdigit())"
      ],
      "metadata": {
        "colab": {
          "base_uri": "https://localhost:8080/"
        },
        "id": "jFs8Ng6_0EC-",
        "outputId": "9a7a13bd-6eb2-4060-c49e-1e2c77ac7f12"
      },
      "execution_count": 41,
      "outputs": [
        {
          "output_type": "stream",
          "name": "stdout",
          "text": [
            "True\n"
          ]
        }
      ]
    },
    {
      "cell_type": "code",
      "source": [
        "a = 123\n",
        "print(a.isdigit())"
      ],
      "metadata": {
        "colab": {
          "base_uri": "https://localhost:8080/",
          "height": 183
        },
        "id": "0xcpQLKb0gS3",
        "outputId": "fc76fc61-beeb-45f4-ab0e-4887bb615215"
      },
      "execution_count": 42,
      "outputs": [
        {
          "output_type": "error",
          "ename": "AttributeError",
          "evalue": "ignored",
          "traceback": [
            "\u001b[0;31m---------------------------------------------------------------------------\u001b[0m",
            "\u001b[0;31mAttributeError\u001b[0m                            Traceback (most recent call last)",
            "\u001b[0;32m<ipython-input-42-91fd08220450>\u001b[0m in \u001b[0;36m<module>\u001b[0;34m()\u001b[0m\n\u001b[1;32m      1\u001b[0m \u001b[0ma\u001b[0m \u001b[0;34m=\u001b[0m \u001b[0;36m123\u001b[0m\u001b[0;34m\u001b[0m\u001b[0;34m\u001b[0m\u001b[0m\n\u001b[0;32m----> 2\u001b[0;31m \u001b[0mprint\u001b[0m\u001b[0;34m(\u001b[0m\u001b[0ma\u001b[0m\u001b[0;34m.\u001b[0m\u001b[0misdigit\u001b[0m\u001b[0;34m(\u001b[0m\u001b[0;34m)\u001b[0m\u001b[0;34m)\u001b[0m\u001b[0;34m\u001b[0m\u001b[0;34m\u001b[0m\u001b[0m\n\u001b[0m",
            "\u001b[0;31mAttributeError\u001b[0m: 'int' object has no attribute 'isdigit'"
          ]
        }
      ]
    },
    {
      "cell_type": "code",
      "source": [
        ""
      ],
      "metadata": {
        "id": "48m3WBd20jsO"
      },
      "execution_count": null,
      "outputs": []
    }
  ]
}