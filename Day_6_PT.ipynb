{
  "nbformat": 4,
  "nbformat_minor": 0,
  "metadata": {
    "colab": {
      "name": "Day_6_PT.ipynb",
      "provenance": [],
      "authorship_tag": "ABX9TyODNjk4nV+U7BNdt63Ibaey",
      "include_colab_link": true
    },
    "kernelspec": {
      "name": "python3",
      "display_name": "Python 3"
    },
    "language_info": {
      "name": "python"
    }
  },
  "cells": [
    {
      "cell_type": "markdown",
      "metadata": {
        "id": "view-in-github",
        "colab_type": "text"
      },
      "source": [
        "<a href=\"https://colab.research.google.com/github/abhi1628/Python_Training/blob/main/Day_6_PT.ipynb\" target=\"_parent\"><img src=\"https://colab.research.google.com/assets/colab-badge.svg\" alt=\"Open In Colab\"/></a>"
      ]
    },
    {
      "cell_type": "markdown",
      "source": [
        "## Set is an unordered collection of elements which are unique"
      ],
      "metadata": {
        "id": "zDCqEZPvrlET"
      }
    },
    {
      "cell_type": "code",
      "source": [
        "hero_name = {'Tony', 'Steve', 'Thor'}\n",
        "print(hero_name)\n",
        "print(type(hero_name))"
      ],
      "metadata": {
        "colab": {
          "base_uri": "https://localhost:8080/"
        },
        "id": "Ce31LHuKmWK4",
        "outputId": "fd3a555b-a728-4dcf-ff27-9854a00796be"
      },
      "execution_count": null,
      "outputs": [
        {
          "output_type": "stream",
          "name": "stdout",
          "text": [
            "{'Tony', 'Steve', 'Thor'}\n",
            "<class 'set'>\n"
          ]
        }
      ]
    },
    {
      "cell_type": "markdown",
      "source": [
        "## Empty sets"
      ],
      "metadata": {
        "id": "lnbJ0-bhsJjP"
      }
    },
    {
      "cell_type": "code",
      "source": [
        "a = {}\n",
        "print(type(a))"
      ],
      "metadata": {
        "colab": {
          "base_uri": "https://localhost:8080/"
        },
        "id": "Rmgbs5QisDe2",
        "outputId": "51adbb41-8270-4f6a-96f6-ebd32a3b8c67"
      },
      "execution_count": null,
      "outputs": [
        {
          "output_type": "stream",
          "name": "stdout",
          "text": [
            "<class 'dict'>\n"
          ]
        }
      ]
    },
    {
      "cell_type": "code",
      "source": [
        "a = set()\n",
        "print(type(a))"
      ],
      "metadata": {
        "colab": {
          "base_uri": "https://localhost:8080/"
        },
        "id": "pJWS7URIsRO0",
        "outputId": "39e93ca2-13be-4c13-ae0a-bd582a516780"
      },
      "execution_count": null,
      "outputs": [
        {
          "output_type": "stream",
          "name": "stdout",
          "text": [
            "<class 'set'>\n"
          ]
        }
      ]
    },
    {
      "cell_type": "code",
      "source": [
        "hero_name = ['Tony', 'Steve', 'Thor']\n",
        "print(hero_name)\n",
        "print(type(hero_name))"
      ],
      "metadata": {
        "colab": {
          "base_uri": "https://localhost:8080/"
        },
        "id": "f113x1zosWQc",
        "outputId": "24b93843-15cc-44bc-aad4-f644c17c8e9f"
      },
      "execution_count": null,
      "outputs": [
        {
          "output_type": "stream",
          "name": "stdout",
          "text": [
            "['Tony', 'Steve', 'Thor']\n",
            "<class 'list'>\n"
          ]
        }
      ]
    },
    {
      "cell_type": "code",
      "source": [
        "hero_name = ['Tony', 'Steve', 'Thor']\n",
        "a = set(hero_name)\n",
        "print(a)\n",
        "print(type(a))"
      ],
      "metadata": {
        "colab": {
          "base_uri": "https://localhost:8080/"
        },
        "id": "r3Q9LNiystdJ",
        "outputId": "23f30a67-758e-4620-9f09-e633c2a929b5"
      },
      "execution_count": null,
      "outputs": [
        {
          "output_type": "stream",
          "name": "stdout",
          "text": [
            "{'Tony', 'Steve', 'Thor'}\n",
            "<class 'set'>\n"
          ]
        }
      ]
    },
    {
      "cell_type": "code",
      "source": [
        "hero_name = 'Tony', 'Steve', 'Thor'\n",
        "a = set(hero_name)\n",
        "print(a)\n",
        "print(type(a))"
      ],
      "metadata": {
        "colab": {
          "base_uri": "https://localhost:8080/"
        },
        "id": "wNkvFZzgszd_",
        "outputId": "27555346-444a-41f2-bc6a-bdaab7b30586"
      },
      "execution_count": null,
      "outputs": [
        {
          "output_type": "stream",
          "name": "stdout",
          "text": [
            "{'Tony', 'Steve', 'Thor'}\n",
            "<class 'set'>\n"
          ]
        }
      ]
    },
    {
      "cell_type": "code",
      "source": [
        "hero_name = 'Tony', 'Steve', 'Thor'\n",
        "set(hero_name)"
      ],
      "metadata": {
        "colab": {
          "base_uri": "https://localhost:8080/"
        },
        "id": "k68kKwo1tIH7",
        "outputId": "95c873ca-26a6-42c2-e6a5-51ee8f73759d"
      },
      "execution_count": null,
      "outputs": [
        {
          "output_type": "execute_result",
          "data": {
            "text/plain": [
              "{'Steve', 'Thor', 'Tony'}"
            ]
          },
          "metadata": {},
          "execution_count": 10
        }
      ]
    },
    {
      "cell_type": "code",
      "source": [
        "hero_name = 'Tony', 'Steve', 'Thor', 'Tony'\n",
        "set(hero_name)"
      ],
      "metadata": {
        "colab": {
          "base_uri": "https://localhost:8080/"
        },
        "id": "ZZmmoyTdtNYL",
        "outputId": "8ff01087-3614-4fdc-dd4f-ee81a4974e56"
      },
      "execution_count": null,
      "outputs": [
        {
          "output_type": "execute_result",
          "data": {
            "text/plain": [
              "{'Steve', 'Thor', 'Tony'}"
            ]
          },
          "metadata": {},
          "execution_count": 11
        }
      ]
    },
    {
      "cell_type": "markdown",
      "source": [
        "## Operations on Set"
      ],
      "metadata": {
        "id": "ekYectD2tqh8"
      }
    },
    {
      "cell_type": "code",
      "source": [
        "hero_name = {'Tony', 'Steve', 'Thor'}\n",
        "len(hero_name)"
      ],
      "metadata": {
        "colab": {
          "base_uri": "https://localhost:8080/"
        },
        "id": "ZxcJ91KetdwC",
        "outputId": "8b5ad0c1-b816-498d-8916-d8864ead59fa"
      },
      "execution_count": null,
      "outputs": [
        {
          "output_type": "execute_result",
          "data": {
            "text/plain": [
              "3"
            ]
          },
          "metadata": {},
          "execution_count": 12
        }
      ]
    },
    {
      "cell_type": "code",
      "source": [
        "'Steve' in hero_name"
      ],
      "metadata": {
        "colab": {
          "base_uri": "https://localhost:8080/"
        },
        "id": "FgcRxjnOuAjv",
        "outputId": "c9a38549-b6f7-4d47-cb3a-dbbec5e9e863"
      },
      "execution_count": null,
      "outputs": [
        {
          "output_type": "execute_result",
          "data": {
            "text/plain": [
              "True"
            ]
          },
          "metadata": {},
          "execution_count": 13
        }
      ]
    },
    {
      "cell_type": "code",
      "source": [
        "'IronMan' in hero_name"
      ],
      "metadata": {
        "colab": {
          "base_uri": "https://localhost:8080/"
        },
        "id": "67wZtdsRuI4u",
        "outputId": "40e215a2-8878-4217-a8ce-daaf1115c81b"
      },
      "execution_count": null,
      "outputs": [
        {
          "output_type": "execute_result",
          "data": {
            "text/plain": [
              "False"
            ]
          },
          "metadata": {},
          "execution_count": 14
        }
      ]
    },
    {
      "cell_type": "code",
      "source": [
        "'IronMan' not in hero_name"
      ],
      "metadata": {
        "colab": {
          "base_uri": "https://localhost:8080/"
        },
        "id": "-brndfJLuNN2",
        "outputId": "d79232d7-26b2-4c17-b4c7-b9f7b1a2e8c6"
      },
      "execution_count": null,
      "outputs": [
        {
          "output_type": "execute_result",
          "data": {
            "text/plain": [
              "True"
            ]
          },
          "metadata": {},
          "execution_count": 15
        }
      ]
    },
    {
      "cell_type": "markdown",
      "source": [
        "## Union in Sets"
      ],
      "metadata": {
        "id": "RzoKNz8UuY0J"
      }
    },
    {
      "cell_type": "code",
      "source": [
        "hero_name = {'Tony', 'Steve', 'Thor'}\n",
        "villain_name = {'Thanos', 'Ultron', 'Vulture'}\n",
        "print(hero_name | villain_name) # union --> joining all elements"
      ],
      "metadata": {
        "colab": {
          "base_uri": "https://localhost:8080/"
        },
        "id": "6ZG8f0emuUog",
        "outputId": "73f04dbf-aa1c-4006-d5ad-a6d86093902b"
      },
      "execution_count": null,
      "outputs": [
        {
          "output_type": "stream",
          "name": "stdout",
          "text": [
            "{'Vulture', 'Tony', 'Steve', 'Ultron', 'Thor', 'Thanos'}\n"
          ]
        }
      ]
    },
    {
      "cell_type": "code",
      "source": [
        "print(hero_name.union(villain_name))"
      ],
      "metadata": {
        "colab": {
          "base_uri": "https://localhost:8080/"
        },
        "id": "ApJaPj1Cuy7e",
        "outputId": "d37beca0-5775-4c81-e046-add3fa172e27"
      },
      "execution_count": null,
      "outputs": [
        {
          "output_type": "stream",
          "name": "stdout",
          "text": [
            "{'Vulture', 'Tony', 'Steve', 'Ultron', 'Thor', 'Thanos'}\n"
          ]
        }
      ]
    },
    {
      "cell_type": "markdown",
      "source": [
        "## Is there any difference between union method and pipe operator?"
      ],
      "metadata": {
        "id": "aE-paC_ivSkI"
      }
    },
    {
      "cell_type": "code",
      "source": [
        "print(hero_name | ('Thanos', 'Ultron', 'Vulture'))"
      ],
      "metadata": {
        "colab": {
          "base_uri": "https://localhost:8080/",
          "height": 166
        },
        "id": "eRWMYAJhvMZZ",
        "outputId": "6e6a8b9e-be21-4e11-a3e3-e7e90cf346db"
      },
      "execution_count": null,
      "outputs": [
        {
          "output_type": "error",
          "ename": "TypeError",
          "evalue": "ignored",
          "traceback": [
            "\u001b[0;31m---------------------------------------------------------------------------\u001b[0m",
            "\u001b[0;31mTypeError\u001b[0m                                 Traceback (most recent call last)",
            "\u001b[0;32m<ipython-input-18-6774fe62d7e7>\u001b[0m in \u001b[0;36m<module>\u001b[0;34m()\u001b[0m\n\u001b[0;32m----> 1\u001b[0;31m \u001b[0mprint\u001b[0m\u001b[0;34m(\u001b[0m\u001b[0mhero_name\u001b[0m \u001b[0;34m|\u001b[0m \u001b[0;34m(\u001b[0m\u001b[0;34m'Thanos'\u001b[0m\u001b[0;34m,\u001b[0m \u001b[0;34m'Ultron'\u001b[0m\u001b[0;34m,\u001b[0m \u001b[0;34m'Vulture'\u001b[0m\u001b[0;34m)\u001b[0m\u001b[0;34m)\u001b[0m\u001b[0;34m\u001b[0m\u001b[0;34m\u001b[0m\u001b[0m\n\u001b[0m",
            "\u001b[0;31mTypeError\u001b[0m: unsupported operand type(s) for |: 'set' and 'tuple'"
          ]
        }
      ]
    },
    {
      "cell_type": "code",
      "source": [
        "print(hero_name.union(('Thanos', 'Ultron', 'Vulture')))"
      ],
      "metadata": {
        "colab": {
          "base_uri": "https://localhost:8080/"
        },
        "id": "BrcWx8DHvpuT",
        "outputId": "260b6954-62e9-4047-b02c-53b2f82c493f"
      },
      "execution_count": null,
      "outputs": [
        {
          "output_type": "stream",
          "name": "stdout",
          "text": [
            "{'Steve', 'Ultron', 'Thor', 'Vulture', 'Tony', 'Thanos'}\n"
          ]
        }
      ]
    },
    {
      "cell_type": "markdown",
      "source": [
        "## Intersection in Sets"
      ],
      "metadata": {
        "id": "bEXqI1-0wNzo"
      }
    },
    {
      "cell_type": "code",
      "source": [
        "hero_name = {'Tony', 'Steve', 'Thor'}\n",
        "villain_name = {'Thanos', 'Ultron', 'Vulture'}\n",
        "print(hero_name & villain_name) # intersection --> returns the common value "
      ],
      "metadata": {
        "colab": {
          "base_uri": "https://localhost:8080/"
        },
        "id": "DaX8lFI4v4aO",
        "outputId": "2161f30c-36b2-4fa0-d734-c4f58a7eb0bc"
      },
      "execution_count": null,
      "outputs": [
        {
          "output_type": "stream",
          "name": "stdout",
          "text": [
            "set()\n"
          ]
        }
      ]
    },
    {
      "cell_type": "code",
      "source": [
        "hero_name = {'Tony', 'Steve', 'Thor'}\n",
        "villain_name = {'Thanos', 'Ultron', 'Vulture', 'Thor'}\n",
        "print(hero_name & villain_name) # intersection --> returns the common value "
      ],
      "metadata": {
        "colab": {
          "base_uri": "https://localhost:8080/"
        },
        "id": "U_1AuFIfwffa",
        "outputId": "4e4599b8-c4e2-4c40-9378-e23f6f1b5cbf"
      },
      "execution_count": null,
      "outputs": [
        {
          "output_type": "stream",
          "name": "stdout",
          "text": [
            "{'Thor'}\n"
          ]
        }
      ]
    },
    {
      "cell_type": "code",
      "source": [
        "print(hero_name.intersection(villain_name))"
      ],
      "metadata": {
        "colab": {
          "base_uri": "https://localhost:8080/"
        },
        "id": "R2M25uoCwrnz",
        "outputId": "2f41d8e9-8dd1-41cc-e3a1-948758c9036e"
      },
      "execution_count": null,
      "outputs": [
        {
          "output_type": "stream",
          "name": "stdout",
          "text": [
            "{'Thor'}\n"
          ]
        }
      ]
    },
    {
      "cell_type": "markdown",
      "source": [
        "## Difference in Sets --> elements which are present in one set but not present in another set"
      ],
      "metadata": {
        "id": "sswLBbJ8xHq_"
      }
    },
    {
      "cell_type": "code",
      "source": [
        "hero_name = {'Tony', 'Steve', 'Thor'}\n",
        "villain_name = {'Thanos', 'Ultron', 'Vulture', 'Thor'}\n",
        "print(hero_name - villain_name)"
      ],
      "metadata": {
        "colab": {
          "base_uri": "https://localhost:8080/"
        },
        "id": "yldU02ZSw5e9",
        "outputId": "399c0feb-4394-462f-c9b8-7370d44f051e"
      },
      "execution_count": null,
      "outputs": [
        {
          "output_type": "stream",
          "name": "stdout",
          "text": [
            "{'Tony', 'Steve'}\n"
          ]
        }
      ]
    },
    {
      "cell_type": "code",
      "source": [
        "hero_name = {'Tony', 'Steve', 'Thor'}\n",
        "villain_name = {'Thanos', 'Ultron', 'Vulture', 'Thor'}\n",
        "print(villain_name - hero_name)"
      ],
      "metadata": {
        "colab": {
          "base_uri": "https://localhost:8080/"
        },
        "id": "8OBVRrhfxPx5",
        "outputId": "f88b89bb-b64e-4217-937b-fdcb774b6e72"
      },
      "execution_count": null,
      "outputs": [
        {
          "output_type": "stream",
          "name": "stdout",
          "text": [
            "{'Vulture', 'Ultron', 'Thanos'}\n"
          ]
        }
      ]
    },
    {
      "cell_type": "markdown",
      "source": [
        "## issubset() in sets"
      ],
      "metadata": {
        "id": "w6yHSwDYyGGw"
      }
    },
    {
      "cell_type": "code",
      "source": [
        "hero_name = {'Tony', 'Steve', 'Thor'}\n",
        "villain_name = {'Thanos', 'Ultron', 'Vulture', 'Thor'}\n",
        "print(villain_name <= hero_name)"
      ],
      "metadata": {
        "colab": {
          "base_uri": "https://localhost:8080/"
        },
        "id": "dnEx2cW1xn8A",
        "outputId": "9ca0d20d-3915-4a0b-b7d9-db883dee2c36"
      },
      "execution_count": null,
      "outputs": [
        {
          "output_type": "stream",
          "name": "stdout",
          "text": [
            "False\n"
          ]
        }
      ]
    },
    {
      "cell_type": "code",
      "source": [
        "print(hero_name <= villain_name)"
      ],
      "metadata": {
        "colab": {
          "base_uri": "https://localhost:8080/"
        },
        "id": "nHaD98YQyWwF",
        "outputId": "ba10ef12-9d6b-47a0-ee9f-074a4f3fe558"
      },
      "execution_count": null,
      "outputs": [
        {
          "output_type": "stream",
          "name": "stdout",
          "text": [
            "False\n"
          ]
        }
      ]
    },
    {
      "cell_type": "code",
      "source": [
        "iron_man_1 = {'Tony', 'Warmachine'}\n",
        "iron_man_2 = {'Tony', 'Warmachine', 'Natasha'}\n",
        "print(iron_man_1 <= iron_man_2)"
      ],
      "metadata": {
        "colab": {
          "base_uri": "https://localhost:8080/"
        },
        "id": "iMxqsch5ydTF",
        "outputId": "e5c0a265-2c09-43f5-c983-fb165f9ca1c6"
      },
      "execution_count": null,
      "outputs": [
        {
          "output_type": "stream",
          "name": "stdout",
          "text": [
            "True\n"
          ]
        }
      ]
    },
    {
      "cell_type": "code",
      "source": [
        "print(iron_man_2 <= iron_man_1)"
      ],
      "metadata": {
        "colab": {
          "base_uri": "https://localhost:8080/"
        },
        "id": "wMR6Xoaky8UL",
        "outputId": "566adec4-b477-4500-aff0-f212a90113ef"
      },
      "execution_count": null,
      "outputs": [
        {
          "output_type": "stream",
          "name": "stdout",
          "text": [
            "False\n"
          ]
        }
      ]
    },
    {
      "cell_type": "markdown",
      "source": [
        "## issuperset() in sets"
      ],
      "metadata": {
        "id": "-VgANkaazYEC"
      }
    },
    {
      "cell_type": "code",
      "source": [
        "print(iron_man_1 >= iron_man_2)"
      ],
      "metadata": {
        "colab": {
          "base_uri": "https://localhost:8080/"
        },
        "id": "gIauEXnmzAUC",
        "outputId": "1f6d72f8-75e7-48e0-8377-5329ffbc3524"
      },
      "execution_count": null,
      "outputs": [
        {
          "output_type": "stream",
          "name": "stdout",
          "text": [
            "False\n"
          ]
        }
      ]
    },
    {
      "cell_type": "code",
      "source": [
        "print(iron_man_2 >= iron_man_1)"
      ],
      "metadata": {
        "colab": {
          "base_uri": "https://localhost:8080/"
        },
        "id": "LJs6CViizhaQ",
        "outputId": "822c0899-c59e-4f77-a0dc-7ec6a4e1efca"
      },
      "execution_count": null,
      "outputs": [
        {
          "output_type": "stream",
          "name": "stdout",
          "text": [
            "True\n"
          ]
        }
      ]
    },
    {
      "cell_type": "markdown",
      "source": [
        "## isdisjoint() in sets --> gives output True when there are no common elements"
      ],
      "metadata": {
        "id": "xHaGJynpz_T2"
      }
    },
    {
      "cell_type": "code",
      "source": [
        "iron_man_1 = {'Tony', 'Warmachine'}\n",
        "iron_man_2 = {'Tony', 'Warmachine', 'Natasha'}\n",
        "print(iron_man_1.isdisjoint(iron_man_2))"
      ],
      "metadata": {
        "colab": {
          "base_uri": "https://localhost:8080/"
        },
        "id": "S5DGODwlzlyQ",
        "outputId": "c9250011-0a8f-43a9-b1f4-6447b4fbf7de"
      },
      "execution_count": null,
      "outputs": [
        {
          "output_type": "stream",
          "name": "stdout",
          "text": [
            "False\n"
          ]
        }
      ]
    },
    {
      "cell_type": "code",
      "source": [
        "print(iron_man_2.isdisjoint(iron_man_1))"
      ],
      "metadata": {
        "colab": {
          "base_uri": "https://localhost:8080/"
        },
        "id": "2x-S7Bqb0N1G",
        "outputId": "da7045b8-5d5f-4423-a44c-ff875d767d76"
      },
      "execution_count": null,
      "outputs": [
        {
          "output_type": "stream",
          "name": "stdout",
          "text": [
            "False\n"
          ]
        }
      ]
    },
    {
      "cell_type": "code",
      "source": [
        "hero_name = {'Tony', 'Steve', 'Thor'}\n",
        "villain_name = {'Thanos', 'Ultron', 'Vulture'}\n",
        "print(hero_name.isdisjoint(villain_name))"
      ],
      "metadata": {
        "colab": {
          "base_uri": "https://localhost:8080/"
        },
        "id": "hx3VI95g0Sk9",
        "outputId": "df921279-8f59-4009-9652-77be0f54022c"
      },
      "execution_count": null,
      "outputs": [
        {
          "output_type": "stream",
          "name": "stdout",
          "text": [
            "True\n"
          ]
        }
      ]
    },
    {
      "cell_type": "markdown",
      "source": [
        "## Symmetric Difference in sets --> generate a set having elements which are not common in either 1st set or 2nd set"
      ],
      "metadata": {
        "id": "aDjR2GWg1LtS"
      }
    },
    {
      "cell_type": "code",
      "source": [
        "print(hero_name.symmetric_difference(villain_name))"
      ],
      "metadata": {
        "colab": {
          "base_uri": "https://localhost:8080/"
        },
        "id": "h797K_sk0xUs",
        "outputId": "61cb5fd8-b010-4984-8771-01274a209316"
      },
      "execution_count": null,
      "outputs": [
        {
          "output_type": "stream",
          "name": "stdout",
          "text": [
            "{'Steve', 'Ultron', 'Thor', 'Vulture', 'Tony', 'Thanos'}\n"
          ]
        }
      ]
    },
    {
      "cell_type": "code",
      "source": [
        "print(hero_name ^ villain_name)"
      ],
      "metadata": {
        "colab": {
          "base_uri": "https://localhost:8080/"
        },
        "id": "DJ6Ughur1ZFh",
        "outputId": "02a683b7-70d0-4287-9496-5bc0a86b737a"
      },
      "execution_count": null,
      "outputs": [
        {
          "output_type": "stream",
          "name": "stdout",
          "text": [
            "{'Steve', 'Ultron', 'Thor', 'Vulture', 'Tony', 'Thanos'}\n"
          ]
        }
      ]
    },
    {
      "cell_type": "markdown",
      "source": [
        "## Adding elements in a set"
      ],
      "metadata": {
        "id": "rP8CQv6I2Jn-"
      }
    },
    {
      "cell_type": "code",
      "source": [
        "hero_name = {'Tony', 'Steve', 'Thor'}\n",
        "hero_name.add('Hulk')\n",
        "hero_name"
      ],
      "metadata": {
        "colab": {
          "base_uri": "https://localhost:8080/"
        },
        "id": "kaAmOUbA13H_",
        "outputId": "8da6c183-b72f-4f1f-9fbb-c4be2a8407ea"
      },
      "execution_count": null,
      "outputs": [
        {
          "output_type": "execute_result",
          "data": {
            "text/plain": [
              "{'Hulk', 'Steve', 'Thor', 'Tony'}"
            ]
          },
          "metadata": {},
          "execution_count": 41
        }
      ]
    },
    {
      "cell_type": "code",
      "source": [
        "hero_name.add('Hawkeye', 'Natasha')\n",
        "hero_name"
      ],
      "metadata": {
        "colab": {
          "base_uri": "https://localhost:8080/",
          "height": 183
        },
        "id": "Gc5CXwBq2Uns",
        "outputId": "5224b621-8122-4910-842d-5d2f4900aeb7"
      },
      "execution_count": null,
      "outputs": [
        {
          "output_type": "error",
          "ename": "TypeError",
          "evalue": "ignored",
          "traceback": [
            "\u001b[0;31m---------------------------------------------------------------------------\u001b[0m",
            "\u001b[0;31mTypeError\u001b[0m                                 Traceback (most recent call last)",
            "\u001b[0;32m<ipython-input-42-3c6be3fb27a3>\u001b[0m in \u001b[0;36m<module>\u001b[0;34m()\u001b[0m\n\u001b[0;32m----> 1\u001b[0;31m \u001b[0mhero_name\u001b[0m\u001b[0;34m.\u001b[0m\u001b[0madd\u001b[0m\u001b[0;34m(\u001b[0m\u001b[0;34m'Hawkeye'\u001b[0m\u001b[0;34m,\u001b[0m \u001b[0;34m'Natasha'\u001b[0m\u001b[0;34m)\u001b[0m\u001b[0;34m\u001b[0m\u001b[0;34m\u001b[0m\u001b[0m\n\u001b[0m\u001b[1;32m      2\u001b[0m \u001b[0mhero_name\u001b[0m\u001b[0;34m\u001b[0m\u001b[0;34m\u001b[0m\u001b[0m\n",
            "\u001b[0;31mTypeError\u001b[0m: add() takes exactly one argument (2 given)"
          ]
        }
      ]
    },
    {
      "cell_type": "code",
      "source": [
        "hero_name.add(['Hawkeye', 'Natasha'])\n",
        "hero_name"
      ],
      "metadata": {
        "colab": {
          "base_uri": "https://localhost:8080/",
          "height": 183
        },
        "id": "qlErZU7n2mhO",
        "outputId": "6dac9e2f-2da4-4352-97ae-e553255393dc"
      },
      "execution_count": null,
      "outputs": [
        {
          "output_type": "error",
          "ename": "TypeError",
          "evalue": "ignored",
          "traceback": [
            "\u001b[0;31m---------------------------------------------------------------------------\u001b[0m",
            "\u001b[0;31mTypeError\u001b[0m                                 Traceback (most recent call last)",
            "\u001b[0;32m<ipython-input-43-b898c573b9e2>\u001b[0m in \u001b[0;36m<module>\u001b[0;34m()\u001b[0m\n\u001b[0;32m----> 1\u001b[0;31m \u001b[0mhero_name\u001b[0m\u001b[0;34m.\u001b[0m\u001b[0madd\u001b[0m\u001b[0;34m(\u001b[0m\u001b[0;34m[\u001b[0m\u001b[0;34m'Hawkeye'\u001b[0m\u001b[0;34m,\u001b[0m \u001b[0;34m'Natasha'\u001b[0m\u001b[0;34m]\u001b[0m\u001b[0;34m)\u001b[0m\u001b[0;34m\u001b[0m\u001b[0;34m\u001b[0m\u001b[0m\n\u001b[0m\u001b[1;32m      2\u001b[0m \u001b[0mhero_name\u001b[0m\u001b[0;34m\u001b[0m\u001b[0;34m\u001b[0m\u001b[0m\n",
            "\u001b[0;31mTypeError\u001b[0m: unhashable type: 'list'"
          ]
        }
      ]
    },
    {
      "cell_type": "code",
      "source": [
        "hero_name.add({'Hawkeye', 'Natasha'})\n",
        "hero_name"
      ],
      "metadata": {
        "colab": {
          "base_uri": "https://localhost:8080/",
          "height": 183
        },
        "id": "t60A6pdE2srF",
        "outputId": "d6361406-4e6b-42b7-d203-3eb7d98507cf"
      },
      "execution_count": null,
      "outputs": [
        {
          "output_type": "error",
          "ename": "TypeError",
          "evalue": "ignored",
          "traceback": [
            "\u001b[0;31m---------------------------------------------------------------------------\u001b[0m",
            "\u001b[0;31mTypeError\u001b[0m                                 Traceback (most recent call last)",
            "\u001b[0;32m<ipython-input-44-03c11b5f0f75>\u001b[0m in \u001b[0;36m<module>\u001b[0;34m()\u001b[0m\n\u001b[0;32m----> 1\u001b[0;31m \u001b[0mhero_name\u001b[0m\u001b[0;34m.\u001b[0m\u001b[0madd\u001b[0m\u001b[0;34m(\u001b[0m\u001b[0;34m{\u001b[0m\u001b[0;34m'Hawkeye'\u001b[0m\u001b[0;34m,\u001b[0m \u001b[0;34m'Natasha'\u001b[0m\u001b[0;34m}\u001b[0m\u001b[0;34m)\u001b[0m\u001b[0;34m\u001b[0m\u001b[0;34m\u001b[0m\u001b[0m\n\u001b[0m\u001b[1;32m      2\u001b[0m \u001b[0mhero_name\u001b[0m\u001b[0;34m\u001b[0m\u001b[0;34m\u001b[0m\u001b[0m\n",
            "\u001b[0;31mTypeError\u001b[0m: unhashable type: 'set'"
          ]
        }
      ]
    },
    {
      "cell_type": "code",
      "source": [
        "hero_name.add(('Hawkeye', 'Natasha'))\n",
        "hero_name"
      ],
      "metadata": {
        "colab": {
          "base_uri": "https://localhost:8080/"
        },
        "id": "fUaiUTf52wYc",
        "outputId": "5d34f289-0910-4a18-986c-193a8c2588b0"
      },
      "execution_count": null,
      "outputs": [
        {
          "output_type": "execute_result",
          "data": {
            "text/plain": [
              "{('Hawkeye', 'Natasha'), 'Hulk', 'Steve', 'Thor', 'Tony'}"
            ]
          },
          "metadata": {},
          "execution_count": 45
        }
      ]
    },
    {
      "cell_type": "markdown",
      "source": [
        "## Remove elements from a set"
      ],
      "metadata": {
        "id": "n6p_U0f_2ksM"
      }
    },
    {
      "cell_type": "code",
      "source": [
        "hero = {'Hulk', 'Steve', 'Thor', 'Tony'}\n",
        "hero.remove('Thor')\n",
        "hero"
      ],
      "metadata": {
        "colab": {
          "base_uri": "https://localhost:8080/"
        },
        "id": "Qaken16Z2glc",
        "outputId": "1cae5974-2ed9-48c0-ef49-d2142d123b00"
      },
      "execution_count": null,
      "outputs": [
        {
          "output_type": "execute_result",
          "data": {
            "text/plain": [
              "{'Hulk', 'Steve', 'Tony'}"
            ]
          },
          "metadata": {},
          "execution_count": 46
        }
      ]
    },
    {
      "cell_type": "code",
      "source": [
        "hero = {'Hulk', 'Steve', 'Thor', 'Tony'}\n",
        "hero.discard('Thor')\n",
        "hero"
      ],
      "metadata": {
        "colab": {
          "base_uri": "https://localhost:8080/"
        },
        "id": "ElEPxx7y3ij4",
        "outputId": "84cf4d47-c096-4f84-9463-8d0de868c56c"
      },
      "execution_count": null,
      "outputs": [
        {
          "output_type": "execute_result",
          "data": {
            "text/plain": [
              "{'Hulk', 'Steve', 'Tony'}"
            ]
          },
          "metadata": {},
          "execution_count": 47
        }
      ]
    },
    {
      "cell_type": "code",
      "source": [
        "hero = {'Hulk', 'Steve', 'Tony'}\n",
        "hero.remove('Thor')\n",
        "hero"
      ],
      "metadata": {
        "colab": {
          "base_uri": "https://localhost:8080/",
          "height": 200
        },
        "id": "OO0dJ-cR3ppG",
        "outputId": "6bdb0607-d4e7-4d80-d3e8-fba716c12113"
      },
      "execution_count": null,
      "outputs": [
        {
          "output_type": "error",
          "ename": "KeyError",
          "evalue": "ignored",
          "traceback": [
            "\u001b[0;31m---------------------------------------------------------------------------\u001b[0m",
            "\u001b[0;31mKeyError\u001b[0m                                  Traceback (most recent call last)",
            "\u001b[0;32m<ipython-input-48-6f774dac4276>\u001b[0m in \u001b[0;36m<module>\u001b[0;34m()\u001b[0m\n\u001b[1;32m      1\u001b[0m \u001b[0mhero\u001b[0m \u001b[0;34m=\u001b[0m \u001b[0;34m{\u001b[0m\u001b[0;34m'Hulk'\u001b[0m\u001b[0;34m,\u001b[0m \u001b[0;34m'Steve'\u001b[0m\u001b[0;34m,\u001b[0m \u001b[0;34m'Tony'\u001b[0m\u001b[0;34m}\u001b[0m\u001b[0;34m\u001b[0m\u001b[0;34m\u001b[0m\u001b[0m\n\u001b[0;32m----> 2\u001b[0;31m \u001b[0mhero\u001b[0m\u001b[0;34m.\u001b[0m\u001b[0mremove\u001b[0m\u001b[0;34m(\u001b[0m\u001b[0;34m'Thor'\u001b[0m\u001b[0;34m)\u001b[0m\u001b[0;34m\u001b[0m\u001b[0;34m\u001b[0m\u001b[0m\n\u001b[0m\u001b[1;32m      3\u001b[0m \u001b[0mhero\u001b[0m\u001b[0;34m\u001b[0m\u001b[0;34m\u001b[0m\u001b[0m\n",
            "\u001b[0;31mKeyError\u001b[0m: 'Thor'"
          ]
        }
      ]
    },
    {
      "cell_type": "code",
      "source": [
        "hero = {'Hulk', 'Steve', 'Tony'}\n",
        "hero.discard('Thor')\n",
        "hero"
      ],
      "metadata": {
        "colab": {
          "base_uri": "https://localhost:8080/"
        },
        "id": "CiZn_nPB30Wm",
        "outputId": "4c73720e-c9d6-4336-b40c-1525e6b05d64"
      },
      "execution_count": null,
      "outputs": [
        {
          "output_type": "execute_result",
          "data": {
            "text/plain": [
              "{'Hulk', 'Steve', 'Tony'}"
            ]
          },
          "metadata": {},
          "execution_count": 49
        }
      ]
    },
    {
      "cell_type": "code",
      "source": [
        "hero.pop() # it will remove element randomly\n",
        "hero"
      ],
      "metadata": {
        "colab": {
          "base_uri": "https://localhost:8080/"
        },
        "id": "Q4KTr75e34y9",
        "outputId": "a18d3407-c449-4904-a2b6-c12a4abd9202"
      },
      "execution_count": null,
      "outputs": [
        {
          "output_type": "execute_result",
          "data": {
            "text/plain": [
              "{'Hulk', 'Tony'}"
            ]
          },
          "metadata": {},
          "execution_count": 50
        }
      ]
    },
    {
      "cell_type": "code",
      "source": [
        "hero.pop() # it will remove element randomly\n",
        "hero"
      ],
      "metadata": {
        "colab": {
          "base_uri": "https://localhost:8080/"
        },
        "id": "7BiurIl94MJ9",
        "outputId": "81fb574f-5bc7-476b-b04b-604fbffa286c"
      },
      "execution_count": null,
      "outputs": [
        {
          "output_type": "execute_result",
          "data": {
            "text/plain": [
              "{'Tony'}"
            ]
          },
          "metadata": {},
          "execution_count": 51
        }
      ]
    },
    {
      "cell_type": "code",
      "source": [
        "hero.pop() # it will remove element randomly\n",
        "hero"
      ],
      "metadata": {
        "colab": {
          "base_uri": "https://localhost:8080/"
        },
        "id": "OH_UjK7s4YgD",
        "outputId": "4c3e0436-ddd8-4f57-c818-e04f84edf998"
      },
      "execution_count": null,
      "outputs": [
        {
          "output_type": "execute_result",
          "data": {
            "text/plain": [
              "set()"
            ]
          },
          "metadata": {},
          "execution_count": 52
        }
      ]
    },
    {
      "cell_type": "code",
      "source": [
        "hero.pop() # it will remove element randomly\n",
        "hero"
      ],
      "metadata": {
        "colab": {
          "base_uri": "https://localhost:8080/",
          "height": 183
        },
        "id": "hr4QMMZW4aG8",
        "outputId": "21fcd687-72d8-4dab-fb97-3627c6cc9332"
      },
      "execution_count": null,
      "outputs": [
        {
          "output_type": "error",
          "ename": "KeyError",
          "evalue": "ignored",
          "traceback": [
            "\u001b[0;31m---------------------------------------------------------------------------\u001b[0m",
            "\u001b[0;31mKeyError\u001b[0m                                  Traceback (most recent call last)",
            "\u001b[0;32m<ipython-input-53-3713be9f6c55>\u001b[0m in \u001b[0;36m<module>\u001b[0;34m()\u001b[0m\n\u001b[0;32m----> 1\u001b[0;31m \u001b[0mhero\u001b[0m\u001b[0;34m.\u001b[0m\u001b[0mpop\u001b[0m\u001b[0;34m(\u001b[0m\u001b[0;34m)\u001b[0m \u001b[0;31m# it will remove element randomly\u001b[0m\u001b[0;34m\u001b[0m\u001b[0;34m\u001b[0m\u001b[0m\n\u001b[0m\u001b[1;32m      2\u001b[0m \u001b[0mhero\u001b[0m\u001b[0;34m\u001b[0m\u001b[0;34m\u001b[0m\u001b[0m\n",
            "\u001b[0;31mKeyError\u001b[0m: 'pop from an empty set'"
          ]
        }
      ]
    },
    {
      "cell_type": "code",
      "source": [
        "hero = {'Hulk', 'Steve', 'Tony'}\n",
        "hero.clear()\n",
        "hero"
      ],
      "metadata": {
        "colab": {
          "base_uri": "https://localhost:8080/"
        },
        "id": "_IoF7GOq4dLU",
        "outputId": "babd0a22-0c6e-4413-92cd-2d6e52a599b5"
      },
      "execution_count": null,
      "outputs": [
        {
          "output_type": "execute_result",
          "data": {
            "text/plain": [
              "set()"
            ]
          },
          "metadata": {},
          "execution_count": 54
        }
      ]
    },
    {
      "cell_type": "code",
      "source": [
        "hero = {'Hulk', 'Steve', 'Tony'}\n",
        "hero.pop('Hulk')\n",
        "hero"
      ],
      "metadata": {
        "colab": {
          "base_uri": "https://localhost:8080/",
          "height": 200
        },
        "id": "0-bZpxvE4mtT",
        "outputId": "667fde44-4506-47d0-b916-28474a1ede72"
      },
      "execution_count": null,
      "outputs": [
        {
          "output_type": "error",
          "ename": "TypeError",
          "evalue": "ignored",
          "traceback": [
            "\u001b[0;31m---------------------------------------------------------------------------\u001b[0m",
            "\u001b[0;31mTypeError\u001b[0m                                 Traceback (most recent call last)",
            "\u001b[0;32m<ipython-input-55-8cf389d49c9e>\u001b[0m in \u001b[0;36m<module>\u001b[0;34m()\u001b[0m\n\u001b[1;32m      1\u001b[0m \u001b[0mhero\u001b[0m \u001b[0;34m=\u001b[0m \u001b[0;34m{\u001b[0m\u001b[0;34m'Hulk'\u001b[0m\u001b[0;34m,\u001b[0m \u001b[0;34m'Steve'\u001b[0m\u001b[0;34m,\u001b[0m \u001b[0;34m'Tony'\u001b[0m\u001b[0;34m}\u001b[0m\u001b[0;34m\u001b[0m\u001b[0;34m\u001b[0m\u001b[0m\n\u001b[0;32m----> 2\u001b[0;31m \u001b[0mhero\u001b[0m\u001b[0;34m.\u001b[0m\u001b[0mpop\u001b[0m\u001b[0;34m(\u001b[0m\u001b[0;34m'Hulk'\u001b[0m\u001b[0;34m)\u001b[0m\u001b[0;34m\u001b[0m\u001b[0;34m\u001b[0m\u001b[0m\n\u001b[0m\u001b[1;32m      3\u001b[0m \u001b[0mhero\u001b[0m\u001b[0;34m\u001b[0m\u001b[0;34m\u001b[0m\u001b[0m\n",
            "\u001b[0;31mTypeError\u001b[0m: pop() takes no arguments (1 given)"
          ]
        }
      ]
    },
    {
      "cell_type": "markdown",
      "source": [
        "## Augmented Assignment Operator"
      ],
      "metadata": {
        "id": "axDFAiRI5Biy"
      }
    },
    {
      "cell_type": "code",
      "source": [
        "# a = a + b\n",
        "# a += b"
      ],
      "metadata": {
        "id": "5JozKCRW41eC"
      },
      "execution_count": null,
      "outputs": []
    },
    {
      "cell_type": "code",
      "source": [
        "# a = a | b\n",
        "# a |= b"
      ],
      "metadata": {
        "id": "h2OgVUFb5WLc"
      },
      "execution_count": null,
      "outputs": []
    },
    {
      "cell_type": "code",
      "source": [
        "# a.union(b) --> a.union_update(b)\n",
        "# a.intersection(b) --> a.intersection_update(b)"
      ],
      "metadata": {
        "id": "r939cQNW5t5D"
      },
      "execution_count": null,
      "outputs": []
    },
    {
      "cell_type": "markdown",
      "source": [
        "## Frozen Sets"
      ],
      "metadata": {
        "id": "siuGzoGQ6DQX"
      }
    },
    {
      "cell_type": "code",
      "source": [
        "hero = frozenset(['Hulk', 'Steve', 'Tony'])\n",
        "print(hero)\n",
        "print(type(hero))"
      ],
      "metadata": {
        "colab": {
          "base_uri": "https://localhost:8080/"
        },
        "id": "OeiXs9Jo6H1v",
        "outputId": "c0e58e4a-f032-4618-92f5-29043a9c7199"
      },
      "execution_count": null,
      "outputs": [
        {
          "output_type": "stream",
          "name": "stdout",
          "text": [
            "frozenset({'Steve', 'Hulk', 'Tony'})\n",
            "<class 'frozenset'>\n"
          ]
        }
      ]
    },
    {
      "cell_type": "code",
      "source": [
        "hero.pop()\n",
        "hero"
      ],
      "metadata": {
        "colab": {
          "base_uri": "https://localhost:8080/",
          "height": 183
        },
        "id": "vfif3m-U6fvE",
        "outputId": "f604dd2e-bafe-4405-8630-fc985e9f15f1"
      },
      "execution_count": null,
      "outputs": [
        {
          "output_type": "error",
          "ename": "AttributeError",
          "evalue": "ignored",
          "traceback": [
            "\u001b[0;31m---------------------------------------------------------------------------\u001b[0m",
            "\u001b[0;31mAttributeError\u001b[0m                            Traceback (most recent call last)",
            "\u001b[0;32m<ipython-input-59-5e05cea85b48>\u001b[0m in \u001b[0;36m<module>\u001b[0;34m()\u001b[0m\n\u001b[0;32m----> 1\u001b[0;31m \u001b[0mhero\u001b[0m\u001b[0;34m.\u001b[0m\u001b[0mpop\u001b[0m\u001b[0;34m(\u001b[0m\u001b[0;34m)\u001b[0m\u001b[0;34m\u001b[0m\u001b[0;34m\u001b[0m\u001b[0m\n\u001b[0m\u001b[1;32m      2\u001b[0m \u001b[0mhero\u001b[0m\u001b[0;34m\u001b[0m\u001b[0;34m\u001b[0m\u001b[0m\n",
            "\u001b[0;31mAttributeError\u001b[0m: 'frozenset' object has no attribute 'pop'"
          ]
        }
      ]
    },
    {
      "cell_type": "code",
      "source": [
        "hero.clear()\n",
        "hero"
      ],
      "metadata": {
        "colab": {
          "base_uri": "https://localhost:8080/",
          "height": 183
        },
        "id": "v2MfGA1y6qiX",
        "outputId": "0aa50f44-037e-48e4-d3c1-460a01f05244"
      },
      "execution_count": null,
      "outputs": [
        {
          "output_type": "error",
          "ename": "AttributeError",
          "evalue": "ignored",
          "traceback": [
            "\u001b[0;31m---------------------------------------------------------------------------\u001b[0m",
            "\u001b[0;31mAttributeError\u001b[0m                            Traceback (most recent call last)",
            "\u001b[0;32m<ipython-input-60-b590bd682be5>\u001b[0m in \u001b[0;36m<module>\u001b[0;34m()\u001b[0m\n\u001b[0;32m----> 1\u001b[0;31m \u001b[0mhero\u001b[0m\u001b[0;34m.\u001b[0m\u001b[0mclear\u001b[0m\u001b[0;34m(\u001b[0m\u001b[0;34m)\u001b[0m\u001b[0;34m\u001b[0m\u001b[0;34m\u001b[0m\u001b[0m\n\u001b[0m\u001b[1;32m      2\u001b[0m \u001b[0mhero\u001b[0m\u001b[0;34m\u001b[0m\u001b[0;34m\u001b[0m\u001b[0m\n",
            "\u001b[0;31mAttributeError\u001b[0m: 'frozenset' object has no attribute 'clear'"
          ]
        }
      ]
    },
    {
      "cell_type": "code",
      "source": [
        "hero.add('Thor')\n",
        "hero"
      ],
      "metadata": {
        "colab": {
          "base_uri": "https://localhost:8080/",
          "height": 183
        },
        "id": "MFfvYN616xmv",
        "outputId": "3b255987-70da-4305-adef-2f55f14aacb8"
      },
      "execution_count": null,
      "outputs": [
        {
          "output_type": "error",
          "ename": "AttributeError",
          "evalue": "ignored",
          "traceback": [
            "\u001b[0;31m---------------------------------------------------------------------------\u001b[0m",
            "\u001b[0;31mAttributeError\u001b[0m                            Traceback (most recent call last)",
            "\u001b[0;32m<ipython-input-61-11f35f92c9af>\u001b[0m in \u001b[0;36m<module>\u001b[0;34m()\u001b[0m\n\u001b[0;32m----> 1\u001b[0;31m \u001b[0mhero\u001b[0m\u001b[0;34m.\u001b[0m\u001b[0madd\u001b[0m\u001b[0;34m(\u001b[0m\u001b[0;34m'Thor'\u001b[0m\u001b[0;34m)\u001b[0m\u001b[0;34m\u001b[0m\u001b[0;34m\u001b[0m\u001b[0m\n\u001b[0m\u001b[1;32m      2\u001b[0m \u001b[0mhero\u001b[0m\u001b[0;34m\u001b[0m\u001b[0;34m\u001b[0m\u001b[0m\n",
            "\u001b[0;31mAttributeError\u001b[0m: 'frozenset' object has no attribute 'add'"
          ]
        }
      ]
    },
    {
      "cell_type": "code",
      "source": [
        "hero = frozenset(['Hulk', 'Steve', 'Tony'])\n",
        "print(hero)\n",
        "new_hero = {'Strange', 'Spiderman'}\n",
        "hero |= new_hero\n",
        "print(hero)"
      ],
      "metadata": {
        "colab": {
          "base_uri": "https://localhost:8080/"
        },
        "id": "rFXrG_YF62Vy",
        "outputId": "32f8c872-f8be-4869-ce44-3b71f0c95e0e"
      },
      "execution_count": null,
      "outputs": [
        {
          "output_type": "stream",
          "name": "stdout",
          "text": [
            "frozenset({'Steve', 'Hulk', 'Tony'})\n",
            "frozenset({'Steve', 'Tony', 'Hulk', 'Strange', 'Spiderman'})\n"
          ]
        }
      ]
    },
    {
      "cell_type": "code",
      "source": [
        "hero = frozenset(['Hulk', 'Steve', 'Tony'])\n",
        "print(id(hero))\n",
        "new_hero = {'Strange', 'Spiderman'}\n",
        "hero |= new_hero\n",
        "print(id(hero))"
      ],
      "metadata": {
        "colab": {
          "base_uri": "https://localhost:8080/"
        },
        "id": "VKVdGMep7a5Z",
        "outputId": "d7c23524-918d-4002-81ef-349f7766df89"
      },
      "execution_count": null,
      "outputs": [
        {
          "output_type": "stream",
          "name": "stdout",
          "text": [
            "140329958427776\n",
            "140329958427296\n"
          ]
        }
      ]
    },
    {
      "cell_type": "markdown",
      "source": [
        "## Set Comprehension"
      ],
      "metadata": {
        "id": "7j-_CyI38T-s"
      }
    },
    {
      "cell_type": "code",
      "source": [
        "num = [4, 3, 2, 1, 1, 5, 3, 4]\n",
        "set_com = {i for i in num}\n",
        "print(set_com)"
      ],
      "metadata": {
        "colab": {
          "base_uri": "https://localhost:8080/"
        },
        "id": "TGvphf1u8BXI",
        "outputId": "104520e3-f154-49e4-94b7-c232f3b56a47"
      },
      "execution_count": null,
      "outputs": [
        {
          "output_type": "stream",
          "name": "stdout",
          "text": [
            "{1, 2, 3, 4, 5}\n"
          ]
        }
      ]
    },
    {
      "cell_type": "code",
      "source": [
        ""
      ],
      "metadata": {
        "id": "dbFAUtVy8sTz"
      },
      "execution_count": null,
      "outputs": []
    }
  ]
}