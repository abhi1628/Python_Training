{
  "nbformat": 4,
  "nbformat_minor": 0,
  "metadata": {
    "colab": {
      "name": "2 Imp Concepts.ipynb",
      "provenance": [],
      "collapsed_sections": [],
      "authorship_tag": "ABX9TyOIracmnhR6kBww53raHjm5",
      "include_colab_link": true
    },
    "kernelspec": {
      "name": "python3",
      "display_name": "Python 3"
    },
    "language_info": {
      "name": "python"
    }
  },
  "cells": [
    {
      "cell_type": "markdown",
      "metadata": {
        "id": "view-in-github",
        "colab_type": "text"
      },
      "source": [
        "<a href=\"https://colab.research.google.com/github/abhi1628/Python_Training/blob/main/2_Imp_Concepts.ipynb\" target=\"_parent\"><img src=\"https://colab.research.google.com/assets/colab-badge.svg\" alt=\"Open In Colab\"/></a>"
      ]
    },
    {
      "cell_type": "markdown",
      "source": [
        "## Duck Typing\n",
        "### Duck Typing means that an object is defined by what it can do, not by what it is."
      ],
      "metadata": {
        "id": "3vruWw4c1SkL"
      }
    },
    {
      "cell_type": "code",
      "execution_count": 1,
      "metadata": {
        "colab": {
          "base_uri": "https://localhost:8080/"
        },
        "id": "ZiwemOvZxmBm",
        "outputId": "4692e243-a950-42cf-b401-c9c83d7d0767"
      },
      "outputs": [
        {
          "output_type": "stream",
          "name": "stdout",
          "text": [
            "Compiling\n",
            "Executing\n",
            "Auto Completion\n"
          ]
        }
      ],
      "source": [
        "class Pycharm:\n",
        "  def execute(self):\n",
        "    print('Compiling')\n",
        "    print('Executing')\n",
        "\n",
        "class VSC:\n",
        "  def execute(self):\n",
        "    print('Compiling')\n",
        "    print('Executing')\n",
        "    print('Auto Completion')\n",
        "\n",
        "class Laptop:\n",
        "  def code(self, editor):\n",
        "    editor.execute()\n",
        "\n",
        "lap = Laptop()\n",
        "ide = VSC()\n",
        "lap.code(ide)"
      ]
    },
    {
      "cell_type": "markdown",
      "source": [
        "## Monkey Patch\n",
        "### In Python, the term monkey patch refers to dynamic (or run-time) modifications of a class or module. In Python, we can actually change the behavior of code at run-time."
      ],
      "metadata": {
        "id": "I1QBS-qA1Z06"
      }
    },
    {
      "cell_type": "code",
      "source": [
        "class Test:\n",
        "  def __init__(self, x):\n",
        "    self.a = x\n",
        "  def get_data(self):\n",
        "    print('Get data from Database')\n",
        "  def f1(self):\n",
        "    self.get_data()\n",
        "  def f2(self):\n",
        "    self.get_data()\n",
        "\n",
        "t1 = Test(5)\n",
        "print('Before Monkey Patching')\n",
        "t1.f1()\n",
        "t1.f2()\n",
        "def new_get_data(self):\n",
        "  print('Get data from Local Disk')\n",
        "Test.get_data = new_get_data\n",
        "print('After Monkey Patching')\n",
        "t1.f1()\n",
        "t1.f2()"
      ],
      "metadata": {
        "colab": {
          "base_uri": "https://localhost:8080/"
        },
        "id": "oJ-7Gpf_1Y_r",
        "outputId": "d6bab8dc-9f34-4506-eab1-51418a5d463e"
      },
      "execution_count": 8,
      "outputs": [
        {
          "output_type": "stream",
          "name": "stdout",
          "text": [
            "Before Monkey Patching\n",
            "Get data from Database\n",
            "Get data from Database\n",
            "After Monkey Patching\n",
            "Get data from Local Disk\n",
            "Get data from Local Disk\n"
          ]
        }
      ]
    },
    {
      "cell_type": "code",
      "source": [
        ""
      ],
      "metadata": {
        "id": "vQ8LQl3d2U8y"
      },
      "execution_count": null,
      "outputs": []
    }
  ]
}